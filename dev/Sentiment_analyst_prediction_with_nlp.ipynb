{
  "nbformat": 4,
  "nbformat_minor": 0,
  "metadata": {
    "colab": {
      "provenance": [],
      "gpuType": "T4",
      "authorship_tag": "ABX9TyNJfZEmjRUj2KLPrc6HY1Qz",
      "include_colab_link": true
    },
    "kernelspec": {
      "name": "python3",
      "display_name": "Python 3"
    },
    "language_info": {
      "name": "python"
    },
    "accelerator": "GPU"
  },
  "cells": [
    {
      "cell_type": "markdown",
      "metadata": {
        "id": "view-in-github",
        "colab_type": "text"
      },
      "source": [
        "<a href=\"https://colab.research.google.com/github/sayid-alt/sentiment-analysis-nlp/blob/rnn-cnn-comparing/dev/Sentiment_analyst_prediction_with_nlp.ipynb\" target=\"_parent\"><img src=\"https://colab.research.google.com/assets/colab-badge.svg\" alt=\"Open In Colab\"/></a>"
      ]
    },
    {
      "cell_type": "markdown",
      "source": [
        "dataset: [kaggle](https://www.kaggle.com/datasets/damirolejar/sentiment-analysis-nlp-trainset-data?select=final_negative.txt)\n",
        "\n",
        "See copied project on [github](https://github.com/sayid-alt/sentiment-analysis-nlp)"
      ],
      "metadata": {
        "id": "F9H5Yfrq0vYW"
      }
    },
    {
      "cell_type": "markdown",
      "source": [
        "# Import library"
      ],
      "metadata": {
        "id": "Pbj4dcEwJy6G"
      }
    },
    {
      "cell_type": "code",
      "execution_count": 1,
      "metadata": {
        "id": "4tt4urRzC3AO"
      },
      "outputs": [],
      "source": [
        "import tensorflow as tf\n",
        "import pandas as pd\n",
        "import matplotlib.pyplot as plt\n",
        "import numpy as np\n",
        "import seaborn as sns\n",
        "import pickle\n",
        "\n",
        "from sklearn.model_selection import train_test_split\n",
        "\n",
        "from tensorflow.keras.preprocessing.text import Tokenizer\n",
        "from tensorflow.keras.preprocessing.sequence import pad_sequences\n",
        "from tensorflow.keras.layers import Dense, GlobalAveragePooling1D, Embedding, Flatten, Dropout, LSTM, Bidirectional, Conv1D, MaxPooling1D\n",
        "from tensorflow.keras.callbacks import CSVLogger, ModelCheckpoint, EarlyStopping\n",
        "\n",
        "from sklearn.metrics import ConfusionMatrixDisplay, f1_score, precision_score, recall_score, precision_recall_curve,precision_recall_curve, PrecisionRecallDisplay\n",
        "from sklearn.preprocessing import label_binarize\n",
        "\n",
        "from google.colab import files\n",
        "\n",
        "import os\n",
        "import zipfile\n",
        "import urllib.request"
      ]
    },
    {
      "cell_type": "markdown",
      "source": [
        "# Utilities"
      ],
      "metadata": {
        "id": "cS4pCtE5KavM"
      }
    },
    {
      "cell_type": "code",
      "source": [
        "DOWNLOAD_URL = 'https://github.com/sayid-alt/sentiment-analysis-nlp/raw/main/data/text.zip'\n",
        "DOWNLOAD_DIR = os.path.join(os.getcwd(), 'datasets')\n",
        "\n",
        "def download_data(url=DOWNLOAD_URL, dir=DOWNLOAD_DIR):\n",
        "    # Downloading data\n",
        "    print('Downloading data...')\n",
        "    if not os.path.exists(dir):\n",
        "        os.makedirs(dir)\n",
        "\n",
        "    zip_path = os.path.join(dir, 'text.zip')\n",
        "    urllib.request.urlretrieve(url, zip_path)\n",
        "    print(f'Success downloading data to {zip_path}')\n",
        "\n",
        "    # Extract zip file\n",
        "    with zipfile.ZipFile(zip_path, 'r') as zip_ref:\n",
        "        zip_ref.extractall(dir)\n",
        "        print(f'Success extracting data to {dir}')\n",
        "\n",
        "\n",
        "# prep data from text file to variable in list type\n",
        "def prep_data_txt(filepath):\n",
        "  '''\n",
        "    filepath: path for text file\n",
        "    return: list of text\n",
        "  '''\n",
        "  datalist = []\n",
        "  with open(filepath, 'r') as file:\n",
        "    lines = file.readlines()\n",
        "    for line in lines:\n",
        "      datalist.append(line.strip())\n",
        "  return datalist\n",
        "\n",
        "# retrieve data\n",
        "def retrieve_sentiment_data():\n",
        "  '''\n",
        "    return: neg_text, pos_text, ne_text as the dataset for sentiment analysis\n",
        "  '''\n",
        "  neg_text = prep_data_txt(os.path.join(data_dir, 'final_negative.txt')) #negative data\n",
        "  pos_text = prep_data_txt(os.path.join(data_dir, 'final_positive.txt'))# positif data\n",
        "  ne_text = prep_data_txt(os.path.join(data_dir, 'final_neutral.txt'))\n",
        "\n",
        "  print(f'Negative data length: {len(neg_text)}')\n",
        "  print(f'Positive data length: {len(pos_text)}')\n",
        "  print(f'neutral data length: {len(ne_text)}')\n",
        "\n",
        "  print(f'Negative data sample: {neg_text[:5]}')\n",
        "  print(f'Positive data sample: {pos_text[:5]}')\n",
        "  print(f'neutral data sample: {ne_text[:5]}')\n",
        "\n",
        "  return neg_text, pos_text, ne_text\n",
        "\n",
        "\n",
        "def stratified_split(df):\n",
        "  # split data using stratified with size train/val/test 80/10/10 respectively\n",
        "  df_train, df_test = train_test_split(df,\n",
        "                                       test_size=0.2,\n",
        "                                       random_state=42,\n",
        "                                       stratify=df['label'])\n",
        "\n",
        "\n",
        "  # split throug test size for get validation split\n",
        "  df_val, df_test = train_test_split(df_test,\n",
        "                                     test_size=0.5,\n",
        "                                     random_state=42,\n",
        "                                     stratify=df_test['label'])\n",
        "\n",
        "  value_count = df['label'].value_counts()\n",
        "  train_count = df_train['label'].value_counts()\n",
        "  val_count = df_val['label'].value_counts()\n",
        "  test_count = df_test['label'].value_counts()\n",
        "\n",
        "  print(f'Value count:\\n{value_count}')\n",
        "  print(f'-----------\\nTrain count:\\n{train_count}')\n",
        "  print(f'Val count:\\n{val_count}')\n",
        "  print(f'Test count:\\n{test_count}')\n",
        "\n",
        "  return df_train, df_val, df_test\n",
        "\n",
        "def check_distribution(labels,\n",
        "                       title=None,\n",
        "                       xlabel='Labels',\n",
        "                       ylabel='Frequency'\n",
        "                       ):\n",
        "  plt.figure(figsize=(5, 4))\n",
        "  sns.histplot(labels, bins=3, color='skyblue')\n",
        "  plt.title(title)\n",
        "  plt.xlabel(xlabel)\n",
        "  plt.ylabel(ylabel)\n",
        "  plt.show()\n",
        "\n",
        "def check_split_distribution(labels):\n",
        "  fig, ax = plt.subplots(nrows=1, ncols=3, figsize=(15, 4))\n",
        "\n",
        "  for i, label in enumerate(labels):\n",
        "    label.hist(ax=ax[i], bins=3, color='skyblue')\n",
        "    ax[i].set_xlabel('Labels')\n",
        "    ax[i].set_ylabel('Frequency')\n",
        "  plt.show()\n",
        "\n",
        "# Plot utility\n",
        "def plot_graphs(history, strings=['accuracy', 'loss']):\n",
        "  fig, ax = plt.subplots(figsize=(15, 4), nrows=1, ncols=2)\n",
        "\n",
        "  for i, string in enumerate(strings):\n",
        "    ax[i].plot(history.history[string])\n",
        "    ax[i].plot(history.history['val_'+string])\n",
        "\n",
        "    ax[i].set_xlabel(\"Epochs\")\n",
        "    ax[i].set_ylabel(string)\n",
        "    ax[i].legend([string, 'val_'+string])\n",
        "    ax[i].set_title('History Model in Epochs')\n",
        "\n",
        "  plt.show()\n",
        "\n",
        "def plot_compare_graphs(models, model_names, strings=['accuracy', 'loss'] ):\n",
        "  # Sample accuracy data for two models (replace these with your actual values)\n",
        "  epochs = range(1, 11)  # Assuming training for 10 epochs\n",
        "\n",
        "  # main colors plot [acc, loss]\n",
        "  colors = ['darkorange', 'darkgreen']\n",
        "  # val colors plot [val_acc, val_loss]\n",
        "  val_colors = ['burlywood', 'darkseagreen']\n",
        "\n",
        "  # Plot the data\n",
        "  fig, ax = plt.subplots(figsize=(15, 4), nrows=1, ncols=2)\n",
        "\n",
        "  for i in range(len(models)):\n",
        "    for j, string in enumerate(strings):\n",
        "      ax[j].plot(epochs, models[i].history[string], label=f'{model_names[i]} Training {string}', color=colors[i], marker='o', linestyle='-')\n",
        "      ax[j].plot(epochs, models[i].history['val_'+string], label=f'{model_names[i]} Validation {string}', color=val_colors[i], marker='o', linestyle='-')\n",
        "\n",
        "      ax[j].set_xlabel(\"Epochs\")\n",
        "      ax[j].set_ylabel(string)\n",
        "      ax[j].legend()\n",
        "      ax[j].set_title(f'History Model in Epochs of {string}')\n",
        "\n",
        "  plt.show()\n"
      ],
      "metadata": {
        "id": "QdPLsIjDKcl9"
      },
      "execution_count": 64,
      "outputs": []
    },
    {
      "cell_type": "markdown",
      "source": [
        "# Download data"
      ],
      "metadata": {
        "id": "GCT3K_wdJ1Dd"
      }
    },
    {
      "cell_type": "code",
      "source": [
        "download_data()"
      ],
      "metadata": {
        "colab": {
          "base_uri": "https://localhost:8080/"
        },
        "id": "mSF44qujDris",
        "outputId": "6b44730d-29ff-45ea-9299-74c2054b0c0e"
      },
      "execution_count": 3,
      "outputs": [
        {
          "output_type": "stream",
          "name": "stdout",
          "text": [
            "Downloading data...\n",
            "Success downloading data to /content/datasets/text.zip\n",
            "Success extracting data to /content/datasets\n"
          ]
        }
      ]
    },
    {
      "cell_type": "markdown",
      "source": [
        "# Generate Data"
      ],
      "metadata": {
        "id": "QhM7ojuSJ3ri"
      }
    },
    {
      "cell_type": "code",
      "source": [
        "data_dir = os.path.join(DOWNLOAD_DIR, 'text')\n",
        "print(os.listdir(data_dir))"
      ],
      "metadata": {
        "colab": {
          "base_uri": "https://localhost:8080/"
        },
        "id": "mOgi7a6cHS8w",
        "outputId": "231c7e9e-8697-4ebc-c144-7b18861fd67d"
      },
      "execution_count": 4,
      "outputs": [
        {
          "output_type": "stream",
          "name": "stdout",
          "text": [
            "['final_positive.txt', 'final_neutral.txt', 'final_negative.txt']\n"
          ]
        }
      ]
    },
    {
      "cell_type": "code",
      "source": [
        "neg_text, pos_text, ne_text = retrieve_sentiment_data()"
      ],
      "metadata": {
        "colab": {
          "base_uri": "https://localhost:8080/"
        },
        "id": "peXe1KZ2LWaX",
        "outputId": "c191be96-0bcb-45b7-990c-062eff853e11"
      },
      "execution_count": 5,
      "outputs": [
        {
          "output_type": "stream",
          "name": "stdout",
          "text": [
            "Negative data length: 99999\n",
            "Positive data length: 100000\n",
            "neutral data length: 99999\n",
            "Negative data sample: ['Mothers will not give their sons as sacrifices upon the battlefield after twenty years of anxiety and loving devotion in rearing them from infancy, no matter what cause they are called upon to defend.', 'That which was meant to be conducive to life has become the cause of death; that which should have been an evidence of knowledge is now a proof of ignorance; that which was a factor in the sublimity of human nature has proved to be its degradation.', 'The Jews were expecting the appearance of the Messiah, looking forward to it with devotion of heart and soul, but because they were submerged in imitations, they did not believe in Jesus Christ when He appeared.', 'We have forsaken the path of God; we have given up attention to the divine Kingdom; we have not severed the heart from worldly attractions; we have become defiled with qualities which are not praiseworthy in the sight of God; we are so completely steeped in material issues and tendencies that we are not partakers of the virtues of humanity.', 'Sixth, the Messiah was to gather together all the Jews who were scattered in Palestine and restore them to honor and prestige, but this one has degraded the Jews instead of uplifting them.']\n",
            "Positive data sample: ['The unity which is productive of unlimited results is first a unity of mankind which recognizes that all are sheltered beneath the overshadowing glory of the All-Glorious, that all are servants of one God; for all breathe the same atmosphere, live upon the same earth, move beneath the same heavens, receive effulgence from the same sun and are under the protection of one God.', 'Nevertheless, it is certain that the radiance and favors of God are encompassing, minds have developed, perceptions have become acute, sciences and arts are widespread, and capacity exists for the proclamation and promulgation of the real and ultimate unity of mankind, which will bring forth marvelous results.', \"It is the unity which through the influence of the divine spirit is permeating the Baha'is so that each offers his life for the other and strives with all sincerity to attain his good pleasure.\", 'Every soul who believed in Jesus Christ became revivified and resuscitated through this spirit, attained to the zenith of eternal glory, realized the everlasting life, experienced the second birth and rose to the acme of good fortune.', 'Verily, they have gathered in this temple to turn to Thy face of glory, holding to the hem of Thy garment and to Thy singleness, seeking Thy good pleasure and ascent into Thy Kingdom.']\n",
            "neutral data sample: ['When subjected to banishment by two kings, while a refugee from enemies of all nations and during the days of His long imprisonment He wrote to the kings and rulers of the world in words of wonderful eloquence, arraigning them severely and summoning them to the divine standard of unity and justice.', 'He exhorted them to peace and international agreement, making it incumbent upon them to establish a board of international arbitration--that from all nations and governments of the world there should be delegates selected for a congress of nations which should constitute a universal arbitral court of justice to settle international disputes.', 'While in prison He stood against the _Sh_ah of Persia and Sultan of Turkey and promulgated His teachings until He firmly established the banner of truth and the oneness of humankind.', \"I was a prisoner with Him for forty years until the Young Turks of the Committee of Union and Progress overthrew the despotism of Abdu'l-Hamid, dethroned him and proclaimed liberty.\", \"Every soul who lives according to the teachings of Baha'u'llah is free from the ailments and indispositions which prevail throughout the world of humanity; otherwise, selfish disorders, intellectual maladies, spiritual sicknesses, imperfections and vices will surround him, and he will not receive the life-giving bounties of God.\"]\n"
          ]
        }
      ]
    },
    {
      "cell_type": "markdown",
      "source": [
        "# Data Preprocessing"
      ],
      "metadata": {
        "id": "Chf4HkiTN2XR"
      }
    },
    {
      "cell_type": "markdown",
      "source": [
        "## Distribution"
      ],
      "metadata": {
        "id": "-Ps8Z3AzOFzt"
      }
    },
    {
      "cell_type": "markdown",
      "source": [
        "Below we merge all data into 3 sentiment categories:\n",
        "- 0: Negative sentiment\n",
        "- 1: Positif sentiment\n",
        "- 2: neutral sentimen"
      ],
      "metadata": {
        "id": "D8nuYAL_cClc"
      }
    },
    {
      "cell_type": "code",
      "source": [
        "df = pd.DataFrame({\n",
        "    'sentiment' : neg_text + pos_text + ne_text,\n",
        "    'label' : ['negative'] * len(neg_text) + ['positive'] * len(pos_text) + ['neutral'] * len(ne_text)\n",
        "})\n",
        "df.head()"
      ],
      "metadata": {
        "colab": {
          "base_uri": "https://localhost:8080/",
          "height": 206
        },
        "id": "OAgMJ2SDLl5K",
        "outputId": "8b8dce7d-0daf-48de-e8ad-77cbe5cfc125"
      },
      "execution_count": 6,
      "outputs": [
        {
          "output_type": "execute_result",
          "data": {
            "text/plain": [
              "                                           sentiment     label\n",
              "0  Mothers will not give their sons as sacrifices...  negative\n",
              "1  That which was meant to be conducive to life h...  negative\n",
              "2  The Jews were expecting the appearance of the ...  negative\n",
              "3  We have forsaken the path of God; we have give...  negative\n",
              "4  Sixth, the Messiah was to gather together all ...  negative"
            ],
            "text/html": [
              "\n",
              "  <div id=\"df-0b737b0e-4ec1-40af-a9bc-0f08acb5abfd\" class=\"colab-df-container\">\n",
              "    <div>\n",
              "<style scoped>\n",
              "    .dataframe tbody tr th:only-of-type {\n",
              "        vertical-align: middle;\n",
              "    }\n",
              "\n",
              "    .dataframe tbody tr th {\n",
              "        vertical-align: top;\n",
              "    }\n",
              "\n",
              "    .dataframe thead th {\n",
              "        text-align: right;\n",
              "    }\n",
              "</style>\n",
              "<table border=\"1\" class=\"dataframe\">\n",
              "  <thead>\n",
              "    <tr style=\"text-align: right;\">\n",
              "      <th></th>\n",
              "      <th>sentiment</th>\n",
              "      <th>label</th>\n",
              "    </tr>\n",
              "  </thead>\n",
              "  <tbody>\n",
              "    <tr>\n",
              "      <th>0</th>\n",
              "      <td>Mothers will not give their sons as sacrifices...</td>\n",
              "      <td>negative</td>\n",
              "    </tr>\n",
              "    <tr>\n",
              "      <th>1</th>\n",
              "      <td>That which was meant to be conducive to life h...</td>\n",
              "      <td>negative</td>\n",
              "    </tr>\n",
              "    <tr>\n",
              "      <th>2</th>\n",
              "      <td>The Jews were expecting the appearance of the ...</td>\n",
              "      <td>negative</td>\n",
              "    </tr>\n",
              "    <tr>\n",
              "      <th>3</th>\n",
              "      <td>We have forsaken the path of God; we have give...</td>\n",
              "      <td>negative</td>\n",
              "    </tr>\n",
              "    <tr>\n",
              "      <th>4</th>\n",
              "      <td>Sixth, the Messiah was to gather together all ...</td>\n",
              "      <td>negative</td>\n",
              "    </tr>\n",
              "  </tbody>\n",
              "</table>\n",
              "</div>\n",
              "    <div class=\"colab-df-buttons\">\n",
              "\n",
              "  <div class=\"colab-df-container\">\n",
              "    <button class=\"colab-df-convert\" onclick=\"convertToInteractive('df-0b737b0e-4ec1-40af-a9bc-0f08acb5abfd')\"\n",
              "            title=\"Convert this dataframe to an interactive table.\"\n",
              "            style=\"display:none;\">\n",
              "\n",
              "  <svg xmlns=\"http://www.w3.org/2000/svg\" height=\"24px\" viewBox=\"0 -960 960 960\">\n",
              "    <path d=\"M120-120v-720h720v720H120Zm60-500h600v-160H180v160Zm220 220h160v-160H400v160Zm0 220h160v-160H400v160ZM180-400h160v-160H180v160Zm440 0h160v-160H620v160ZM180-180h160v-160H180v160Zm440 0h160v-160H620v160Z\"/>\n",
              "  </svg>\n",
              "    </button>\n",
              "\n",
              "  <style>\n",
              "    .colab-df-container {\n",
              "      display:flex;\n",
              "      gap: 12px;\n",
              "    }\n",
              "\n",
              "    .colab-df-convert {\n",
              "      background-color: #E8F0FE;\n",
              "      border: none;\n",
              "      border-radius: 50%;\n",
              "      cursor: pointer;\n",
              "      display: none;\n",
              "      fill: #1967D2;\n",
              "      height: 32px;\n",
              "      padding: 0 0 0 0;\n",
              "      width: 32px;\n",
              "    }\n",
              "\n",
              "    .colab-df-convert:hover {\n",
              "      background-color: #E2EBFA;\n",
              "      box-shadow: 0px 1px 2px rgba(60, 64, 67, 0.3), 0px 1px 3px 1px rgba(60, 64, 67, 0.15);\n",
              "      fill: #174EA6;\n",
              "    }\n",
              "\n",
              "    .colab-df-buttons div {\n",
              "      margin-bottom: 4px;\n",
              "    }\n",
              "\n",
              "    [theme=dark] .colab-df-convert {\n",
              "      background-color: #3B4455;\n",
              "      fill: #D2E3FC;\n",
              "    }\n",
              "\n",
              "    [theme=dark] .colab-df-convert:hover {\n",
              "      background-color: #434B5C;\n",
              "      box-shadow: 0px 1px 3px 1px rgba(0, 0, 0, 0.15);\n",
              "      filter: drop-shadow(0px 1px 2px rgba(0, 0, 0, 0.3));\n",
              "      fill: #FFFFFF;\n",
              "    }\n",
              "  </style>\n",
              "\n",
              "    <script>\n",
              "      const buttonEl =\n",
              "        document.querySelector('#df-0b737b0e-4ec1-40af-a9bc-0f08acb5abfd button.colab-df-convert');\n",
              "      buttonEl.style.display =\n",
              "        google.colab.kernel.accessAllowed ? 'block' : 'none';\n",
              "\n",
              "      async function convertToInteractive(key) {\n",
              "        const element = document.querySelector('#df-0b737b0e-4ec1-40af-a9bc-0f08acb5abfd');\n",
              "        const dataTable =\n",
              "          await google.colab.kernel.invokeFunction('convertToInteractive',\n",
              "                                                    [key], {});\n",
              "        if (!dataTable) return;\n",
              "\n",
              "        const docLinkHtml = 'Like what you see? Visit the ' +\n",
              "          '<a target=\"_blank\" href=https://colab.research.google.com/notebooks/data_table.ipynb>data table notebook</a>'\n",
              "          + ' to learn more about interactive tables.';\n",
              "        element.innerHTML = '';\n",
              "        dataTable['output_type'] = 'display_data';\n",
              "        await google.colab.output.renderOutput(dataTable, element);\n",
              "        const docLink = document.createElement('div');\n",
              "        docLink.innerHTML = docLinkHtml;\n",
              "        element.appendChild(docLink);\n",
              "      }\n",
              "    </script>\n",
              "  </div>\n",
              "\n",
              "\n",
              "<div id=\"df-87001485-5b7d-4f9e-b54c-c55bff3d6507\">\n",
              "  <button class=\"colab-df-quickchart\" onclick=\"quickchart('df-87001485-5b7d-4f9e-b54c-c55bff3d6507')\"\n",
              "            title=\"Suggest charts\"\n",
              "            style=\"display:none;\">\n",
              "\n",
              "<svg xmlns=\"http://www.w3.org/2000/svg\" height=\"24px\"viewBox=\"0 0 24 24\"\n",
              "     width=\"24px\">\n",
              "    <g>\n",
              "        <path d=\"M19 3H5c-1.1 0-2 .9-2 2v14c0 1.1.9 2 2 2h14c1.1 0 2-.9 2-2V5c0-1.1-.9-2-2-2zM9 17H7v-7h2v7zm4 0h-2V7h2v10zm4 0h-2v-4h2v4z\"/>\n",
              "    </g>\n",
              "</svg>\n",
              "  </button>\n",
              "\n",
              "<style>\n",
              "  .colab-df-quickchart {\n",
              "      --bg-color: #E8F0FE;\n",
              "      --fill-color: #1967D2;\n",
              "      --hover-bg-color: #E2EBFA;\n",
              "      --hover-fill-color: #174EA6;\n",
              "      --disabled-fill-color: #AAA;\n",
              "      --disabled-bg-color: #DDD;\n",
              "  }\n",
              "\n",
              "  [theme=dark] .colab-df-quickchart {\n",
              "      --bg-color: #3B4455;\n",
              "      --fill-color: #D2E3FC;\n",
              "      --hover-bg-color: #434B5C;\n",
              "      --hover-fill-color: #FFFFFF;\n",
              "      --disabled-bg-color: #3B4455;\n",
              "      --disabled-fill-color: #666;\n",
              "  }\n",
              "\n",
              "  .colab-df-quickchart {\n",
              "    background-color: var(--bg-color);\n",
              "    border: none;\n",
              "    border-radius: 50%;\n",
              "    cursor: pointer;\n",
              "    display: none;\n",
              "    fill: var(--fill-color);\n",
              "    height: 32px;\n",
              "    padding: 0;\n",
              "    width: 32px;\n",
              "  }\n",
              "\n",
              "  .colab-df-quickchart:hover {\n",
              "    background-color: var(--hover-bg-color);\n",
              "    box-shadow: 0 1px 2px rgba(60, 64, 67, 0.3), 0 1px 3px 1px rgba(60, 64, 67, 0.15);\n",
              "    fill: var(--button-hover-fill-color);\n",
              "  }\n",
              "\n",
              "  .colab-df-quickchart-complete:disabled,\n",
              "  .colab-df-quickchart-complete:disabled:hover {\n",
              "    background-color: var(--disabled-bg-color);\n",
              "    fill: var(--disabled-fill-color);\n",
              "    box-shadow: none;\n",
              "  }\n",
              "\n",
              "  .colab-df-spinner {\n",
              "    border: 2px solid var(--fill-color);\n",
              "    border-color: transparent;\n",
              "    border-bottom-color: var(--fill-color);\n",
              "    animation:\n",
              "      spin 1s steps(1) infinite;\n",
              "  }\n",
              "\n",
              "  @keyframes spin {\n",
              "    0% {\n",
              "      border-color: transparent;\n",
              "      border-bottom-color: var(--fill-color);\n",
              "      border-left-color: var(--fill-color);\n",
              "    }\n",
              "    20% {\n",
              "      border-color: transparent;\n",
              "      border-left-color: var(--fill-color);\n",
              "      border-top-color: var(--fill-color);\n",
              "    }\n",
              "    30% {\n",
              "      border-color: transparent;\n",
              "      border-left-color: var(--fill-color);\n",
              "      border-top-color: var(--fill-color);\n",
              "      border-right-color: var(--fill-color);\n",
              "    }\n",
              "    40% {\n",
              "      border-color: transparent;\n",
              "      border-right-color: var(--fill-color);\n",
              "      border-top-color: var(--fill-color);\n",
              "    }\n",
              "    60% {\n",
              "      border-color: transparent;\n",
              "      border-right-color: var(--fill-color);\n",
              "    }\n",
              "    80% {\n",
              "      border-color: transparent;\n",
              "      border-right-color: var(--fill-color);\n",
              "      border-bottom-color: var(--fill-color);\n",
              "    }\n",
              "    90% {\n",
              "      border-color: transparent;\n",
              "      border-bottom-color: var(--fill-color);\n",
              "    }\n",
              "  }\n",
              "</style>\n",
              "\n",
              "  <script>\n",
              "    async function quickchart(key) {\n",
              "      const quickchartButtonEl =\n",
              "        document.querySelector('#' + key + ' button');\n",
              "      quickchartButtonEl.disabled = true;  // To prevent multiple clicks.\n",
              "      quickchartButtonEl.classList.add('colab-df-spinner');\n",
              "      try {\n",
              "        const charts = await google.colab.kernel.invokeFunction(\n",
              "            'suggestCharts', [key], {});\n",
              "      } catch (error) {\n",
              "        console.error('Error during call to suggestCharts:', error);\n",
              "      }\n",
              "      quickchartButtonEl.classList.remove('colab-df-spinner');\n",
              "      quickchartButtonEl.classList.add('colab-df-quickchart-complete');\n",
              "    }\n",
              "    (() => {\n",
              "      let quickchartButtonEl =\n",
              "        document.querySelector('#df-87001485-5b7d-4f9e-b54c-c55bff3d6507 button');\n",
              "      quickchartButtonEl.style.display =\n",
              "        google.colab.kernel.accessAllowed ? 'block' : 'none';\n",
              "    })();\n",
              "  </script>\n",
              "</div>\n",
              "\n",
              "    </div>\n",
              "  </div>\n"
            ],
            "application/vnd.google.colaboratory.intrinsic+json": {
              "type": "dataframe",
              "variable_name": "df"
            }
          },
          "metadata": {},
          "execution_count": 6
        }
      ]
    },
    {
      "cell_type": "code",
      "source": [
        "check_distribution(df['label'], 'Distribution of Sentiment Labels')"
      ],
      "metadata": {
        "colab": {
          "base_uri": "https://localhost:8080/",
          "height": 410
        },
        "id": "TorX5RKaMYOO",
        "outputId": "df6ef18b-c320-4a7c-c34c-76b8878a9a8d"
      },
      "execution_count": 7,
      "outputs": [
        {
          "output_type": "display_data",
          "data": {
            "text/plain": [
              "<Figure size 500x400 with 1 Axes>"
            ],
            "image/png": "[encoded data removed]"
          },
          "metadata": {}
        }
      ]
    },
    {
      "cell_type": "markdown",
      "source": [
        "## Split data"
      ],
      "metadata": {
        "id": "9YqduFT1a7oo"
      }
    },
    {
      "cell_type": "markdown",
      "source": [
        "Split data, using stratified shuffle split from sklearn []:\n",
        "- Train: 80\n",
        "- Val: 10\n",
        "- test: 10"
      ],
      "metadata": {
        "id": "eETHnMXdbTfp"
      }
    },
    {
      "cell_type": "code",
      "source": [
        "# split data using stratified with size train/val/test 80/10/10 respectively\n",
        "df_train, df_val, df_test = stratified_split(df)"
      ],
      "metadata": {
        "id": "wiEhwIBYPDpZ",
        "colab": {
          "base_uri": "https://localhost:8080/"
        },
        "outputId": "629b6dda-1e13-49c5-85aa-c32425c2657a"
      },
      "execution_count": 8,
      "outputs": [
        {
          "output_type": "stream",
          "name": "stdout",
          "text": [
            "Value count:\n",
            "label\n",
            "positive    100000\n",
            "negative     99999\n",
            "neutral      99999\n",
            "Name: count, dtype: int64\n",
            "-----------\n",
            "Train count:\n",
            "label\n",
            "positive    80000\n",
            "neutral     79999\n",
            "negative    79999\n",
            "Name: count, dtype: int64\n",
            "Val count:\n",
            "label\n",
            "positive    10000\n",
            "negative    10000\n",
            "neutral     10000\n",
            "Name: count, dtype: int64\n",
            "Test count:\n",
            "label\n",
            "negative    10000\n",
            "neutral     10000\n",
            "positive    10000\n",
            "Name: count, dtype: int64\n"
          ]
        }
      ]
    },
    {
      "cell_type": "code",
      "source": [
        "df_train.head(), df_val.head(), df_test.head()"
      ],
      "metadata": {
        "colab": {
          "base_uri": "https://localhost:8080/"
        },
        "id": "67_ssGT-Usk8",
        "outputId": "c0c8e972-03e3-47ef-91f7-e72880ad33ce"
      },
      "execution_count": 9,
      "outputs": [
        {
          "output_type": "execute_result",
          "data": {
            "text/plain": [
              "(                                                sentiment     label\n",
              " 232194  Look at Michael Angelo; poet, painter, sculpto...   neutral\n",
              " 143208  The story of how Charlemagne dealt with these ...  positive\n",
              " 124048  It lies in a pleasant undulating district near...  positive\n",
              " 92224   But the painted foliage on these crags!-the Gr...  negative\n",
              " 167924  The labor devolving upon him as the commander ...  positive,\n",
              "                                                 sentiment     label\n",
              " 160313  In the first volume of the series, entitled Th...  positive\n",
              " 8888    How jolly it will be, for all but the bad ange...  negative\n",
              " 219510  154), that the grand conception of a Supreme U...   neutral\n",
              " 185958  Of course, we hope that you will support the P...  positive\n",
              " 157285  Lahoma seated herself eagerly and looking up i...  positive,\n",
              "                                                 sentiment     label\n",
              " 98454   Just as I had finished our hut, it occurred to...  negative\n",
              " 47819   No, sir; couldn't move--couldn't raise a hand;...  negative\n",
              " 216127  Three stout soldiers stricken from the rolls--...   neutral\n",
              " 174432  Dr. Carey is a very equable and cheerful old m...  positive\n",
              " 42949   The poor hostess had no time to think of herse...  negative)"
            ]
          },
          "metadata": {},
          "execution_count": 9
        }
      ]
    },
    {
      "cell_type": "markdown",
      "source": [
        "## Checking for split distribution"
      ],
      "metadata": {
        "id": "S4YQYr02UkSv"
      }
    },
    {
      "cell_type": "code",
      "source": [
        "\n",
        "dfs_label = [df_train['label'], df_val['label'], df_test['label']]\n",
        "\n",
        "check_split_distribution(dfs_label)"
      ],
      "metadata": {
        "colab": {
          "base_uri": "https://localhost:8080/",
          "height": 264
        },
        "id": "0vNgu3weUmm0",
        "outputId": "4589d2a2-f823-4846-9105-ee48713b87fb"
      },
      "execution_count": 10,
      "outputs": [
        {
          "output_type": "display_data",
          "data": {
            "text/plain": [
              "<Figure size 1500x400 with 3 Axes>"
            ],
            "image/png": "[encoded data removed]"
          },
          "metadata": {}
        }
      ]
    },
    {
      "cell_type": "code",
      "source": [
        "# check the size of each split\n",
        "len_df = len(df)\n",
        "len_train = len(df_train)\n",
        "len_val = len(df_val)\n",
        "len_test = len(df_test)\n",
        "\n",
        "print(f'Train data size: {round(len_train/len_df,2)}')\n",
        "print(f'Val data size: {round(len_val/len_df,2)}')\n",
        "print(f'Test data size: {round(len_test/len_df,2)}')"
      ],
      "metadata": {
        "colab": {
          "base_uri": "https://localhost:8080/"
        },
        "id": "rtwwMq-bhjH5",
        "outputId": "2209b9b9-cf4b-4795-9878-4f9c95d5fe19"
      },
      "execution_count": 11,
      "outputs": [
        {
          "output_type": "stream",
          "name": "stdout",
          "text": [
            "Train data size: 0.8\n",
            "Val data size: 0.1\n",
            "Test data size: 0.1\n"
          ]
        }
      ]
    },
    {
      "cell_type": "code",
      "source": [
        "split_name = ['train', 'val', 'test']\n",
        "split_df = [len_train, len_val, len_test]\n",
        "\n",
        "plt.figure(figsize=(5, 4))\n",
        "bars = plt.bar(x=split_name, height=split_df, color='skyblue')\n",
        "\n",
        "for bar in bars:\n",
        "    height = bar.get_height()\n",
        "    plt.text(bar.get_x() + bar.get_width() / 2.0, height - (height/2.0), '%0.2f%s' % ((height/len_df)*100, '%'), ha='center', va='bottom', color='teal')\n",
        "\n",
        "plt.title('Distribution of Sentiment Labels')\n",
        "plt.xlabel('Sentiment')\n",
        "plt.ylabel('Frequency')\n",
        "plt.show()"
      ],
      "metadata": {
        "colab": {
          "base_uri": "https://localhost:8080/",
          "height": 410
        },
        "id": "0PzubzmlhyXV",
        "outputId": "643d3717-f3e3-4efa-de88-d2d09cab2f52"
      },
      "execution_count": 12,
      "outputs": [
        {
          "output_type": "display_data",
          "data": {
            "text/plain": [
              "<Figure size 500x400 with 1 Axes>"
            ],
            "image/png": "[encoded data removed]"
          },
          "metadata": {}
        }
      ]
    },
    {
      "cell_type": "markdown",
      "source": [
        "## Preparation for training"
      ],
      "metadata": {
        "id": "-xKnf-antQJ2"
      }
    },
    {
      "cell_type": "code",
      "source": [
        "# split for training portion\n",
        "X_train, y_train = df_train['sentiment'], df_train['label']\n",
        "X_val, y_val = df_val['sentiment'], df_val['label']\n",
        "X_test, y_test = df_test['sentiment'], df_test['label']"
      ],
      "metadata": {
        "id": "E391ljMwlppP"
      },
      "execution_count": 13,
      "outputs": []
    },
    {
      "cell_type": "code",
      "source": [
        "# X_train.to_csv('X_train.csv', index=False)\n",
        "# y_train.to_csv('y_train.csv', index=False)\n",
        "# X_val.to_csv('X_val.csv', index=False)\n",
        "# y_val.to_csv('y_val.csv', index=False)\n",
        "# X_test.to_csv('X_test.csv', index=False)\n",
        "# y_test.to_csv('y_test.csv', index=False)\n"
      ],
      "metadata": {
        "id": "Vg7v05Q3IaoV"
      },
      "execution_count": 14,
      "outputs": []
    },
    {
      "cell_type": "code",
      "source": [
        "# try:\n",
        "#   from google.colab import files\n",
        "# except e:\n",
        "#   print(e)\n",
        "# else:\n",
        "#   files.download('X_train.csv')\n",
        "#   files.download('y_train.csv')\n",
        "#   files.download('X_val.csv')\n",
        "#   files.download('y_val.csv')\n",
        "#   files.download('X_test.csv')\n",
        "#   files.download('y_test.csv')"
      ],
      "metadata": {
        "id": "gmMUmQu7I3cq"
      },
      "execution_count": 15,
      "outputs": []
    },
    {
      "cell_type": "markdown",
      "source": [
        "### Hyperparameters"
      ],
      "metadata": {
        "id": "TSa7ok3FBK9p"
      }
    },
    {
      "cell_type": "code",
      "source": [
        "# Vocabulary size of the tokenizer\n",
        "vocab_size = 50000\n",
        "\n",
        "# Maximum length of the padded sequences\n",
        "max_length = 100\n",
        "\n",
        "# Output dimensions of the Embedding layer\n",
        "embedding_dim = 250"
      ],
      "metadata": {
        "id": "RKkCRxIZBNvD"
      },
      "execution_count": 16,
      "outputs": []
    },
    {
      "cell_type": "markdown",
      "source": [
        "### Tokenize data"
      ],
      "metadata": {
        "id": "A-Z4svKwus6r"
      }
    },
    {
      "cell_type": "code",
      "source": [
        "tokenizer = Tokenizer(num_words=vocab_size, oov_token='<OOV>')\n",
        "tokenizer.fit_on_texts(X_train)\n",
        "word_index = tokenizer.word_index"
      ],
      "metadata": {
        "id": "2jh-cwLLtwbF"
      },
      "execution_count": 17,
      "outputs": []
    },
    {
      "cell_type": "code",
      "source": [
        "print(len(word_index))"
      ],
      "metadata": {
        "colab": {
          "base_uri": "https://localhost:8080/"
        },
        "id": "tdBbE0e7uDe7",
        "outputId": "c1cb3295-d05e-4c7b-a650-7f679cec3c08"
      },
      "execution_count": 18,
      "outputs": [
        {
          "output_type": "stream",
          "name": "stdout",
          "text": [
            "122232\n"
          ]
        }
      ]
    },
    {
      "cell_type": "code",
      "source": [
        "label_tokenizer = Tokenizer()\n",
        "label_tokenizer.fit_on_texts(y_train)\n",
        "label_index_word = label_tokenizer.index_word\n",
        "\n",
        "# start encoder label from 0\n",
        "labels_encoder = {key - 1: value for key, value in label_index_word.items()}\n",
        "\n",
        "# Tokenize the label\n",
        "training_labels = label_tokenizer.texts_to_sequences(y_train)\n",
        "val_labels = label_tokenizer.texts_to_sequences(y_val)\n",
        "test_labels = label_tokenizer.texts_to_sequences(y_test)"
      ],
      "metadata": {
        "id": "7kn0vbyO5HUa"
      },
      "execution_count": 19,
      "outputs": []
    },
    {
      "cell_type": "code",
      "source": [
        "print(labels_encoder)\n",
        "np.unique(y_test)"
      ],
      "metadata": {
        "colab": {
          "base_uri": "https://localhost:8080/"
        },
        "id": "B9oCohm1x_PC",
        "outputId": "946b14b0-88c6-4a6f-e970-15f90ae7bd6b"
      },
      "execution_count": 20,
      "outputs": [
        {
          "output_type": "stream",
          "name": "stdout",
          "text": [
            "{0: 'positive', 1: 'neutral', 2: 'negative'}\n"
          ]
        },
        {
          "output_type": "execute_result",
          "data": {
            "text/plain": [
              "array(['negative', 'neutral', 'positive'], dtype=object)"
            ]
          },
          "metadata": {},
          "execution_count": 20
        }
      ]
    },
    {
      "cell_type": "code",
      "source": [
        "# convert labels list to np array\n",
        "# Below arrays are subtracted by one, because all index should start from 0, instead the current label before subtract started with one\n",
        "training_labels = np.array(training_labels) - 1\n",
        "val_labels = np.array(val_labels) - 1\n",
        "test_labels = np.array(test_labels) - 1"
      ],
      "metadata": {
        "id": "mCEEgxOrU15V"
      },
      "execution_count": 21,
      "outputs": []
    },
    {
      "cell_type": "code",
      "source": [
        "print(f'label training shape\\t : {training_labels.shape}')\n",
        "print(f'label val shape\\t\\t : {val_labels.shape}')\n",
        "print(f'label test shape\\t : {test_labels.shape}')"
      ],
      "metadata": {
        "colab": {
          "base_uri": "https://localhost:8080/"
        },
        "id": "G73ezi8B5Rr1",
        "outputId": "3662c344-d1db-40f9-f05d-eb87d6d73825"
      },
      "execution_count": 22,
      "outputs": [
        {
          "output_type": "stream",
          "name": "stdout",
          "text": [
            "label training shape\t : (239998, 1)\n",
            "label val shape\t\t : (30000, 1)\n",
            "label test shape\t : (30000, 1)\n"
          ]
        }
      ]
    },
    {
      "cell_type": "markdown",
      "source": [
        "### Sequence data"
      ],
      "metadata": {
        "id": "A1Lfqi8yvlA8"
      }
    },
    {
      "cell_type": "code",
      "source": [
        "sequences_train = tokenizer.texts_to_sequences(X_train)\n",
        "sequences_val = tokenizer.texts_to_sequences(X_val)\n",
        "sequences_test = tokenizer.texts_to_sequences(X_test)"
      ],
      "metadata": {
        "id": "W-iy9cAEuZoZ"
      },
      "execution_count": 23,
      "outputs": []
    },
    {
      "cell_type": "markdown",
      "source": [
        "### padded data"
      ],
      "metadata": {
        "id": "3RlV7MDTvn5T"
      }
    },
    {
      "cell_type": "code",
      "source": [
        "padded_train = pad_sequences(sequences_train, maxlen=max_length, truncating='post', padding='post')\n",
        "padded_val = pad_sequences(sequences_val, maxlen=max_length, truncating='post', padding='post')\n",
        "padded_test = pad_sequences(sequences_test,maxlen=max_length, truncating='post', padding='post')"
      ],
      "metadata": {
        "id": "edVm-qwZvWwo"
      },
      "execution_count": 24,
      "outputs": []
    },
    {
      "cell_type": "code",
      "source": [
        "print(padded_train[0], padded_train.shape)\n",
        "print(padded_val.shape)\n",
        "print(padded_test.shape)"
      ],
      "metadata": {
        "colab": {
          "base_uri": "https://localhost:8080/"
        },
        "id": "4MvV_ODt4dMd",
        "outputId": "fc98b202-808e-4875-d1cf-b17723fc0ab2"
      },
      "execution_count": 25,
      "outputs": [
        {
          "output_type": "stream",
          "name": "stdout",
          "text": [
            "[  237    23  1462  2947  1955  4062  9433  7659     4   990     4    45\n",
            "   310    43    40    24   265     3  9155   184 21359    28  7905   184\n",
            "   899    59    74  5503    61    14   118 14302  1874   140   194    25\n",
            "  6497  1353     4     2  3330  4572    34  3857     5   559     7     2\n",
            "  8562     2  7349     3   105 15136  1285     0     0     0     0     0\n",
            "     0     0     0     0     0     0     0     0     0     0     0     0\n",
            "     0     0     0     0     0     0     0     0     0     0     0     0\n",
            "     0     0     0     0     0     0     0     0     0     0     0     0\n",
            "     0     0     0     0] (239998, 100)\n",
            "(30000, 100)\n",
            "(30000, 100)\n"
          ]
        }
      ]
    },
    {
      "cell_type": "markdown",
      "source": [
        "## Convert to tensorflow dataset for preprocessing"
      ],
      "metadata": {
        "id": "S_WJid4J71Zt"
      }
    },
    {
      "cell_type": "code",
      "source": [
        "BUFFER_SIZE = 50000\n",
        "BATCH_SIZE = 256"
      ],
      "metadata": {
        "id": "KW1iMTXA8R8f"
      },
      "execution_count": 26,
      "outputs": []
    },
    {
      "cell_type": "code",
      "source": [
        "train_set = tf.data.Dataset.from_tensor_slices((padded_train, training_labels))\n",
        "val_set = tf.data.Dataset.from_tensor_slices((padded_val, val_labels))\n",
        "test_set = tf.data.Dataset.from_tensor_slices((padded_test, test_labels))\n",
        "\n",
        "# prefetch() allows the dataset to be prepared in the background, overlapping data processing with model training.\n",
        "# Using tf.data.AUTOTUNE as an argument lets TensorFlow automatically choose an optimal prefetch buffer size,\n",
        "# which can make the pipeline more efficient.\n",
        "train_set = train_set.shuffle(BUFFER_SIZE).batch(BATCH_SIZE).prefetch(tf.data.AUTOTUNE)\n",
        "val_set = val_set.batch(BATCH_SIZE).prefetch(tf.data.AUTOTUNE)\n",
        "test_set = test_set.batch(BATCH_SIZE).prefetch(tf.data.AUTOTUNE)\n",
        "\n",
        "print('First Batch Preview:')\n",
        "for tr, val, ts in zip(train_set.take(1), val_set.take(1), test_set.take(1)):\n",
        "  print(f'train data shape: {tr[0].shape}, label train shape: {tr[1].shape}\\nTrain preview:\\n{tr[0]}\\n')\n",
        "  print(f'val data shape: {val[0].shape}, label val shape: {val[1].shape}\\nValid preview:\\n{val[0]}\\n')\n",
        "  print(f'test data shape: {ts[0].shape}, label test shape: {ts[1].shape}\\nTest preview:\\n{ts[0]}')"
      ],
      "metadata": {
        "colab": {
          "base_uri": "https://localhost:8080/"
        },
        "id": "VN4qWiZC7rQX",
        "outputId": "5dfdda2e-f7c2-42cb-f911-0785dc0808cd"
      },
      "execution_count": 27,
      "outputs": [
        {
          "output_type": "stream",
          "name": "stdout",
          "text": [
            "First Batch Preview:\n",
            "train data shape: (256, 100), label train shape: (256, 1)\n",
            "Train preview:\n",
            "[[   7  145    3 ...    0    0    0]\n",
            " [ 138    6  258 ...    0    0    0]\n",
            " [  36   69   34 ...    0    0    0]\n",
            " ...\n",
            " [  50  507   37 ...    0    0    0]\n",
            " [  16  541   16 ...    0    0    0]\n",
            " [  25    2 2719 ...    0    0    0]]\n",
            "\n",
            "val data shape: (256, 100), label val shape: (256, 1)\n",
            "Valid preview:\n",
            "[[    7     2   106 ...     0     0     0]\n",
            " [   93  4218    10 ...     0     0     0]\n",
            " [24188     8     2 ...     0     0     0]\n",
            " ...\n",
            " [   47     2  1622 ...     0     0     0]\n",
            " [  102    13  7238 ...     0     0     0]\n",
            " [    2  2148  2060 ...     0     0     0]]\n",
            "\n",
            "test data shape: (256, 100), label test shape: (256, 1)\n",
            "Test preview:\n",
            "[[  142    13    16 ...     0     0     0]\n",
            " [   50   391  1355 ...     0     0     0]\n",
            " [  163  3437  1017 ...     0     0     0]\n",
            " ...\n",
            " [    2  7199     9 ...     0     0     0]\n",
            " [ 4047 20266   377 ...     0     0     0]\n",
            " [   10    87  3949 ...     0     0     0]]\n"
          ]
        }
      ]
    },
    {
      "cell_type": "code",
      "source": [],
      "metadata": {
        "id": "h9l2FXT678gY"
      },
      "execution_count": 27,
      "outputs": []
    },
    {
      "cell_type": "markdown",
      "source": [
        "# Build and compile Model"
      ],
      "metadata": {
        "id": "z706HbGXAn_s"
      }
    },
    {
      "cell_type": "code",
      "source": [
        "model_lstm = tf.keras.Sequential([\n",
        "    Embedding(input_dim=vocab_size, output_dim=embedding_dim),\n",
        "    Bidirectional(LSTM(64)),\n",
        "    Dense(12, activation='relu'),\n",
        "    Dense(3, activation='softmax')\n",
        "])\n",
        "\n",
        "model_lstm.summary()"
      ],
      "metadata": {
        "colab": {
          "base_uri": "https://localhost:8080/",
          "height": 259
        },
        "id": "EMLSCxhXApvg",
        "outputId": "6e580128-3829-4fa9-cec7-ed1d2526e5bf"
      },
      "execution_count": 28,
      "outputs": [
        {
          "output_type": "display_data",
          "data": {
            "text/plain": [
              "\u001b[1mModel: \"sequential\"\u001b[0m\n"
            ],
            "text/html": [
              "<pre style=\"white-space:pre;overflow-x:auto;line-height:normal;font-family:Menlo,'DejaVu Sans Mono',consolas,'Courier New',monospace\"><span style=\"font-weight: bold\">Model: \"sequential\"</span>\n",
              "</pre>\n"
            ]
          },
          "metadata": {}
        },
        {
          "output_type": "display_data",
          "data": {
            "text/plain": [
              "┏━━━━━━━━━━━━━━━━━━━━━━━━━━━━━━━━━━━━━━┳━━━━━━━━━━━━━━━━━━━━━━━━━━━━━┳━━━━━━━━━━━━━━━━━┓\n",
              "┃\u001b[1m \u001b[0m\u001b[1mLayer (type)                        \u001b[0m\u001b[1m \u001b[0m┃\u001b[1m \u001b[0m\u001b[1mOutput Shape               \u001b[0m\u001b[1m \u001b[0m┃\u001b[1m \u001b[0m\u001b[1m        Param #\u001b[0m\u001b[1m \u001b[0m┃\n",
              "┡━━━━━━━━━━━━━━━━━━━━━━━━━━━━━━━━━━━━━━╇━━━━━━━━━━━━━━━━━━━━━━━━━━━━━╇━━━━━━━━━━━━━━━━━┩\n",
              "│ embedding (\u001b[38;5;33mEmbedding\u001b[0m)                │ ?                           │     \u001b[38;5;34m0\u001b[0m (unbuilt) │\n",
              "├──────────────────────────────────────┼─────────────────────────────┼─────────────────┤\n",
              "│ bidirectional (\u001b[38;5;33mBidirectional\u001b[0m)        │ ?                           │     \u001b[38;5;34m0\u001b[0m (unbuilt) │\n",
              "├──────────────────────────────────────┼─────────────────────────────┼─────────────────┤\n",
              "│ dense (\u001b[38;5;33mDense\u001b[0m)                        │ ?                           │     \u001b[38;5;34m0\u001b[0m (unbuilt) │\n",
              "├──────────────────────────────────────┼─────────────────────────────┼─────────────────┤\n",
              "│ dense_1 (\u001b[38;5;33mDense\u001b[0m)                      │ ?                           │     \u001b[38;5;34m0\u001b[0m (unbuilt) │\n",
              "└──────────────────────────────────────┴─────────────────────────────┴─────────────────┘\n"
            ],
            "text/html": [
              "<pre style=\"white-space:pre;overflow-x:auto;line-height:normal;font-family:Menlo,'DejaVu Sans Mono',consolas,'Courier New',monospace\">┏━━━━━━━━━━━━━━━━━━━━━━━━━━━━━━━━━━━━━━┳━━━━━━━━━━━━━━━━━━━━━━━━━━━━━┳━━━━━━━━━━━━━━━━━┓\n",
              "┃<span style=\"font-weight: bold\"> Layer (type)                         </span>┃<span style=\"font-weight: bold\"> Output Shape                </span>┃<span style=\"font-weight: bold\">         Param # </span>┃\n",
              "┡━━━━━━━━━━━━━━━━━━━━━━━━━━━━━━━━━━━━━━╇━━━━━━━━━━━━━━━━━━━━━━━━━━━━━╇━━━━━━━━━━━━━━━━━┩\n",
              "│ embedding (<span style=\"color: #0087ff; text-decoration-color: #0087ff\">Embedding</span>)                │ ?                           │     <span style=\"color: #00af00; text-decoration-color: #00af00\">0</span> (unbuilt) │\n",
              "├──────────────────────────────────────┼─────────────────────────────┼─────────────────┤\n",
              "│ bidirectional (<span style=\"color: #0087ff; text-decoration-color: #0087ff\">Bidirectional</span>)        │ ?                           │     <span style=\"color: #00af00; text-decoration-color: #00af00\">0</span> (unbuilt) │\n",
              "├──────────────────────────────────────┼─────────────────────────────┼─────────────────┤\n",
              "│ dense (<span style=\"color: #0087ff; text-decoration-color: #0087ff\">Dense</span>)                        │ ?                           │     <span style=\"color: #00af00; text-decoration-color: #00af00\">0</span> (unbuilt) │\n",
              "├──────────────────────────────────────┼─────────────────────────────┼─────────────────┤\n",
              "│ dense_1 (<span style=\"color: #0087ff; text-decoration-color: #0087ff\">Dense</span>)                      │ ?                           │     <span style=\"color: #00af00; text-decoration-color: #00af00\">0</span> (unbuilt) │\n",
              "└──────────────────────────────────────┴─────────────────────────────┴─────────────────┘\n",
              "</pre>\n"
            ]
          },
          "metadata": {}
        },
        {
          "output_type": "display_data",
          "data": {
            "text/plain": [
              "\u001b[1m Total params: \u001b[0m\u001b[38;5;34m0\u001b[0m (0.00 B)\n"
            ],
            "text/html": [
              "<pre style=\"white-space:pre;overflow-x:auto;line-height:normal;font-family:Menlo,'DejaVu Sans Mono',consolas,'Courier New',monospace\"><span style=\"font-weight: bold\"> Total params: </span><span style=\"color: #00af00; text-decoration-color: #00af00\">0</span> (0.00 B)\n",
              "</pre>\n"
            ]
          },
          "metadata": {}
        },
        {
          "output_type": "display_data",
          "data": {
            "text/plain": [
              "\u001b[1m Trainable params: \u001b[0m\u001b[38;5;34m0\u001b[0m (0.00 B)\n"
            ],
            "text/html": [
              "<pre style=\"white-space:pre;overflow-x:auto;line-height:normal;font-family:Menlo,'DejaVu Sans Mono',consolas,'Courier New',monospace\"><span style=\"font-weight: bold\"> Trainable params: </span><span style=\"color: #00af00; text-decoration-color: #00af00\">0</span> (0.00 B)\n",
              "</pre>\n"
            ]
          },
          "metadata": {}
        },
        {
          "output_type": "display_data",
          "data": {
            "text/plain": [
              "\u001b[1m Non-trainable params: \u001b[0m\u001b[38;5;34m0\u001b[0m (0.00 B)\n"
            ],
            "text/html": [
              "<pre style=\"white-space:pre;overflow-x:auto;line-height:normal;font-family:Menlo,'DejaVu Sans Mono',consolas,'Courier New',monospace\"><span style=\"font-weight: bold\"> Non-trainable params: </span><span style=\"color: #00af00; text-decoration-color: #00af00\">0</span> (0.00 B)\n",
              "</pre>\n"
            ]
          },
          "metadata": {}
        }
      ]
    },
    {
      "cell_type": "code",
      "source": [
        "model_cnn = tf.keras.Sequential([\n",
        "    Embedding(input_dim=vocab_size, output_dim=embedding_dim),\n",
        "    Conv1D(64, 5, activation='relu'),\n",
        "    GlobalAveragePooling1D(),\n",
        "    Dense(12, activation='relu'),\n",
        "    Dense(3, activation='softmax')\n",
        "])\n",
        "\n",
        "model_cnn.summary()"
      ],
      "metadata": {
        "colab": {
          "base_uri": "https://localhost:8080/",
          "height": 307
        },
        "id": "dpESrkKSjTkH",
        "outputId": "b0e97822-60b6-4b64-8d32-a3c2528fb307"
      },
      "execution_count": 29,
      "outputs": [
        {
          "output_type": "display_data",
          "data": {
            "text/plain": [
              "\u001b[1mModel: \"sequential_1\"\u001b[0m\n"
            ],
            "text/html": [
              "<pre style=\"white-space:pre;overflow-x:auto;line-height:normal;font-family:Menlo,'DejaVu Sans Mono',consolas,'Courier New',monospace\"><span style=\"font-weight: bold\">Model: \"sequential_1\"</span>\n",
              "</pre>\n"
            ]
          },
          "metadata": {}
        },
        {
          "output_type": "display_data",
          "data": {
            "text/plain": [
              "┏━━━━━━━━━━━━━━━━━━━━━━━━━━━━━━━━━━━━━━┳━━━━━━━━━━━━━━━━━━━━━━━━━━━━━┳━━━━━━━━━━━━━━━━━┓\n",
              "┃\u001b[1m \u001b[0m\u001b[1mLayer (type)                        \u001b[0m\u001b[1m \u001b[0m┃\u001b[1m \u001b[0m\u001b[1mOutput Shape               \u001b[0m\u001b[1m \u001b[0m┃\u001b[1m \u001b[0m\u001b[1m        Param #\u001b[0m\u001b[1m \u001b[0m┃\n",
              "┡━━━━━━━━━━━━━━━━━━━━━━━━━━━━━━━━━━━━━━╇━━━━━━━━━━━━━━━━━━━━━━━━━━━━━╇━━━━━━━━━━━━━━━━━┩\n",
              "│ embedding_1 (\u001b[38;5;33mEmbedding\u001b[0m)              │ ?                           │     \u001b[38;5;34m0\u001b[0m (unbuilt) │\n",
              "├──────────────────────────────────────┼─────────────────────────────┼─────────────────┤\n",
              "│ conv1d (\u001b[38;5;33mConv1D\u001b[0m)                      │ ?                           │     \u001b[38;5;34m0\u001b[0m (unbuilt) │\n",
              "├──────────────────────────────────────┼─────────────────────────────┼─────────────────┤\n",
              "│ global_average_pooling1d             │ ?                           │     \u001b[38;5;34m0\u001b[0m (unbuilt) │\n",
              "│ (\u001b[38;5;33mGlobalAveragePooling1D\u001b[0m)             │                             │                 │\n",
              "├──────────────────────────────────────┼─────────────────────────────┼─────────────────┤\n",
              "│ dense_2 (\u001b[38;5;33mDense\u001b[0m)                      │ ?                           │     \u001b[38;5;34m0\u001b[0m (unbuilt) │\n",
              "├──────────────────────────────────────┼─────────────────────────────┼─────────────────┤\n",
              "│ dense_3 (\u001b[38;5;33mDense\u001b[0m)                      │ ?                           │     \u001b[38;5;34m0\u001b[0m (unbuilt) │\n",
              "└──────────────────────────────────────┴─────────────────────────────┴─────────────────┘\n"
            ],
            "text/html": [
              "<pre style=\"white-space:pre;overflow-x:auto;line-height:normal;font-family:Menlo,'DejaVu Sans Mono',consolas,'Courier New',monospace\">┏━━━━━━━━━━━━━━━━━━━━━━━━━━━━━━━━━━━━━━┳━━━━━━━━━━━━━━━━━━━━━━━━━━━━━┳━━━━━━━━━━━━━━━━━┓\n",
              "┃<span style=\"font-weight: bold\"> Layer (type)                         </span>┃<span style=\"font-weight: bold\"> Output Shape                </span>┃<span style=\"font-weight: bold\">         Param # </span>┃\n",
              "┡━━━━━━━━━━━━━━━━━━━━━━━━━━━━━━━━━━━━━━╇━━━━━━━━━━━━━━━━━━━━━━━━━━━━━╇━━━━━━━━━━━━━━━━━┩\n",
              "│ embedding_1 (<span style=\"color: #0087ff; text-decoration-color: #0087ff\">Embedding</span>)              │ ?                           │     <span style=\"color: #00af00; text-decoration-color: #00af00\">0</span> (unbuilt) │\n",
              "├──────────────────────────────────────┼─────────────────────────────┼─────────────────┤\n",
              "│ conv1d (<span style=\"color: #0087ff; text-decoration-color: #0087ff\">Conv1D</span>)                      │ ?                           │     <span style=\"color: #00af00; text-decoration-color: #00af00\">0</span> (unbuilt) │\n",
              "├──────────────────────────────────────┼─────────────────────────────┼─────────────────┤\n",
              "│ global_average_pooling1d             │ ?                           │     <span style=\"color: #00af00; text-decoration-color: #00af00\">0</span> (unbuilt) │\n",
              "│ (<span style=\"color: #0087ff; text-decoration-color: #0087ff\">GlobalAveragePooling1D</span>)             │                             │                 │\n",
              "├──────────────────────────────────────┼─────────────────────────────┼─────────────────┤\n",
              "│ dense_2 (<span style=\"color: #0087ff; text-decoration-color: #0087ff\">Dense</span>)                      │ ?                           │     <span style=\"color: #00af00; text-decoration-color: #00af00\">0</span> (unbuilt) │\n",
              "├──────────────────────────────────────┼─────────────────────────────┼─────────────────┤\n",
              "│ dense_3 (<span style=\"color: #0087ff; text-decoration-color: #0087ff\">Dense</span>)                      │ ?                           │     <span style=\"color: #00af00; text-decoration-color: #00af00\">0</span> (unbuilt) │\n",
              "└──────────────────────────────────────┴─────────────────────────────┴─────────────────┘\n",
              "</pre>\n"
            ]
          },
          "metadata": {}
        },
        {
          "output_type": "display_data",
          "data": {
            "text/plain": [
              "\u001b[1m Total params: \u001b[0m\u001b[38;5;34m0\u001b[0m (0.00 B)\n"
            ],
            "text/html": [
              "<pre style=\"white-space:pre;overflow-x:auto;line-height:normal;font-family:Menlo,'DejaVu Sans Mono',consolas,'Courier New',monospace\"><span style=\"font-weight: bold\"> Total params: </span><span style=\"color: #00af00; text-decoration-color: #00af00\">0</span> (0.00 B)\n",
              "</pre>\n"
            ]
          },
          "metadata": {}
        },
        {
          "output_type": "display_data",
          "data": {
            "text/plain": [
              "\u001b[1m Trainable params: \u001b[0m\u001b[38;5;34m0\u001b[0m (0.00 B)\n"
            ],
            "text/html": [
              "<pre style=\"white-space:pre;overflow-x:auto;line-height:normal;font-family:Menlo,'DejaVu Sans Mono',consolas,'Courier New',monospace\"><span style=\"font-weight: bold\"> Trainable params: </span><span style=\"color: #00af00; text-decoration-color: #00af00\">0</span> (0.00 B)\n",
              "</pre>\n"
            ]
          },
          "metadata": {}
        },
        {
          "output_type": "display_data",
          "data": {
            "text/plain": [
              "\u001b[1m Non-trainable params: \u001b[0m\u001b[38;5;34m0\u001b[0m (0.00 B)\n"
            ],
            "text/html": [
              "<pre style=\"white-space:pre;overflow-x:auto;line-height:normal;font-family:Menlo,'DejaVu Sans Mono',consolas,'Courier New',monospace\"><span style=\"font-weight: bold\"> Non-trainable params: </span><span style=\"color: #00af00; text-decoration-color: #00af00\">0</span> (0.00 B)\n",
              "</pre>\n"
            ]
          },
          "metadata": {}
        }
      ]
    },
    {
      "cell_type": "code",
      "source": [
        "# compiling model with rnn (lstm) method\n",
        "model_lstm.compile(loss='sparse_categorical_crossentropy',\n",
        "              optimizer='rmsprop',\n",
        "              metrics=['accuracy'],\n",
        "              )\n",
        "\n",
        "# compilling model with cnn method\n",
        "model_cnn.compile(loss='sparse_categorical_crossentropy',\n",
        "              optimizer='rmsprop',\n",
        "              metrics=['accuracy'],\n",
        "              )"
      ],
      "metadata": {
        "id": "YHwZSY3BBzHn"
      },
      "execution_count": 30,
      "outputs": []
    },
    {
      "cell_type": "markdown",
      "source": [
        "# Set Callbacks"
      ],
      "metadata": {
        "id": "3BsIZaswB767"
      }
    },
    {
      "cell_type": "code",
      "source": [
        "# early stopping\n",
        "early_stopping = EarlyStopping(monitor='val_accuracy',\n",
        "                                                  mode='min',\n",
        "                                                  patience=5, restore_best_weights=True)\n",
        "\n",
        "\n",
        "\n",
        "# Model checkpoint, saving the best only val_acc of lstm\n",
        "checkpoint_filepath_lstm = '/tmp/ckpt/checkpoint_lstm-{epoch:02d}-{accuracy:.3f}-{val_accuracy:.3f}.keras'\n",
        "model_checkpoint_callback_lstm = ModelCheckpoint(\n",
        "    filepath=checkpoint_filepath_lstm,\n",
        "    monitor='val_accuracy',\n",
        "    mode='max',\n",
        "    save_best_only=False,\n",
        "    verbose=1)\n",
        "\n",
        "# Model checkpoint, saving the best only val_acc of CNN\n",
        "checkpoint_filepath_cnn = '/tmp/ckpt/checkpoint_cnn-{epoch:02d}-{accuracy:.3f}-{val_accuracy:.3f}.keras'\n",
        "model_checkpoint_callback_cnn = ModelCheckpoint(\n",
        "    filepath=checkpoint_filepath_cnn,\n",
        "    monitor='val_accuracy',\n",
        "    mode='max',\n",
        "    save_best_only=False,\n",
        "    verbose=1)\n",
        "\n",
        "# save csv logger callbacks\n",
        "csv_logger_lstm = CSVLogger('training_lstm.log')\n",
        "csv_logger_cnn = CSVLogger('training_cnn.log')"
      ],
      "metadata": {
        "id": "Fmu3T0llB7tU"
      },
      "execution_count": 31,
      "outputs": []
    },
    {
      "cell_type": "markdown",
      "source": [
        "# START TRAINING HERE, BE CAREFUL TO RUN CELL BELOW"
      ],
      "metadata": {
        "id": "OD1e2NlLVSXh"
      }
    },
    {
      "cell_type": "markdown",
      "source": [
        "# Model training"
      ],
      "metadata": {
        "id": "Ugre1BFAAR6x"
      }
    },
    {
      "cell_type": "code",
      "source": [
        "num_epochs=10\n",
        "history_lstm = model_lstm.fit(train_set, epochs=num_epochs,\n",
        "                    validation_data=val_set, verbose=2,\n",
        "                    callbacks=[model_checkpoint_callback_lstm, csv_logger_lstm]\n",
        "                    )"
      ],
      "metadata": {
        "colab": {
          "base_uri": "https://localhost:8080/"
        },
        "id": "7-hoctXf42NA",
        "outputId": "4ef34c4f-0a4d-4978-bfe5-52f67c02665d"
      },
      "execution_count": 32,
      "outputs": [
        {
          "output_type": "stream",
          "name": "stdout",
          "text": [
            "Epoch 1/10\n",
            "\n",
            "Epoch 1: saving model to /tmp/ckpt/checkpoint_lstm-01-0.644-0.785.keras\n",
            "938/938 - 34s - 36ms/step - accuracy: 0.6435 - loss: 0.7549 - val_accuracy: 0.7853 - val_loss: 0.5067\n",
            "Epoch 2/10\n",
            "\n",
            "Epoch 2: saving model to /tmp/ckpt/checkpoint_lstm-02-0.814-0.824.keras\n",
            "938/938 - 26s - 28ms/step - accuracy: 0.8139 - loss: 0.4483 - val_accuracy: 0.8236 - val_loss: 0.4246\n",
            "Epoch 3/10\n",
            "\n",
            "Epoch 3: saving model to /tmp/ckpt/checkpoint_lstm-03-0.853-0.833.keras\n",
            "938/938 - 26s - 28ms/step - accuracy: 0.8534 - loss: 0.3582 - val_accuracy: 0.8325 - val_loss: 0.4129\n",
            "Epoch 4/10\n",
            "\n",
            "Epoch 4: saving model to /tmp/ckpt/checkpoint_lstm-04-0.879-0.833.keras\n",
            "938/938 - 41s - 44ms/step - accuracy: 0.8788 - loss: 0.3016 - val_accuracy: 0.8330 - val_loss: 0.4191\n",
            "Epoch 5/10\n",
            "\n",
            "Epoch 5: saving model to /tmp/ckpt/checkpoint_lstm-05-0.897-0.843.keras\n",
            "938/938 - 41s - 43ms/step - accuracy: 0.8965 - loss: 0.2608 - val_accuracy: 0.8426 - val_loss: 0.3962\n",
            "Epoch 6/10\n",
            "\n",
            "Epoch 6: saving model to /tmp/ckpt/checkpoint_lstm-06-0.912-0.849.keras\n",
            "938/938 - 41s - 43ms/step - accuracy: 0.9123 - loss: 0.2234 - val_accuracy: 0.8493 - val_loss: 0.3815\n",
            "Epoch 7/10\n",
            "\n",
            "Epoch 7: saving model to /tmp/ckpt/checkpoint_lstm-07-0.928-0.839.keras\n",
            "938/938 - 26s - 28ms/step - accuracy: 0.9276 - loss: 0.1881 - val_accuracy: 0.8386 - val_loss: 0.4382\n",
            "Epoch 8/10\n",
            "\n",
            "Epoch 8: saving model to /tmp/ckpt/checkpoint_lstm-08-0.943-0.848.keras\n",
            "938/938 - 26s - 28ms/step - accuracy: 0.9430 - loss: 0.1535 - val_accuracy: 0.8483 - val_loss: 0.4519\n",
            "Epoch 9/10\n",
            "\n",
            "Epoch 9: saving model to /tmp/ckpt/checkpoint_lstm-09-0.957-0.849.keras\n",
            "938/938 - 26s - 28ms/step - accuracy: 0.9565 - loss: 0.1205 - val_accuracy: 0.8485 - val_loss: 0.5239\n",
            "Epoch 10/10\n",
            "\n",
            "Epoch 10: saving model to /tmp/ckpt/checkpoint_lstm-10-0.968-0.838.keras\n",
            "938/938 - 26s - 27ms/step - accuracy: 0.9677 - loss: 0.0921 - val_accuracy: 0.8379 - val_loss: 0.6009\n"
          ]
        }
      ]
    },
    {
      "cell_type": "code",
      "source": [
        "num_epochs=10\n",
        "history_cnn = model_cnn.fit(train_set, epochs=num_epochs,\n",
        "                    validation_data=val_set, verbose=2,\n",
        "                    callbacks=[model_checkpoint_callback_cnn, csv_logger_cnn]\n",
        "                    )"
      ],
      "metadata": {
        "colab": {
          "base_uri": "https://localhost:8080/"
        },
        "id": "p7ur6jmglG_X",
        "outputId": "b7b1ec2a-ab98-4e9a-ccda-7a383227f7dc"
      },
      "execution_count": 33,
      "outputs": [
        {
          "output_type": "stream",
          "name": "stdout",
          "text": [
            "Epoch 1/10\n",
            "\n",
            "Epoch 1: saving model to /tmp/ckpt/checkpoint_cnn-01-0.553-0.707.keras\n",
            "938/938 - 76s - 82ms/step - accuracy: 0.5528 - loss: 0.8997 - val_accuracy: 0.7072 - val_loss: 0.6561\n",
            "Epoch 2/10\n",
            "\n",
            "Epoch 2: saving model to /tmp/ckpt/checkpoint_cnn-02-0.767-0.789.keras\n",
            "938/938 - 62s - 66ms/step - accuracy: 0.7672 - loss: 0.5462 - val_accuracy: 0.7895 - val_loss: 0.5005\n",
            "Epoch 3/10\n",
            "\n",
            "Epoch 3: saving model to /tmp/ckpt/checkpoint_cnn-03-0.819-0.808.keras\n",
            "938/938 - 82s - 88ms/step - accuracy: 0.8193 - loss: 0.4384 - val_accuracy: 0.8077 - val_loss: 0.4556\n",
            "Epoch 4/10\n",
            "\n",
            "Epoch 4: saving model to /tmp/ckpt/checkpoint_cnn-04-0.840-0.808.keras\n",
            "938/938 - 61s - 65ms/step - accuracy: 0.8400 - loss: 0.4440 - val_accuracy: 0.8080 - val_loss: 0.4526\n",
            "Epoch 5/10\n",
            "\n",
            "Epoch 5: saving model to /tmp/ckpt/checkpoint_cnn-05-0.855-0.822.keras\n",
            "938/938 - 56s - 59ms/step - accuracy: 0.8548 - loss: 0.3610 - val_accuracy: 0.8223 - val_loss: 0.4248\n",
            "Epoch 6/10\n",
            "\n",
            "Epoch 6: saving model to /tmp/ckpt/checkpoint_cnn-06-0.868-0.824.keras\n",
            "938/938 - 54s - 58ms/step - accuracy: 0.8677 - loss: 0.3329 - val_accuracy: 0.8236 - val_loss: 0.4244\n",
            "Epoch 7/10\n",
            "\n",
            "Epoch 7: saving model to /tmp/ckpt/checkpoint_cnn-07-0.878-0.830.keras\n",
            "938/938 - 54s - 57ms/step - accuracy: 0.8782 - loss: 0.3104 - val_accuracy: 0.8297 - val_loss: 0.4148\n",
            "Epoch 8/10\n",
            "\n",
            "Epoch 8: saving model to /tmp/ckpt/checkpoint_cnn-08-0.888-0.831.keras\n",
            "938/938 - 82s - 88ms/step - accuracy: 0.8880 - loss: 0.2895 - val_accuracy: 0.8310 - val_loss: 0.4120\n",
            "Epoch 9/10\n",
            "\n",
            "Epoch 9: saving model to /tmp/ckpt/checkpoint_cnn-09-0.896-0.832.keras\n",
            "938/938 - 83s - 88ms/step - accuracy: 0.8962 - loss: 0.2702 - val_accuracy: 0.8323 - val_loss: 0.4233\n",
            "Epoch 10/10\n",
            "\n",
            "Epoch 10: saving model to /tmp/ckpt/checkpoint_cnn-10-0.905-0.829.keras\n",
            "938/938 - 81s - 86ms/step - accuracy: 0.9052 - loss: 0.2503 - val_accuracy: 0.8286 - val_loss: 0.4393\n"
          ]
        }
      ]
    },
    {
      "cell_type": "markdown",
      "source": [
        "# Visualize the results"
      ],
      "metadata": {
        "id": "wFyiC798NBf-"
      }
    },
    {
      "cell_type": "code",
      "source": [
        "plot_compare_graphs([history_lstm, history_cnn], ['LSTM', 'CNN'])"
      ],
      "metadata": {
        "id": "SzTY-App717C",
        "outputId": "42bf07eb-dab3-4c98-96f4-49495055dba1",
        "colab": {
          "base_uri": "https://localhost:8080/",
          "height": 286
        }
      },
      "execution_count": 65,
      "outputs": [
        {
          "output_type": "display_data",
          "data": {
            "text/plain": [
              "<Figure size 1500x400 with 2 Axes>"
            ],
            "image/png": "[encoded data removed]"
          },
          "metadata": {}
        }
      ]
    },
    {
      "cell_type": "markdown",
      "source": [
        "# Saving best checkpoint model"
      ],
      "metadata": {
        "id": "XkKBS4_SpceF"
      }
    },
    {
      "cell_type": "code",
      "source": [
        "!zip -r ckpt.zip /tmp/ckpt\n",
        "models_to_download = 'ckpt.zip'\n",
        "try:\n",
        "  files.download('training.log')\n",
        "  files.download(models_to_download)\n",
        "\n",
        "except e:\n",
        "  print(e)"
      ],
      "metadata": {
        "id": "V-kjr9_5NEAL"
      },
      "execution_count": null,
      "outputs": []
    },
    {
      "cell_type": "markdown",
      "source": [
        "# END TRAINING HERE, BE CAREFUL TO RUN CELLS ABOVE"
      ],
      "metadata": {
        "id": "heXxh0TkVYuw"
      }
    },
    {
      "cell_type": "markdown",
      "source": [
        "# Evaluate the model"
      ],
      "metadata": {
        "id": "7a9U4DGopko-"
      }
    },
    {
      "cell_type": "code",
      "source": [
        "def download_model():\n",
        "  model_url = 'https://github.com/sayid-alt/sentiment-analysis-nlp/raw/rnn-cnn-comparing/model/checkpoint_lstm-09-0.957-0.849.keras'\n",
        "  # Find the position of the last forward slash '/'\n",
        "  last_slash_index = model_url.rfind('/')\n",
        "\n",
        "  # Extract the substring from the last slash to the end of the string\n",
        "  model_name = model_url[last_slash_index + 1:]\n",
        "  urllib.request.urlretrieve(model_url, model_name)\n",
        "  print('Downloading model...')\n",
        "  print('Success downloading model')\n",
        "  return model_name\n",
        "\n",
        "model_path = download_model()"
      ],
      "metadata": {
        "colab": {
          "base_uri": "https://localhost:8080/"
        },
        "id": "QOJsVPJTpkOP",
        "outputId": "d7616274-eae4-41de-a7b7-0ab00e742e5d"
      },
      "execution_count": 66,
      "outputs": [
        {
          "output_type": "stream",
          "name": "stdout",
          "text": [
            "Downloading model...\n",
            "Success downloading model\n"
          ]
        }
      ]
    },
    {
      "cell_type": "code",
      "source": [
        "# loaded trained model\n",
        "loaded_model = tf.keras.models.load_model(model_path)\n",
        "loaded_model.summary()"
      ],
      "metadata": {
        "id": "KMHXtfXLqqef",
        "colab": {
          "base_uri": "https://localhost:8080/",
          "height": 275
        },
        "outputId": "59c51923-2030-4dae-e3bb-b342a31c84c1"
      },
      "execution_count": 67,
      "outputs": [
        {
          "output_type": "display_data",
          "data": {
            "text/plain": [
              "\u001b[1mModel: \"sequential\"\u001b[0m\n"
            ],
            "text/html": [
              "<pre style=\"white-space:pre;overflow-x:auto;line-height:normal;font-family:Menlo,'DejaVu Sans Mono',consolas,'Courier New',monospace\"><span style=\"font-weight: bold\">Model: \"sequential\"</span>\n",
              "</pre>\n"
            ]
          },
          "metadata": {}
        },
        {
          "output_type": "display_data",
          "data": {
            "text/plain": [
              "┏━━━━━━━━━━━━━━━━━━━━━━━━━━━━━━━━━━━━━━┳━━━━━━━━━━━━━━━━━━━━━━━━━━━━━┳━━━━━━━━━━━━━━━━━┓\n",
              "┃\u001b[1m \u001b[0m\u001b[1mLayer (type)                        \u001b[0m\u001b[1m \u001b[0m┃\u001b[1m \u001b[0m\u001b[1mOutput Shape               \u001b[0m\u001b[1m \u001b[0m┃\u001b[1m \u001b[0m\u001b[1m        Param #\u001b[0m\u001b[1m \u001b[0m┃\n",
              "┡━━━━━━━━━━━━━━━━━━━━━━━━━━━━━━━━━━━━━━╇━━━━━━━━━━━━━━━━━━━━━━━━━━━━━╇━━━━━━━━━━━━━━━━━┩\n",
              "│ embedding (\u001b[38;5;33mEmbedding\u001b[0m)                │ (\u001b[38;5;45mNone\u001b[0m, \u001b[38;5;34m100\u001b[0m, \u001b[38;5;34m250\u001b[0m)            │      \u001b[38;5;34m12,500,000\u001b[0m │\n",
              "├──────────────────────────────────────┼─────────────────────────────┼─────────────────┤\n",
              "│ bidirectional (\u001b[38;5;33mBidirectional\u001b[0m)        │ (\u001b[38;5;45mNone\u001b[0m, \u001b[38;5;34m128\u001b[0m)                 │         \u001b[38;5;34m161,280\u001b[0m │\n",
              "├──────────────────────────────────────┼─────────────────────────────┼─────────────────┤\n",
              "│ dense (\u001b[38;5;33mDense\u001b[0m)                        │ (\u001b[38;5;45mNone\u001b[0m, \u001b[38;5;34m12\u001b[0m)                  │           \u001b[38;5;34m1,548\u001b[0m │\n",
              "├──────────────────────────────────────┼─────────────────────────────┼─────────────────┤\n",
              "│ dense_1 (\u001b[38;5;33mDense\u001b[0m)                      │ (\u001b[38;5;45mNone\u001b[0m, \u001b[38;5;34m3\u001b[0m)                   │              \u001b[38;5;34m39\u001b[0m │\n",
              "└──────────────────────────────────────┴─────────────────────────────┴─────────────────┘\n"
            ],
            "text/html": [
              "<pre style=\"white-space:pre;overflow-x:auto;line-height:normal;font-family:Menlo,'DejaVu Sans Mono',consolas,'Courier New',monospace\">┏━━━━━━━━━━━━━━━━━━━━━━━━━━━━━━━━━━━━━━┳━━━━━━━━━━━━━━━━━━━━━━━━━━━━━┳━━━━━━━━━━━━━━━━━┓\n",
              "┃<span style=\"font-weight: bold\"> Layer (type)                         </span>┃<span style=\"font-weight: bold\"> Output Shape                </span>┃<span style=\"font-weight: bold\">         Param # </span>┃\n",
              "┡━━━━━━━━━━━━━━━━━━━━━━━━━━━━━━━━━━━━━━╇━━━━━━━━━━━━━━━━━━━━━━━━━━━━━╇━━━━━━━━━━━━━━━━━┩\n",
              "│ embedding (<span style=\"color: #0087ff; text-decoration-color: #0087ff\">Embedding</span>)                │ (<span style=\"color: #00d7ff; text-decoration-color: #00d7ff\">None</span>, <span style=\"color: #00af00; text-decoration-color: #00af00\">100</span>, <span style=\"color: #00af00; text-decoration-color: #00af00\">250</span>)            │      <span style=\"color: #00af00; text-decoration-color: #00af00\">12,500,000</span> │\n",
              "├──────────────────────────────────────┼─────────────────────────────┼─────────────────┤\n",
              "│ bidirectional (<span style=\"color: #0087ff; text-decoration-color: #0087ff\">Bidirectional</span>)        │ (<span style=\"color: #00d7ff; text-decoration-color: #00d7ff\">None</span>, <span style=\"color: #00af00; text-decoration-color: #00af00\">128</span>)                 │         <span style=\"color: #00af00; text-decoration-color: #00af00\">161,280</span> │\n",
              "├──────────────────────────────────────┼─────────────────────────────┼─────────────────┤\n",
              "│ dense (<span style=\"color: #0087ff; text-decoration-color: #0087ff\">Dense</span>)                        │ (<span style=\"color: #00d7ff; text-decoration-color: #00d7ff\">None</span>, <span style=\"color: #00af00; text-decoration-color: #00af00\">12</span>)                  │           <span style=\"color: #00af00; text-decoration-color: #00af00\">1,548</span> │\n",
              "├──────────────────────────────────────┼─────────────────────────────┼─────────────────┤\n",
              "│ dense_1 (<span style=\"color: #0087ff; text-decoration-color: #0087ff\">Dense</span>)                      │ (<span style=\"color: #00d7ff; text-decoration-color: #00d7ff\">None</span>, <span style=\"color: #00af00; text-decoration-color: #00af00\">3</span>)                   │              <span style=\"color: #00af00; text-decoration-color: #00af00\">39</span> │\n",
              "└──────────────────────────────────────┴─────────────────────────────┴─────────────────┘\n",
              "</pre>\n"
            ]
          },
          "metadata": {}
        },
        {
          "output_type": "display_data",
          "data": {
            "text/plain": [
              "\u001b[1m Total params: \u001b[0m\u001b[38;5;34m25,325,736\u001b[0m (96.61 MB)\n"
            ],
            "text/html": [
              "<pre style=\"white-space:pre;overflow-x:auto;line-height:normal;font-family:Menlo,'DejaVu Sans Mono',consolas,'Courier New',monospace\"><span style=\"font-weight: bold\"> Total params: </span><span style=\"color: #00af00; text-decoration-color: #00af00\">25,325,736</span> (96.61 MB)\n",
              "</pre>\n"
            ]
          },
          "metadata": {}
        },
        {
          "output_type": "display_data",
          "data": {
            "text/plain": [
              "\u001b[1m Trainable params: \u001b[0m\u001b[38;5;34m12,662,867\u001b[0m (48.31 MB)\n"
            ],
            "text/html": [
              "<pre style=\"white-space:pre;overflow-x:auto;line-height:normal;font-family:Menlo,'DejaVu Sans Mono',consolas,'Courier New',monospace\"><span style=\"font-weight: bold\"> Trainable params: </span><span style=\"color: #00af00; text-decoration-color: #00af00\">12,662,867</span> (48.31 MB)\n",
              "</pre>\n"
            ]
          },
          "metadata": {}
        },
        {
          "output_type": "display_data",
          "data": {
            "text/plain": [
              "\u001b[1m Non-trainable params: \u001b[0m\u001b[38;5;34m0\u001b[0m (0.00 B)\n"
            ],
            "text/html": [
              "<pre style=\"white-space:pre;overflow-x:auto;line-height:normal;font-family:Menlo,'DejaVu Sans Mono',consolas,'Courier New',monospace\"><span style=\"font-weight: bold\"> Non-trainable params: </span><span style=\"color: #00af00; text-decoration-color: #00af00\">0</span> (0.00 B)\n",
              "</pre>\n"
            ]
          },
          "metadata": {}
        },
        {
          "output_type": "display_data",
          "data": {
            "text/plain": [
              "\u001b[1m Optimizer params: \u001b[0m\u001b[38;5;34m12,662,869\u001b[0m (48.31 MB)\n"
            ],
            "text/html": [
              "<pre style=\"white-space:pre;overflow-x:auto;line-height:normal;font-family:Menlo,'DejaVu Sans Mono',consolas,'Courier New',monospace\"><span style=\"font-weight: bold\"> Optimizer params: </span><span style=\"color: #00af00; text-decoration-color: #00af00\">12,662,869</span> (48.31 MB)\n",
              "</pre>\n"
            ]
          },
          "metadata": {}
        }
      ]
    },
    {
      "cell_type": "code",
      "source": [
        "loss, accuracy = loaded_model.evaluate(test_set)\n",
        "print(f'Loss: {loss}')\n",
        "print(f'Accuracy: {accuracy}')"
      ],
      "metadata": {
        "colab": {
          "base_uri": "https://localhost:8080/"
        },
        "id": "VClQvC6oqxbj",
        "outputId": "759a0a3d-672a-48f9-bba4-b69f730c417d"
      },
      "execution_count": 68,
      "outputs": [
        {
          "output_type": "stream",
          "name": "stdout",
          "text": [
            "\u001b[1m118/118\u001b[0m \u001b[32m━━━━━━━━━━━━━━━━━━━━\u001b[0m\u001b[37m\u001b[0m \u001b[1m2s\u001b[0m 10ms/step - accuracy: 0.8448 - loss: 0.5253\n",
            "Loss: 0.5104238390922546\n",
            "Accuracy: 0.8490333557128906\n"
          ]
        }
      ]
    },
    {
      "cell_type": "markdown",
      "source": [
        "## Visualize Word Embeddings"
      ],
      "metadata": {
        "id": "uvcwCJqMgfeK"
      }
    },
    {
      "cell_type": "markdown",
      "source": [
        "Get embedding layer weights for visualization"
      ],
      "metadata": {
        "id": "SijqZ9EnhyBN"
      }
    },
    {
      "cell_type": "code",
      "source": [
        "# get embedding layer\n",
        "embedding_layer = loaded_model.layers[0]\n",
        "\n",
        "# get weights of embedding layer\n",
        "embedding_weights = embedding_layer.get_weights()[0]\n",
        "\n",
        "# print shape of embedding layer\n",
        "print(embedding_weights.shape)\n",
        "print(embedding_weights)"
      ],
      "metadata": {
        "colab": {
          "base_uri": "https://localhost:8080/"
        },
        "id": "NF4dWhaRgg_i",
        "outputId": "5af94b90-81e1-4914-a1f2-c4ac20eca65c"
      },
      "execution_count": 69,
      "outputs": [
        {
          "output_type": "stream",
          "name": "stdout",
          "text": [
            "(50000, 250)\n",
            "[[ 0.1831262   0.12550364  0.13722965 ...  0.32060695  0.06249567\n",
            "   0.18775545]\n",
            " [ 0.04645319 -0.02175957  0.06339583 ... -0.01247061 -0.05253541\n",
            "   0.08111007]\n",
            " [ 0.04426893  0.26687342 -0.12405849 ...  0.05337131  0.05360645\n",
            "   0.18554385]\n",
            " ...\n",
            " [-0.011035   -0.01472478 -0.00376632 ...  0.03963325 -0.00690969\n",
            "  -0.01985934]\n",
            " [ 0.04751653  0.0108649  -0.01363652 ... -0.03010692 -0.0539809\n",
            "   0.0087465 ]\n",
            " [-0.02255543  0.02775215 -0.05462563 ... -0.05319273 -0.00451641\n",
            "   0.02984509]]\n"
          ]
        }
      ]
    },
    {
      "cell_type": "markdown",
      "source": [
        "Visit [Tensorflow Embedding Projector](https://projector.tensorflow.org/) for visualize the embedding word"
      ],
      "metadata": {
        "id": "tmONHen5m9hJ"
      }
    },
    {
      "cell_type": "code",
      "source": [
        "import io\n",
        "\n",
        "out_v = io.open('vecs.tsv', 'w', encoding='utf-8')\n",
        "out_m = io.open('meta.tsv', 'w', encoding='utf-8')\n",
        "\n",
        "for i in range(1, vocab_size):\n",
        "  # get word names from tokenizer dictionary of index word\n",
        "  # {1: 'word',...}\n",
        "  word_name = tokenizer.index_word[i]\n",
        "\n",
        "  # get word embeddings, shape of (10000, 24)\n",
        "  word_embeddings = embedding_weights[i]\n",
        "\n",
        "  # write word name in each line of the file\n",
        "  out_m.write(word_name + '\\n')\n",
        "\n",
        "  # write word embeddings of 24 dims in each training data\n",
        "  out_v.write('\\t'.join([str(x) for x in word_embeddings]) + '\\n')\n",
        "\n",
        "# close the file\n",
        "out_v.close()\n",
        "out_m.close()"
      ],
      "metadata": {
        "id": "cGwzRcS6iCJH"
      },
      "execution_count": 44,
      "outputs": []
    },
    {
      "cell_type": "markdown",
      "source": [
        "Download vecs.tsv and meta.tsv files for uploading to tensorflow embedding projector to visualize"
      ],
      "metadata": {
        "id": "L7smvlGZnrpN"
      }
    },
    {
      "cell_type": "code",
      "source": [
        "try:\n",
        "  files.download('vecs.tsv')\n",
        "  files.download('meta.tsv')\n",
        "except e:\n",
        "  print(e)"
      ],
      "metadata": {
        "colab": {
          "base_uri": "https://localhost:8080/",
          "height": 17
        },
        "id": "fzM7_rvenJ06",
        "outputId": "59174fe2-985e-4300-9643-74e0a747b473"
      },
      "execution_count": 45,
      "outputs": [
        {
          "output_type": "display_data",
          "data": {
            "text/plain": [
              "<IPython.core.display.Javascript object>"
            ],
            "application/javascript": [
              "\n",
              "    async function download(id, filename, size) {\n",
              "      if (!google.colab.kernel.accessAllowed) {\n",
              "        return;\n",
              "      }\n",
              "      const div = document.createElement('div');\n",
              "      const label = document.createElement('label');\n",
              "      label.textContent = `Downloading \"${filename}\": `;\n",
              "      div.appendChild(label);\n",
              "      const progress = document.createElement('progress');\n",
              "      progress.max = size;\n",
              "      div.appendChild(progress);\n",
              "      document.body.appendChild(div);\n",
              "\n",
              "      const buffers = [];\n",
              "      let downloaded = 0;\n",
              "\n",
              "      const channel = await google.colab.kernel.comms.open(id);\n",
              "      // Send a message to notify the kernel that we're ready.\n",
              "      channel.send({})\n",
              "\n",
              "      for await (const message of channel.messages) {\n",
              "        // Send a message to notify the kernel that we're ready.\n",
              "        channel.send({})\n",
              "        if (message.buffers) {\n",
              "          for (const buffer of message.buffers) {\n",
              "            buffers.push(buffer);\n",
              "            downloaded += buffer.byteLength;\n",
              "            progress.value = downloaded;\n",
              "          }\n",
              "        }\n",
              "      }\n",
              "      const blob = new Blob(buffers, {type: 'application/binary'});\n",
              "      const a = document.createElement('a');\n",
              "      a.href = window.URL.createObjectURL(blob);\n",
              "      a.download = filename;\n",
              "      div.appendChild(a);\n",
              "      a.click();\n",
              "      div.remove();\n",
              "    }\n",
              "  "
            ]
          },
          "metadata": {}
        },
        {
          "output_type": "display_data",
          "data": {
            "text/plain": [
              "<IPython.core.display.Javascript object>"
            ],
            "application/javascript": [
              "download(\"download_c6f7a08c-1742-4611-a1d6-22d40362c860\", \"vecs.tsv\", 2371035)"
            ]
          },
          "metadata": {}
        },
        {
          "output_type": "display_data",
          "data": {
            "text/plain": [
              "<IPython.core.display.Javascript object>"
            ],
            "application/javascript": [
              "\n",
              "    async function download(id, filename, size) {\n",
              "      if (!google.colab.kernel.accessAllowed) {\n",
              "        return;\n",
              "      }\n",
              "      const div = document.createElement('div');\n",
              "      const label = document.createElement('label');\n",
              "      label.textContent = `Downloading \"${filename}\": `;\n",
              "      div.appendChild(label);\n",
              "      const progress = document.createElement('progress');\n",
              "      progress.max = size;\n",
              "      div.appendChild(progress);\n",
              "      document.body.appendChild(div);\n",
              "\n",
              "      const buffers = [];\n",
              "      let downloaded = 0;\n",
              "\n",
              "      const channel = await google.colab.kernel.comms.open(id);\n",
              "      // Send a message to notify the kernel that we're ready.\n",
              "      channel.send({})\n",
              "\n",
              "      for await (const message of channel.messages) {\n",
              "        // Send a message to notify the kernel that we're ready.\n",
              "        channel.send({})\n",
              "        if (message.buffers) {\n",
              "          for (const buffer of message.buffers) {\n",
              "            buffers.push(buffer);\n",
              "            downloaded += buffer.byteLength;\n",
              "            progress.value = downloaded;\n",
              "          }\n",
              "        }\n",
              "      }\n",
              "      const blob = new Blob(buffers, {type: 'application/binary'});\n",
              "      const a = document.createElement('a');\n",
              "      a.href = window.URL.createObjectURL(blob);\n",
              "      a.download = filename;\n",
              "      div.appendChild(a);\n",
              "      a.click();\n",
              "      div.remove();\n",
              "    }\n",
              "  "
            ]
          },
          "metadata": {}
        },
        {
          "output_type": "display_data",
          "data": {
            "text/plain": [
              "<IPython.core.display.Javascript object>"
            ],
            "application/javascript": [
              "download(\"download_d5f2c9ce-a9b2-45b6-af4e-73486527a0c6\", \"meta.tsv\", 78729)"
            ]
          },
          "metadata": {}
        }
      ]
    },
    {
      "cell_type": "markdown",
      "source": [
        "## Prediction"
      ],
      "metadata": {
        "id": "PdjE2h1XwMLr"
      }
    },
    {
      "cell_type": "code",
      "source": [
        "# predict the test labels from dataset\n",
        "\n",
        "# show prediction softmax probability in each data\n",
        "predictions = loaded_model.predict(padded_test)\n",
        "print(predictions)"
      ],
      "metadata": {
        "colab": {
          "base_uri": "https://localhost:8080/"
        },
        "id": "tJk2DtL-q6tx",
        "outputId": "41afe0e3-d530-4a01-a20a-99475cf075ed"
      },
      "execution_count": 70,
      "outputs": [
        {
          "output_type": "stream",
          "name": "stdout",
          "text": [
            "\u001b[1m938/938\u001b[0m \u001b[32m━━━━━━━━━━━━━━━━━━━━\u001b[0m\u001b[37m\u001b[0m \u001b[1m5s\u001b[0m 5ms/step\n",
            "[[3.7586960e-05 2.0249760e-01 7.9746479e-01]\n",
            " [3.1619908e-07 2.9306972e-04 9.9970657e-01]\n",
            " [3.2182504e-07 4.6835523e-03 9.9531615e-01]\n",
            " ...\n",
            " [9.9998748e-01 1.2517742e-05 2.0705371e-09]\n",
            " [1.2163193e-02 8.4774852e-02 9.0306199e-01]\n",
            " [1.8944742e-06 2.4624998e-03 9.9753559e-01]]\n"
          ]
        }
      ]
    },
    {
      "cell_type": "markdown",
      "source": [
        "## Confussion Matrix"
      ],
      "metadata": {
        "id": "JR0Cnz8W-jPQ"
      }
    },
    {
      "cell_type": "code",
      "source": [
        "labels_encoder"
      ],
      "metadata": {
        "id": "TKY58JNJEVxk",
        "outputId": "4aa50cd0-426b-442c-de8e-3868c79f79f6",
        "colab": {
          "base_uri": "https://localhost:8080/"
        }
      },
      "execution_count": 47,
      "outputs": [
        {
          "output_type": "execute_result",
          "data": {
            "text/plain": [
              "{0: 'positive', 1: 'neutral', 2: 'negative'}"
            ]
          },
          "metadata": {},
          "execution_count": 47
        }
      ]
    },
    {
      "cell_type": "code",
      "source": [
        "np.unique(test_labels)"
      ],
      "metadata": {
        "id": "VooPPXrvFVcj",
        "outputId": "b266af21-58c7-42dc-b710-eb92173a63f5",
        "colab": {
          "base_uri": "https://localhost:8080/"
        }
      },
      "execution_count": 48,
      "outputs": [
        {
          "output_type": "execute_result",
          "data": {
            "text/plain": [
              "array([0, 1, 2])"
            ]
          },
          "metadata": {},
          "execution_count": 48
        }
      ]
    },
    {
      "cell_type": "code",
      "source": [
        "# Return the highest softmax prob index\n",
        "pred_labels = np.argmax(predictions, axis=1)\n",
        "print(f'pred labels: {pred_labels[:5]}')\n",
        "print(f'test labels: {test_labels[:5]}')\n",
        "\n",
        "con_mat = tf.math.confusion_matrix(labels=test_labels,\n",
        "                                   predictions=pred_labels).numpy()\n",
        "\n",
        "print(f'confusion matrix values: \\n{con_mat}')"
      ],
      "metadata": {
        "id": "TNaa5PbI-mIt",
        "outputId": "52795301-cfff-4946-b628-22daca138ed4",
        "colab": {
          "base_uri": "https://localhost:8080/"
        }
      },
      "execution_count": 71,
      "outputs": [
        {
          "output_type": "stream",
          "name": "stdout",
          "text": [
            "pred labels: [2 2 2 0 2]\n",
            "test labels: [[2]\n",
            " [2]\n",
            " [1]\n",
            " [0]\n",
            " [2]]\n",
            "confusion matrix values: \n",
            "[[8968  902  130]\n",
            " [1137 7543 1320]\n",
            " [  69  971 8960]]\n"
          ]
        }
      ]
    },
    {
      "cell_type": "code",
      "source": [
        "con_mat_disp = ConfusionMatrixDisplay(con_mat, display_labels=['Positive','Neutral', 'Negative'])\n",
        "con_mat_disp.plot(cmap=plt.cm.Blues)\n",
        "plt.title('Confusion Matrix')\n",
        "plt.show()"
      ],
      "metadata": {
        "id": "gVdXkFasCstm",
        "outputId": "f9ad2724-04a8-4b88-8f67-020b2f02315e",
        "colab": {
          "base_uri": "https://localhost:8080/",
          "height": 472
        }
      },
      "execution_count": 72,
      "outputs": [
        {
          "output_type": "display_data",
          "data": {
            "text/plain": [
              "<Figure size 640x480 with 2 Axes>"
            ],
            "image/png": "[encoded data removed]"
          },
          "metadata": {}
        }
      ]
    },
    {
      "cell_type": "markdown",
      "source": [
        "## Label Binarize"
      ],
      "metadata": {
        "id": "9YXIPVd2ki22"
      }
    },
    {
      "cell_type": "code",
      "source": [
        "# Assuming test_labels and predictions are given\n",
        "# test_labels: Actual labels (e.g., [0, 1, 2, 0, 2])\n",
        "# predictions: Predicted probabilities for each class (e.g., shape [n_samples, n_classes])\n",
        "\n",
        "# Binarize the labels for a one-vs-rest approach\n",
        "n_classes = predictions.shape[1]\n",
        "\n",
        "#converts the original test_labels into a one-hot encoded format.\n",
        "test_labels_bin = label_binarize(test_labels, classes=np.arange(n_classes))"
      ],
      "metadata": {
        "id": "U94Ssgerkk1v"
      },
      "execution_count": 73,
      "outputs": []
    },
    {
      "cell_type": "markdown",
      "source": [
        "## ROC Curve (One vs the Rest)"
      ],
      "metadata": {
        "id": "gTeOYgppcgbE"
      }
    },
    {
      "cell_type": "code",
      "source": [
        "from sklearn.metrics import RocCurveDisplay\n",
        "\n",
        "fig, axes = plt.subplots(figsize=(15, 4), nrows=1, ncols=3)\n",
        "\n",
        "for i in range(n_classes):\n",
        "  # display roc curve from prediction\n",
        "  display = RocCurveDisplay.from_predictions(\n",
        "      test_labels_bin[:, i],\n",
        "      predictions[:, i],\n",
        "      name=f'Class {labels_encoder[i]} vs the rest',\n",
        "      color=\"darkorange\",\n",
        "      plot_chance_level=True,\n",
        "      ax = axes[i]\n",
        "  )\n",
        "\n",
        "  display.ax_.set(\n",
        "      title=f'ROC Curve for {labels_encoder[i]}',\n",
        "      xlabel='False Positive Rate',\n",
        "      ylabel='True Positive Rate',\n",
        "  )\n",
        "\n",
        "plt.show()\n"
      ],
      "metadata": {
        "id": "sPwkrRvRwM0j",
        "colab": {
          "base_uri": "https://localhost:8080/",
          "height": 286
        },
        "outputId": "9bf6f172-21dc-4695-857e-cb3de8d3aaf5"
      },
      "execution_count": 74,
      "outputs": [
        {
          "output_type": "display_data",
          "data": {
            "text/plain": [
              "<Figure size 1500x400 with 3 Axes>"
            ],
            "image/png": "[encoded data removed]"
          },
          "metadata": {}
        }
      ]
    },
    {
      "cell_type": "markdown",
      "source": [
        "## Precision, Recall, F1 score"
      ],
      "metadata": {
        "id": "GaRqDS1fcctD"
      }
    },
    {
      "cell_type": "code",
      "source": [
        "precision_score = precision_score(test_labels, pred_labels, average='micro')\n",
        "recall_score = recall_score(test_labels, pred_labels, average='micro')\n",
        "f1_score = f1_score(test_labels, pred_labels, average='micro')"
      ],
      "metadata": {
        "id": "il6aczG_N7Yt"
      },
      "execution_count": 75,
      "outputs": []
    },
    {
      "cell_type": "code",
      "source": [
        "# Store precision, recall, thresholds for each class\n",
        "precision_dict = {}\n",
        "recall_dict = {}\n",
        "thresholds_dict = {}\n",
        "\n",
        "# set the figures for plotting\n",
        "fig, ax = plt.subplots(nrows=1, ncols=3, figsize=(15, 4))\n",
        "\n",
        "for i in range(n_classes):\n",
        "    # Calculate precision, recall, and thresholds for each class\n",
        "    precision, recall, thresholds = precision_recall_curve(test_labels_bin[:, i], predictions[:, i])\n",
        "\n",
        "    # store values of precision, recall, and thresholds in dictionaries\n",
        "    precision_dict[i] = precision\n",
        "    recall_dict[i] = recall\n",
        "    thresholds_dict[i] = thresholds\n",
        "\n",
        "    # display the corresponden values\n",
        "    display = PrecisionRecallDisplay(\n",
        "        recall=recall_dict[i],\n",
        "        precision=precision_dict[i]\n",
        "    )\n",
        "\n",
        "    display.plot(ax=ax[i], name=f'Class {labels_encoder[i]}')\n",
        "    ax[i].set_title(f'Precision-Recall Curve for {labels_encoder[i]}')\n",
        "    ax[i].set_xlabel('Recall')\n",
        "    ax[i].set_ylabel('Precision')\n",
        "\n",
        "    # print\n",
        "    print(f'Precision for class {labels_encoder[i]}: {precision_dict[0]}')\n",
        "    print(f'Recall for class {labels_encoder[i]}: {recall_dict[0]}')\n",
        "    print(f'Thresholds for class {labels_encoder[i]}: {thresholds_dict[0]}\\n')\n",
        "\n",
        "\n",
        "# print macro-average of precision, recall, f1 score\n",
        "print(f'Precision Score: {precision_score}')\n",
        "print(f'Recall Score: {recall_score}')\n",
        "print(f'F1 Score: {f1_score}')"
      ],
      "metadata": {
        "colab": {
          "base_uri": "https://localhost:8080/",
          "height": 618
        },
        "id": "jKGCIRhMdTBr",
        "outputId": "d793ca78-3910-458a-878b-ad1c64af3386"
      },
      "execution_count": 76,
      "outputs": [
        {
          "output_type": "stream",
          "name": "stdout",
          "text": [
            "Precision for class positive: [0.33333333 0.33334444 0.33335556 ... 1.         1.         1.        ]\n",
            "Recall for class positive: [1.00e+00 1.00e+00 1.00e+00 ... 1.25e-02 1.00e-04 0.00e+00]\n",
            "Thresholds for class positive: [7.4649835e-11 8.3837784e-11 8.8555149e-11 ... 9.9999714e-01 9.9999726e-01\n",
            " 9.9999738e-01]\n",
            "\n",
            "Precision for class neutral: [0.33333333 0.33334444 0.33335556 ... 1.         1.         1.        ]\n",
            "Recall for class neutral: [1.00e+00 1.00e+00 1.00e+00 ... 1.25e-02 1.00e-04 0.00e+00]\n",
            "Thresholds for class neutral: [7.4649835e-11 8.3837784e-11 8.8555149e-11 ... 9.9999714e-01 9.9999726e-01\n",
            " 9.9999738e-01]\n",
            "\n",
            "Precision for class negative: [0.33333333 0.33334444 0.33335556 ... 1.         1.         1.        ]\n",
            "Recall for class negative: [1.00e+00 1.00e+00 1.00e+00 ... 1.25e-02 1.00e-04 0.00e+00]\n",
            "Thresholds for class negative: [7.4649835e-11 8.3837784e-11 8.8555149e-11 ... 9.9999714e-01 9.9999726e-01\n",
            " 9.9999738e-01]\n",
            "\n",
            "Precision Score: 0.8490333333333333\n",
            "Recall Score: 0.8490333333333333\n",
            "F1 Score: 0.8490333333333333\n"
          ]
        },
        {
          "output_type": "display_data",
          "data": {
            "text/plain": [
              "<Figure size 1500x400 with 3 Axes>"
            ],
            "image/png": "[encoded data removed]"
          },
          "metadata": {}
        }
      ]
    },
    {
      "cell_type": "markdown",
      "source": [
        "## Input user"
      ],
      "metadata": {
        "id": "1dG2d3vT0e1_"
      }
    },
    {
      "cell_type": "code",
      "source": [
        "user_input = input('Enter a sentence: ')\n",
        "\n",
        "# tokenize the sentence\n",
        "user_sequence = tokenizer.texts_to_sequences([user_input])\n",
        "\n",
        "# pad the sequence\n",
        "user_padded = pad_sequences(user_sequence, maxlen=max_length, truncating='post', padding='post')\n",
        "\n",
        "# predict the sentiment\n",
        "prediction = loaded_model.predict(user_padded)\n",
        "\n",
        "# -- - Summary prediciton ---\n",
        "print('---- Prediction summary -----')\n",
        "print(labels_encoder)\n",
        "print('Softmax probability:', prediction[0])\n",
        "\n",
        "# return the highest probability of 3 categories\n",
        "predicted_index = np.argmax(prediction, axis=1)\n",
        "\n",
        "# get the predicted label based on highest probability\n",
        "predicted_label = labels_encoder[predicted_index[0]]\n",
        "print(f'Predicted sentiment: {predicted_label}')"
      ],
      "metadata": {
        "colab": {
          "base_uri": "https://localhost:8080/"
        },
        "id": "xhNMa0DjuVv5",
        "outputId": "5fad8663-5155-475a-a5aa-c8b1da833735"
      },
      "execution_count": 77,
      "outputs": [
        {
          "output_type": "stream",
          "name": "stdout",
          "text": [
            "Enter a sentence: I want go to the bedroom, but the bedroom is suck, no it's not, turns out it's good\n",
            "\u001b[1m1/1\u001b[0m \u001b[32m━━━━━━━━━━━━━━━━━━━━\u001b[0m\u001b[37m\u001b[0m \u001b[1m0s\u001b[0m 67ms/step\n",
            "---- Prediction summary -----\n",
            "{0: 'positive', 1: 'neutral', 2: 'negative'}\n",
            "Softmax probability: [9.7193289e-01 2.7125686e-02 9.4144308e-04]\n",
            "Predicted sentiment: positive\n"
          ]
        }
      ]
    },
    {
      "cell_type": "markdown",
      "source": [
        "\n",
        "# Deployment"
      ],
      "metadata": {
        "id": "OhkI7wz92n_v"
      }
    },
    {
      "cell_type": "markdown",
      "source": [
        "## Using Pickle"
      ],
      "metadata": {
        "id": "qv6vZ1GX5dFK"
      }
    },
    {
      "cell_type": "code",
      "source": [
        "with open('model.pkl', 'wb') as file:\n",
        "  pickle.dump(loaded_model, file)"
      ],
      "metadata": {
        "id": "ilJXPFG6vPDc"
      },
      "execution_count": null,
      "outputs": []
    },
    {
      "cell_type": "code",
      "source": [
        "files.download('model.pkl')"
      ],
      "metadata": {
        "id": "TnwOYqmf5Y-c",
        "outputId": "ed8a4cae-1518-423e-ef02-fd4b7e9a5401",
        "colab": {
          "base_uri": "https://localhost:8080/",
          "height": 17
        }
      },
      "execution_count": null,
      "outputs": [
        {
          "output_type": "display_data",
          "data": {
            "text/plain": [
              "<IPython.core.display.Javascript object>"
            ],
            "application/javascript": [
              "\n",
              "    async function download(id, filename, size) {\n",
              "      if (!google.colab.kernel.accessAllowed) {\n",
              "        return;\n",
              "      }\n",
              "      const div = document.createElement('div');\n",
              "      const label = document.createElement('label');\n",
              "      label.textContent = `Downloading \"${filename}\": `;\n",
              "      div.appendChild(label);\n",
              "      const progress = document.createElement('progress');\n",
              "      progress.max = size;\n",
              "      div.appendChild(progress);\n",
              "      document.body.appendChild(div);\n",
              "\n",
              "      const buffers = [];\n",
              "      let downloaded = 0;\n",
              "\n",
              "      const channel = await google.colab.kernel.comms.open(id);\n",
              "      // Send a message to notify the kernel that we're ready.\n",
              "      channel.send({})\n",
              "\n",
              "      for await (const message of channel.messages) {\n",
              "        // Send a message to notify the kernel that we're ready.\n",
              "        channel.send({})\n",
              "        if (message.buffers) {\n",
              "          for (const buffer of message.buffers) {\n",
              "            buffers.push(buffer);\n",
              "            downloaded += buffer.byteLength;\n",
              "            progress.value = downloaded;\n",
              "          }\n",
              "        }\n",
              "      }\n",
              "      const blob = new Blob(buffers, {type: 'application/binary'});\n",
              "      const a = document.createElement('a');\n",
              "      a.href = window.URL.createObjectURL(blob);\n",
              "      a.download = filename;\n",
              "      div.appendChild(a);\n",
              "      a.click();\n",
              "      div.remove();\n",
              "    }\n",
              "  "
            ]
          },
          "metadata": {}
        },
        {
          "output_type": "display_data",
          "data": {
            "text/plain": [
              "<IPython.core.display.Javascript object>"
            ],
            "application/javascript": [
              "download(\"download_7f782391-58ef-4d2d-b869-17700a3b6843\", \"model.pkl\", 3015788)"
            ]
          },
          "metadata": {}
        }
      ]
    }
  ]
}