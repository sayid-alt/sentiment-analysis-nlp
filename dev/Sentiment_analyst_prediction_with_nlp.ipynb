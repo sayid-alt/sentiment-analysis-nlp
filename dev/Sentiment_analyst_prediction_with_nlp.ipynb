{
  "nbformat": 4,
  "nbformat_minor": 0,
  "metadata": {
    "colab": {
      "provenance": [],
      "gpuType": "T4",
      "toc_visible": true,
      "authorship_tag": "ABX9TyNW5+bi8qvXHAmUT7hh0V+O",
      "include_colab_link": true
    },
    "kernelspec": {
      "name": "python3",
      "display_name": "Python 3"
    },
    "language_info": {
      "name": "python"
    },
    "accelerator": "GPU"
  },
  "cells": [
    {
      "cell_type": "markdown",
      "metadata": {
        "id": "view-in-github",
        "colab_type": "text"
      },
      "source": [
        "<a href=\"https://colab.research.google.com/github/sayid-alt/sentiment-analysis-nlp/blob/rnn-cnn-comparing/dev/Sentiment_analyst_prediction_with_nlp.ipynb\" target=\"_parent\"><img src=\"https://colab.research.google.com/assets/colab-badge.svg\" alt=\"Open In Colab\"/></a>"
      ]
    },
    {
      "cell_type": "markdown",
      "source": [
        "dataset: [kaggle](https://www.kaggle.com/datasets/damirolejar/sentiment-analysis-nlp-trainset-data?select=final_negative.txt)\n",
        "\n",
        "See copied project on [github](https://github.com/sayid-alt/sentiment-analysis-nlp)"
      ],
      "metadata": {
        "id": "F9H5Yfrq0vYW"
      }
    },
    {
      "cell_type": "markdown",
      "source": [
        "# Import library"
      ],
      "metadata": {
        "id": "Pbj4dcEwJy6G"
      }
    },
    {
      "cell_type": "code",
      "execution_count": 1,
      "metadata": {
        "id": "4tt4urRzC3AO"
      },
      "outputs": [],
      "source": [
        "import tensorflow as tf\n",
        "import pandas as pd\n",
        "import matplotlib.pyplot as plt\n",
        "import numpy as np\n",
        "import seaborn as sns\n",
        "import pickle\n",
        "\n",
        "from sklearn.model_selection import train_test_split\n",
        "\n",
        "from tensorflow.keras.preprocessing.text import Tokenizer\n",
        "from tensorflow.keras.preprocessing.sequence import pad_sequences\n",
        "from tensorflow.keras.layers import Dense, GlobalAveragePooling1D, Embedding, Flatten, Dropout, LSTM, Bidirectional, Conv1D, MaxPooling1D\n",
        "from tensorflow.keras.callbacks import CSVLogger, ModelCheckpoint, EarlyStopping\n",
        "from tensorflow.keras.optimizers import RMSprop, Adam\n",
        "\n",
        "from sklearn.metrics import ConfusionMatrixDisplay, f1_score, precision_score, recall_score, precision_recall_curve,precision_recall_curve, PrecisionRecallDisplay\n",
        "from sklearn.preprocessing import label_binarize\n",
        "\n",
        "from google.colab import files\n",
        "\n",
        "import os\n",
        "import zipfile\n",
        "import urllib.request"
      ]
    },
    {
      "cell_type": "markdown",
      "source": [
        "# Utilities"
      ],
      "metadata": {
        "id": "cS4pCtE5KavM"
      }
    },
    {
      "cell_type": "code",
      "source": [
        "DOWNLOAD_URL = 'https://github.com/sayid-alt/sentiment-analysis-nlp/raw/main/data/text.zip'\n",
        "DOWNLOAD_DIR = os.path.join(os.getcwd(), 'datasets')\n",
        "\n",
        "def download_data(url=DOWNLOAD_URL, dir=DOWNLOAD_DIR):\n",
        "    # Downloading data\n",
        "    print('Downloading data...')\n",
        "    if not os.path.exists(dir):\n",
        "        os.makedirs(dir)\n",
        "\n",
        "    zip_path = os.path.join(dir, 'text.zip')\n",
        "    urllib.request.urlretrieve(url, zip_path)\n",
        "    print(f'Success downloading data to {zip_path}')\n",
        "\n",
        "    # Extract zip file\n",
        "    with zipfile.ZipFile(zip_path, 'r') as zip_ref:\n",
        "        zip_ref.extractall(dir)\n",
        "        print(f'Success extracting data to {dir}')\n",
        "\n",
        "\n",
        "# prep data from text file to variable in list type\n",
        "def prep_data_txt(filepath):\n",
        "  '''\n",
        "    filepath: path for text file\n",
        "    return: list of text\n",
        "  '''\n",
        "  datalist = []\n",
        "  with open(filepath, 'r') as file:\n",
        "    lines = file.readlines()\n",
        "    for line in lines:\n",
        "      datalist.append(line.strip())\n",
        "  return datalist\n",
        "\n",
        "# retrieve data\n",
        "def retrieve_sentiment_data():\n",
        "  '''\n",
        "    return: neg_text, pos_text, ne_text as the dataset for sentiment analysis\n",
        "  '''\n",
        "  neg_text = prep_data_txt(os.path.join(data_dir, 'final_negative.txt')) #negative data\n",
        "  pos_text = prep_data_txt(os.path.join(data_dir, 'final_positive.txt'))# positif data\n",
        "  ne_text = prep_data_txt(os.path.join(data_dir, 'final_neutral.txt'))\n",
        "\n",
        "  print(f'Negative data length: {len(neg_text)}')\n",
        "  print(f'Positive data length: {len(pos_text)}')\n",
        "  print(f'neutral data length: {len(ne_text)}')\n",
        "\n",
        "  print(f'Negative data sample: {neg_text[:5]}')\n",
        "  print(f'Positive data sample: {pos_text[:5]}')\n",
        "  print(f'neutral data sample: {ne_text[:5]}')\n",
        "\n",
        "  return neg_text, pos_text, ne_text\n",
        "\n",
        "\n",
        "def stratified_split(df):\n",
        "  # split data using stratified with size train/val/test 80/10/10 respectively\n",
        "  df_train, df_test = train_test_split(df,\n",
        "                                       test_size=0.2,\n",
        "                                       random_state=42,\n",
        "                                       stratify=df['label'])\n",
        "\n",
        "\n",
        "  # split throug test size for get validation split\n",
        "  df_val, df_test = train_test_split(df_test,\n",
        "                                     test_size=0.5,\n",
        "                                     random_state=42,\n",
        "                                     stratify=df_test['label'])\n",
        "\n",
        "  value_count = df['label'].value_counts()\n",
        "  train_count = df_train['label'].value_counts()\n",
        "  val_count = df_val['label'].value_counts()\n",
        "  test_count = df_test['label'].value_counts()\n",
        "\n",
        "  print(f'Value count:\\n{value_count}')\n",
        "  print(f'-----------\\nTrain count:\\n{train_count}')\n",
        "  print(f'Val count:\\n{val_count}')\n",
        "  print(f'Test count:\\n{test_count}')\n",
        "\n",
        "  return df_train, df_val, df_test\n",
        "\n",
        "def check_distribution(labels,\n",
        "                       title=None,\n",
        "                       xlabel='Labels',\n",
        "                       ylabel='Frequency'\n",
        "                       ):\n",
        "  plt.figure(figsize=(5, 4))\n",
        "  sns.histplot(labels, bins=3, color='skyblue')\n",
        "  plt.title(title)\n",
        "  plt.xlabel(xlabel)\n",
        "  plt.ylabel(ylabel)\n",
        "  plt.show()\n",
        "\n",
        "def check_split_distribution(labels):\n",
        "  fig, ax = plt.subplots(nrows=1, ncols=3, figsize=(15, 4))\n",
        "\n",
        "  for i, label in enumerate(labels):\n",
        "    label.hist(ax=ax[i], bins=3, color='skyblue')\n",
        "    ax[i].set_xlabel('Labels')\n",
        "    ax[i].set_ylabel('Frequency')\n",
        "  plt.show()\n",
        "\n",
        "# Plot utility\n",
        "def plot_graphs(history, strings=['accuracy', 'loss']):\n",
        "  fig, ax = plt.subplots(figsize=(15, 4), nrows=1, ncols=2)\n",
        "\n",
        "  for i, string in enumerate(strings):\n",
        "    ax[i].plot(history.history[string])\n",
        "    ax[i].plot(history.history['val_'+string])\n",
        "\n",
        "    ax[i].set_xlabel(\"Epochs\")\n",
        "    ax[i].set_ylabel(string)\n",
        "    ax[i].legend([string, 'val_'+string])\n",
        "    ax[i].set_title('History Model in Epochs')\n",
        "\n",
        "  plt.show()\n",
        "\n",
        "def plot_compare_graphs(models, model_names, title, strings=['accuracy', 'loss']):\n",
        "  # Sample accuracy data for two models (replace these with your actual values)\n",
        "  epochs = range(1, 11)  # Assuming training for 10 epochs\n",
        "\n",
        "  # main colors plot [acc, loss]\n",
        "  colors = ['darkorange', 'darkgreen', 'dodgerblue']\n",
        "  # val colors plot [val_acc, val_loss]\n",
        "  val_colors = ['burlywood', 'darkseagreen', 'skyblue']\n",
        "\n",
        "  # Plot the data\n",
        "  fig, ax = plt.subplots(figsize=(15, 4), nrows=1, ncols=2)\n",
        "\n",
        "  for i in range(len(models)):\n",
        "    for j, string in enumerate(strings):\n",
        "      ax[j].plot(epochs, models[i].history[string], label=f'{model_names[i]} Training {string}', color=colors[i], marker='o', linestyle='-')\n",
        "      ax[j].plot(epochs, models[i].history['val_'+string], label=f'{model_names[i]} Validation {string}', color=val_colors[i], marker='o', linestyle='-')\n",
        "\n",
        "      ax[j].set_xlabel(\"Epochs\")\n",
        "      ax[j].set_ylabel(string)\n",
        "      ax[j].legend()\n",
        "      ax[j].set_title(f'Model History in Epochs of {string}')\n",
        "\n",
        "  plt.show()\n",
        "\n",
        "def lr_history_plot(lr_models, lr_names):\n",
        "  # Sample accuracy data for two models (replace these with your actual values)\n",
        "  epochs = range(1, 11)  # Assuming training for 10 epochs\n",
        "\n",
        "  # main colors plot [acc, loss]\n",
        "  colors = ['darkorange', 'darkgreen', 'dodgerblue']\n",
        "\n",
        "  # Plot the data\n",
        "  fig, ax = plt.subplots(figsize=(8, 4), nrows=1)\n",
        "\n",
        "  for i in range(len(lr_models)):\n",
        "    ax.plot(epochs, lr_models[i].lr_history, label=f'{lr_names[i]}',\n",
        "               color=colors[i], marker='o', linestyle='-')\n",
        "\n",
        "  ax.set_xlabel(\"Epochs\")\n",
        "  ax.set_ylabel(\"Learning_rate\")\n",
        "  ax.legend()\n",
        "  ax.set_title(f'Learning Rate History in Epochs')\n",
        "\n",
        "  plt.show()\n"
      ],
      "metadata": {
        "id": "QdPLsIjDKcl9"
      },
      "execution_count": 2,
      "outputs": []
    },
    {
      "cell_type": "markdown",
      "source": [
        "# Download data"
      ],
      "metadata": {
        "id": "GCT3K_wdJ1Dd"
      }
    },
    {
      "cell_type": "code",
      "source": [
        "download_data()"
      ],
      "metadata": {
        "colab": {
          "base_uri": "https://localhost:8080/"
        },
        "id": "mSF44qujDris",
        "outputId": "220c36b9-f82b-40b8-daeb-267fab53bf91"
      },
      "execution_count": 3,
      "outputs": [
        {
          "output_type": "stream",
          "name": "stdout",
          "text": [
            "Downloading data...\n",
            "Success downloading data to /content/datasets/text.zip\n",
            "Success extracting data to /content/datasets\n"
          ]
        }
      ]
    },
    {
      "cell_type": "markdown",
      "source": [
        "# Generate Data"
      ],
      "metadata": {
        "id": "QhM7ojuSJ3ri"
      }
    },
    {
      "cell_type": "code",
      "source": [
        "data_dir = os.path.join(DOWNLOAD_DIR, 'text')\n",
        "print(os.listdir(data_dir))"
      ],
      "metadata": {
        "colab": {
          "base_uri": "https://localhost:8080/"
        },
        "id": "mOgi7a6cHS8w",
        "outputId": "3d4c408c-aba5-4f66-edab-2b938e9df07e"
      },
      "execution_count": 4,
      "outputs": [
        {
          "output_type": "stream",
          "name": "stdout",
          "text": [
            "['final_positive.txt', 'final_neutral.txt', 'final_negative.txt']\n"
          ]
        }
      ]
    },
    {
      "cell_type": "code",
      "source": [
        "neg_text, pos_text, ne_text = retrieve_sentiment_data()"
      ],
      "metadata": {
        "colab": {
          "base_uri": "https://localhost:8080/"
        },
        "id": "peXe1KZ2LWaX",
        "outputId": "aafed486-7db8-44b4-ee1f-ed04ce09637e"
      },
      "execution_count": 5,
      "outputs": [
        {
          "output_type": "stream",
          "name": "stdout",
          "text": [
            "Negative data length: 99999\n",
            "Positive data length: 100000\n",
            "neutral data length: 99999\n",
            "Negative data sample: ['Mothers will not give their sons as sacrifices upon the battlefield after twenty years of anxiety and loving devotion in rearing them from infancy, no matter what cause they are called upon to defend.', 'That which was meant to be conducive to life has become the cause of death; that which should have been an evidence of knowledge is now a proof of ignorance; that which was a factor in the sublimity of human nature has proved to be its degradation.', 'The Jews were expecting the appearance of the Messiah, looking forward to it with devotion of heart and soul, but because they were submerged in imitations, they did not believe in Jesus Christ when He appeared.', 'We have forsaken the path of God; we have given up attention to the divine Kingdom; we have not severed the heart from worldly attractions; we have become defiled with qualities which are not praiseworthy in the sight of God; we are so completely steeped in material issues and tendencies that we are not partakers of the virtues of humanity.', 'Sixth, the Messiah was to gather together all the Jews who were scattered in Palestine and restore them to honor and prestige, but this one has degraded the Jews instead of uplifting them.']\n",
            "Positive data sample: ['The unity which is productive of unlimited results is first a unity of mankind which recognizes that all are sheltered beneath the overshadowing glory of the All-Glorious, that all are servants of one God; for all breathe the same atmosphere, live upon the same earth, move beneath the same heavens, receive effulgence from the same sun and are under the protection of one God.', 'Nevertheless, it is certain that the radiance and favors of God are encompassing, minds have developed, perceptions have become acute, sciences and arts are widespread, and capacity exists for the proclamation and promulgation of the real and ultimate unity of mankind, which will bring forth marvelous results.', \"It is the unity which through the influence of the divine spirit is permeating the Baha'is so that each offers his life for the other and strives with all sincerity to attain his good pleasure.\", 'Every soul who believed in Jesus Christ became revivified and resuscitated through this spirit, attained to the zenith of eternal glory, realized the everlasting life, experienced the second birth and rose to the acme of good fortune.', 'Verily, they have gathered in this temple to turn to Thy face of glory, holding to the hem of Thy garment and to Thy singleness, seeking Thy good pleasure and ascent into Thy Kingdom.']\n",
            "neutral data sample: ['When subjected to banishment by two kings, while a refugee from enemies of all nations and during the days of His long imprisonment He wrote to the kings and rulers of the world in words of wonderful eloquence, arraigning them severely and summoning them to the divine standard of unity and justice.', 'He exhorted them to peace and international agreement, making it incumbent upon them to establish a board of international arbitration--that from all nations and governments of the world there should be delegates selected for a congress of nations which should constitute a universal arbitral court of justice to settle international disputes.', 'While in prison He stood against the _Sh_ah of Persia and Sultan of Turkey and promulgated His teachings until He firmly established the banner of truth and the oneness of humankind.', \"I was a prisoner with Him for forty years until the Young Turks of the Committee of Union and Progress overthrew the despotism of Abdu'l-Hamid, dethroned him and proclaimed liberty.\", \"Every soul who lives according to the teachings of Baha'u'llah is free from the ailments and indispositions which prevail throughout the world of humanity; otherwise, selfish disorders, intellectual maladies, spiritual sicknesses, imperfections and vices will surround him, and he will not receive the life-giving bounties of God.\"]\n"
          ]
        }
      ]
    },
    {
      "cell_type": "markdown",
      "source": [
        "# Data Preprocessing"
      ],
      "metadata": {
        "id": "Chf4HkiTN2XR"
      }
    },
    {
      "cell_type": "markdown",
      "source": [
        "## Distribution"
      ],
      "metadata": {
        "id": "-Ps8Z3AzOFzt"
      }
    },
    {
      "cell_type": "markdown",
      "source": [
        "Below we merge all data into 3 sentiment categories:\n",
        "- 0: Negative sentiment\n",
        "- 1: Positif sentiment\n",
        "- 2: neutral sentimen"
      ],
      "metadata": {
        "id": "D8nuYAL_cClc"
      }
    },
    {
      "cell_type": "code",
      "source": [
        "df = pd.DataFrame({\n",
        "    'sentiment' : neg_text + pos_text + ne_text,\n",
        "    'label' : ['negative'] * len(neg_text) + ['positive'] * len(pos_text) + ['neutral'] * len(ne_text)\n",
        "})\n",
        "df.head()"
      ],
      "metadata": {
        "colab": {
          "base_uri": "https://localhost:8080/",
          "height": 206
        },
        "id": "OAgMJ2SDLl5K",
        "outputId": "8953265f-09b6-417a-dac5-de978be77c3e"
      },
      "execution_count": 6,
      "outputs": [
        {
          "output_type": "execute_result",
          "data": {
            "text/plain": [
              "                                           sentiment     label\n",
              "0  Mothers will not give their sons as sacrifices...  negative\n",
              "1  That which was meant to be conducive to life h...  negative\n",
              "2  The Jews were expecting the appearance of the ...  negative\n",
              "3  We have forsaken the path of God; we have give...  negative\n",
              "4  Sixth, the Messiah was to gather together all ...  negative"
            ],
            "text/html": [
              "\n",
              "  <div id=\"df-3da732f0-aace-4b2a-a67c-5c811c4862bf\" class=\"colab-df-container\">\n",
              "    <div>\n",
              "<style scoped>\n",
              "    .dataframe tbody tr th:only-of-type {\n",
              "        vertical-align: middle;\n",
              "    }\n",
              "\n",
              "    .dataframe tbody tr th {\n",
              "        vertical-align: top;\n",
              "    }\n",
              "\n",
              "    .dataframe thead th {\n",
              "        text-align: right;\n",
              "    }\n",
              "</style>\n",
              "<table border=\"1\" class=\"dataframe\">\n",
              "  <thead>\n",
              "    <tr style=\"text-align: right;\">\n",
              "      <th></th>\n",
              "      <th>sentiment</th>\n",
              "      <th>label</th>\n",
              "    </tr>\n",
              "  </thead>\n",
              "  <tbody>\n",
              "    <tr>\n",
              "      <th>0</th>\n",
              "      <td>Mothers will not give their sons as sacrifices...</td>\n",
              "      <td>negative</td>\n",
              "    </tr>\n",
              "    <tr>\n",
              "      <th>1</th>\n",
              "      <td>That which was meant to be conducive to life h...</td>\n",
              "      <td>negative</td>\n",
              "    </tr>\n",
              "    <tr>\n",
              "      <th>2</th>\n",
              "      <td>The Jews were expecting the appearance of the ...</td>\n",
              "      <td>negative</td>\n",
              "    </tr>\n",
              "    <tr>\n",
              "      <th>3</th>\n",
              "      <td>We have forsaken the path of God; we have give...</td>\n",
              "      <td>negative</td>\n",
              "    </tr>\n",
              "    <tr>\n",
              "      <th>4</th>\n",
              "      <td>Sixth, the Messiah was to gather together all ...</td>\n",
              "      <td>negative</td>\n",
              "    </tr>\n",
              "  </tbody>\n",
              "</table>\n",
              "</div>\n",
              "    <div class=\"colab-df-buttons\">\n",
              "\n",
              "  <div class=\"colab-df-container\">\n",
              "    <button class=\"colab-df-convert\" onclick=\"convertToInteractive('df-3da732f0-aace-4b2a-a67c-5c811c4862bf')\"\n",
              "            title=\"Convert this dataframe to an interactive table.\"\n",
              "            style=\"display:none;\">\n",
              "\n",
              "  <svg xmlns=\"http://www.w3.org/2000/svg\" height=\"24px\" viewBox=\"0 -960 960 960\">\n",
              "    <path d=\"M120-120v-720h720v720H120Zm60-500h600v-160H180v160Zm220 220h160v-160H400v160Zm0 220h160v-160H400v160ZM180-400h160v-160H180v160Zm440 0h160v-160H620v160ZM180-180h160v-160H180v160Zm440 0h160v-160H620v160Z\"/>\n",
              "  </svg>\n",
              "    </button>\n",
              "\n",
              "  <style>\n",
              "    .colab-df-container {\n",
              "      display:flex;\n",
              "      gap: 12px;\n",
              "    }\n",
              "\n",
              "    .colab-df-convert {\n",
              "      background-color: #E8F0FE;\n",
              "      border: none;\n",
              "      border-radius: 50%;\n",
              "      cursor: pointer;\n",
              "      display: none;\n",
              "      fill: #1967D2;\n",
              "      height: 32px;\n",
              "      padding: 0 0 0 0;\n",
              "      width: 32px;\n",
              "    }\n",
              "\n",
              "    .colab-df-convert:hover {\n",
              "      background-color: #E2EBFA;\n",
              "      box-shadow: 0px 1px 2px rgba(60, 64, 67, 0.3), 0px 1px 3px 1px rgba(60, 64, 67, 0.15);\n",
              "      fill: #174EA6;\n",
              "    }\n",
              "\n",
              "    .colab-df-buttons div {\n",
              "      margin-bottom: 4px;\n",
              "    }\n",
              "\n",
              "    [theme=dark] .colab-df-convert {\n",
              "      background-color: #3B4455;\n",
              "      fill: #D2E3FC;\n",
              "    }\n",
              "\n",
              "    [theme=dark] .colab-df-convert:hover {\n",
              "      background-color: #434B5C;\n",
              "      box-shadow: 0px 1px 3px 1px rgba(0, 0, 0, 0.15);\n",
              "      filter: drop-shadow(0px 1px 2px rgba(0, 0, 0, 0.3));\n",
              "      fill: #FFFFFF;\n",
              "    }\n",
              "  </style>\n",
              "\n",
              "    <script>\n",
              "      const buttonEl =\n",
              "        document.querySelector('#df-3da732f0-aace-4b2a-a67c-5c811c4862bf button.colab-df-convert');\n",
              "      buttonEl.style.display =\n",
              "        google.colab.kernel.accessAllowed ? 'block' : 'none';\n",
              "\n",
              "      async function convertToInteractive(key) {\n",
              "        const element = document.querySelector('#df-3da732f0-aace-4b2a-a67c-5c811c4862bf');\n",
              "        const dataTable =\n",
              "          await google.colab.kernel.invokeFunction('convertToInteractive',\n",
              "                                                    [key], {});\n",
              "        if (!dataTable) return;\n",
              "\n",
              "        const docLinkHtml = 'Like what you see? Visit the ' +\n",
              "          '<a target=\"_blank\" href=https://colab.research.google.com/notebooks/data_table.ipynb>data table notebook</a>'\n",
              "          + ' to learn more about interactive tables.';\n",
              "        element.innerHTML = '';\n",
              "        dataTable['output_type'] = 'display_data';\n",
              "        await google.colab.output.renderOutput(dataTable, element);\n",
              "        const docLink = document.createElement('div');\n",
              "        docLink.innerHTML = docLinkHtml;\n",
              "        element.appendChild(docLink);\n",
              "      }\n",
              "    </script>\n",
              "  </div>\n",
              "\n",
              "\n",
              "<div id=\"df-a45511a3-c849-47fd-bac4-693eb6a70cef\">\n",
              "  <button class=\"colab-df-quickchart\" onclick=\"quickchart('df-a45511a3-c849-47fd-bac4-693eb6a70cef')\"\n",
              "            title=\"Suggest charts\"\n",
              "            style=\"display:none;\">\n",
              "\n",
              "<svg xmlns=\"http://www.w3.org/2000/svg\" height=\"24px\"viewBox=\"0 0 24 24\"\n",
              "     width=\"24px\">\n",
              "    <g>\n",
              "        <path d=\"M19 3H5c-1.1 0-2 .9-2 2v14c0 1.1.9 2 2 2h14c1.1 0 2-.9 2-2V5c0-1.1-.9-2-2-2zM9 17H7v-7h2v7zm4 0h-2V7h2v10zm4 0h-2v-4h2v4z\"/>\n",
              "    </g>\n",
              "</svg>\n",
              "  </button>\n",
              "\n",
              "<style>\n",
              "  .colab-df-quickchart {\n",
              "      --bg-color: #E8F0FE;\n",
              "      --fill-color: #1967D2;\n",
              "      --hover-bg-color: #E2EBFA;\n",
              "      --hover-fill-color: #174EA6;\n",
              "      --disabled-fill-color: #AAA;\n",
              "      --disabled-bg-color: #DDD;\n",
              "  }\n",
              "\n",
              "  [theme=dark] .colab-df-quickchart {\n",
              "      --bg-color: #3B4455;\n",
              "      --fill-color: #D2E3FC;\n",
              "      --hover-bg-color: #434B5C;\n",
              "      --hover-fill-color: #FFFFFF;\n",
              "      --disabled-bg-color: #3B4455;\n",
              "      --disabled-fill-color: #666;\n",
              "  }\n",
              "\n",
              "  .colab-df-quickchart {\n",
              "    background-color: var(--bg-color);\n",
              "    border: none;\n",
              "    border-radius: 50%;\n",
              "    cursor: pointer;\n",
              "    display: none;\n",
              "    fill: var(--fill-color);\n",
              "    height: 32px;\n",
              "    padding: 0;\n",
              "    width: 32px;\n",
              "  }\n",
              "\n",
              "  .colab-df-quickchart:hover {\n",
              "    background-color: var(--hover-bg-color);\n",
              "    box-shadow: 0 1px 2px rgba(60, 64, 67, 0.3), 0 1px 3px 1px rgba(60, 64, 67, 0.15);\n",
              "    fill: var(--button-hover-fill-color);\n",
              "  }\n",
              "\n",
              "  .colab-df-quickchart-complete:disabled,\n",
              "  .colab-df-quickchart-complete:disabled:hover {\n",
              "    background-color: var(--disabled-bg-color);\n",
              "    fill: var(--disabled-fill-color);\n",
              "    box-shadow: none;\n",
              "  }\n",
              "\n",
              "  .colab-df-spinner {\n",
              "    border: 2px solid var(--fill-color);\n",
              "    border-color: transparent;\n",
              "    border-bottom-color: var(--fill-color);\n",
              "    animation:\n",
              "      spin 1s steps(1) infinite;\n",
              "  }\n",
              "\n",
              "  @keyframes spin {\n",
              "    0% {\n",
              "      border-color: transparent;\n",
              "      border-bottom-color: var(--fill-color);\n",
              "      border-left-color: var(--fill-color);\n",
              "    }\n",
              "    20% {\n",
              "      border-color: transparent;\n",
              "      border-left-color: var(--fill-color);\n",
              "      border-top-color: var(--fill-color);\n",
              "    }\n",
              "    30% {\n",
              "      border-color: transparent;\n",
              "      border-left-color: var(--fill-color);\n",
              "      border-top-color: var(--fill-color);\n",
              "      border-right-color: var(--fill-color);\n",
              "    }\n",
              "    40% {\n",
              "      border-color: transparent;\n",
              "      border-right-color: var(--fill-color);\n",
              "      border-top-color: var(--fill-color);\n",
              "    }\n",
              "    60% {\n",
              "      border-color: transparent;\n",
              "      border-right-color: var(--fill-color);\n",
              "    }\n",
              "    80% {\n",
              "      border-color: transparent;\n",
              "      border-right-color: var(--fill-color);\n",
              "      border-bottom-color: var(--fill-color);\n",
              "    }\n",
              "    90% {\n",
              "      border-color: transparent;\n",
              "      border-bottom-color: var(--fill-color);\n",
              "    }\n",
              "  }\n",
              "</style>\n",
              "\n",
              "  <script>\n",
              "    async function quickchart(key) {\n",
              "      const quickchartButtonEl =\n",
              "        document.querySelector('#' + key + ' button');\n",
              "      quickchartButtonEl.disabled = true;  // To prevent multiple clicks.\n",
              "      quickchartButtonEl.classList.add('colab-df-spinner');\n",
              "      try {\n",
              "        const charts = await google.colab.kernel.invokeFunction(\n",
              "            'suggestCharts', [key], {});\n",
              "      } catch (error) {\n",
              "        console.error('Error during call to suggestCharts:', error);\n",
              "      }\n",
              "      quickchartButtonEl.classList.remove('colab-df-spinner');\n",
              "      quickchartButtonEl.classList.add('colab-df-quickchart-complete');\n",
              "    }\n",
              "    (() => {\n",
              "      let quickchartButtonEl =\n",
              "        document.querySelector('#df-a45511a3-c849-47fd-bac4-693eb6a70cef button');\n",
              "      quickchartButtonEl.style.display =\n",
              "        google.colab.kernel.accessAllowed ? 'block' : 'none';\n",
              "    })();\n",
              "  </script>\n",
              "</div>\n",
              "\n",
              "    </div>\n",
              "  </div>\n"
            ],
            "application/vnd.google.colaboratory.intrinsic+json": {
              "type": "dataframe",
              "variable_name": "df"
            }
          },
          "metadata": {},
          "execution_count": 6
        }
      ]
    },
    {
      "cell_type": "code",
      "source": [
        "check_distribution(df['label'], 'Distribution of Sentiment Labels')"
      ],
      "metadata": {
        "colab": {
          "base_uri": "https://localhost:8080/",
          "height": 410
        },
        "id": "TorX5RKaMYOO",
        "outputId": "ee240d51-eb42-43b5-c944-d661e5439d68"
      },
      "execution_count": 7,
      "outputs": [
        {
          "output_type": "display_data",
          "data": {
            "text/plain": [
              "<Figure size 500x400 with 1 Axes>"
            ],
            "image/png": "[encoded data removed]"
          },
          "metadata": {}
        }
      ]
    },
    {
      "cell_type": "markdown",
      "source": [
        "## Split data"
      ],
      "metadata": {
        "id": "9YqduFT1a7oo"
      }
    },
    {
      "cell_type": "markdown",
      "source": [
        "Split data, using stratified shuffle split from sklearn []:\n",
        "- Train: 80\n",
        "- Val: 10\n",
        "- test: 10"
      ],
      "metadata": {
        "id": "eETHnMXdbTfp"
      }
    },
    {
      "cell_type": "code",
      "source": [
        "# split data using stratified with size train/val/test 80/10/10 respectively\n",
        "df_train, df_val, df_test = stratified_split(df)"
      ],
      "metadata": {
        "id": "wiEhwIBYPDpZ",
        "colab": {
          "base_uri": "https://localhost:8080/"
        },
        "outputId": "b1085861-3cfb-485d-f5ba-9abf8abf74ff"
      },
      "execution_count": 8,
      "outputs": [
        {
          "output_type": "stream",
          "name": "stdout",
          "text": [
            "Value count:\n",
            "label\n",
            "positive    100000\n",
            "negative     99999\n",
            "neutral      99999\n",
            "Name: count, dtype: int64\n",
            "-----------\n",
            "Train count:\n",
            "label\n",
            "positive    80000\n",
            "neutral     79999\n",
            "negative    79999\n",
            "Name: count, dtype: int64\n",
            "Val count:\n",
            "label\n",
            "positive    10000\n",
            "negative    10000\n",
            "neutral     10000\n",
            "Name: count, dtype: int64\n",
            "Test count:\n",
            "label\n",
            "negative    10000\n",
            "neutral     10000\n",
            "positive    10000\n",
            "Name: count, dtype: int64\n"
          ]
        }
      ]
    },
    {
      "cell_type": "code",
      "source": [
        "df_train.head(), df_val.head(), df_test.head()"
      ],
      "metadata": {
        "colab": {
          "base_uri": "https://localhost:8080/"
        },
        "id": "67_ssGT-Usk8",
        "outputId": "70753225-7815-4095-9464-2b0b3d9eeaf3"
      },
      "execution_count": 9,
      "outputs": [
        {
          "output_type": "execute_result",
          "data": {
            "text/plain": [
              "(                                                sentiment     label\n",
              " 232194  Look at Michael Angelo; poet, painter, sculpto...   neutral\n",
              " 143208  The story of how Charlemagne dealt with these ...  positive\n",
              " 124048  It lies in a pleasant undulating district near...  positive\n",
              " 92224   But the painted foliage on these crags!-the Gr...  negative\n",
              " 167924  The labor devolving upon him as the commander ...  positive,\n",
              "                                                 sentiment     label\n",
              " 160313  In the first volume of the series, entitled Th...  positive\n",
              " 8888    How jolly it will be, for all but the bad ange...  negative\n",
              " 219510  154), that the grand conception of a Supreme U...   neutral\n",
              " 185958  Of course, we hope that you will support the P...  positive\n",
              " 157285  Lahoma seated herself eagerly and looking up i...  positive,\n",
              "                                                 sentiment     label\n",
              " 98454   Just as I had finished our hut, it occurred to...  negative\n",
              " 47819   No, sir; couldn't move--couldn't raise a hand;...  negative\n",
              " 216127  Three stout soldiers stricken from the rolls--...   neutral\n",
              " 174432  Dr. Carey is a very equable and cheerful old m...  positive\n",
              " 42949   The poor hostess had no time to think of herse...  negative)"
            ]
          },
          "metadata": {},
          "execution_count": 9
        }
      ]
    },
    {
      "cell_type": "markdown",
      "source": [
        "## Checking for split distribution"
      ],
      "metadata": {
        "id": "S4YQYr02UkSv"
      }
    },
    {
      "cell_type": "code",
      "source": [
        "\n",
        "dfs_label = [df_train['label'], df_val['label'], df_test['label']]\n",
        "\n",
        "check_split_distribution(dfs_label)"
      ],
      "metadata": {
        "colab": {
          "base_uri": "https://localhost:8080/",
          "height": 271
        },
        "id": "0vNgu3weUmm0",
        "outputId": "d48ef1b7-3ebd-4038-81af-03242e83c812"
      },
      "execution_count": 10,
      "outputs": [
        {
          "output_type": "display_data",
          "data": {
            "text/plain": [
              "<Figure size 1500x400 with 3 Axes>"
            ],
            "image/png": "[encoded data removed]"
          },
          "metadata": {}
        }
      ]
    },
    {
      "cell_type": "code",
      "source": [
        "# check the size of each split\n",
        "len_df = len(df)\n",
        "len_train = len(df_train)\n",
        "len_val = len(df_val)\n",
        "len_test = len(df_test)\n",
        "\n",
        "print(f'Train data size: {round(len_train/len_df,2)}')\n",
        "print(f'Val data size: {round(len_val/len_df,2)}')\n",
        "print(f'Test data size: {round(len_test/len_df,2)}')"
      ],
      "metadata": {
        "colab": {
          "base_uri": "https://localhost:8080/"
        },
        "id": "rtwwMq-bhjH5",
        "outputId": "4a736708-314a-4f23-bcd6-829ba68b3399"
      },
      "execution_count": 11,
      "outputs": [
        {
          "output_type": "stream",
          "name": "stdout",
          "text": [
            "Train data size: 0.8\n",
            "Val data size: 0.1\n",
            "Test data size: 0.1\n"
          ]
        }
      ]
    },
    {
      "cell_type": "code",
      "source": [
        "split_name = ['train', 'val', 'test']\n",
        "split_df = [len_train, len_val, len_test]\n",
        "\n",
        "plt.figure(figsize=(5, 4))\n",
        "bars = plt.bar(x=split_name, height=split_df, color='skyblue')\n",
        "\n",
        "for bar in bars:\n",
        "    height = bar.get_height()\n",
        "    plt.text(bar.get_x() + bar.get_width() / 2.0, height - (height/2.0), '%0.2f%s' % ((height/len_df)*100, '%'), ha='center', va='bottom', color='teal')\n",
        "\n",
        "plt.title('Distribution of Sentiment Labels')\n",
        "plt.xlabel('Sentiment')\n",
        "plt.ylabel('Frequency')\n",
        "plt.show()"
      ],
      "metadata": {
        "colab": {
          "base_uri": "https://localhost:8080/",
          "height": 410
        },
        "id": "0PzubzmlhyXV",
        "outputId": "ebb142a4-71dc-4d99-f559-1e3d78fc0828"
      },
      "execution_count": 12,
      "outputs": [
        {
          "output_type": "display_data",
          "data": {
            "text/plain": [
              "<Figure size 500x400 with 1 Axes>"
            ],
            "image/png": "[encoded data removed]"
          },
          "metadata": {}
        }
      ]
    },
    {
      "cell_type": "markdown",
      "source": [
        "## Preparation for training"
      ],
      "metadata": {
        "id": "-xKnf-antQJ2"
      }
    },
    {
      "cell_type": "code",
      "source": [
        "# split for training portion\n",
        "X_train, y_train = df_train['sentiment'], df_train['label']\n",
        "X_val, y_val = df_val['sentiment'], df_val['label']\n",
        "X_test, y_test = df_test['sentiment'], df_test['label']"
      ],
      "metadata": {
        "id": "E391ljMwlppP"
      },
      "execution_count": 13,
      "outputs": []
    },
    {
      "cell_type": "code",
      "source": [
        "# X_train.to_csv('X_train.csv', index=False)\n",
        "# y_train.to_csv('y_train.csv', index=False)\n",
        "# X_val.to_csv('X_val.csv', index=False)\n",
        "# y_val.to_csv('y_val.csv', index=False)\n",
        "# X_test.to_csv('X_test.csv', index=False)\n",
        "# y_test.to_csv('y_test.csv', index=False)\n"
      ],
      "metadata": {
        "id": "Vg7v05Q3IaoV"
      },
      "execution_count": 14,
      "outputs": []
    },
    {
      "cell_type": "code",
      "source": [
        "# try:\n",
        "#   from google.colab import files\n",
        "# except e:\n",
        "#   print(e)\n",
        "# else:\n",
        "#   files.download('X_train.csv')\n",
        "#   files.download('y_train.csv')\n",
        "#   files.download('X_val.csv')\n",
        "#   files.download('y_val.csv')\n",
        "#   files.download('X_test.csv')\n",
        "#   files.download('y_test.csv')"
      ],
      "metadata": {
        "id": "gmMUmQu7I3cq"
      },
      "execution_count": 15,
      "outputs": []
    },
    {
      "cell_type": "markdown",
      "source": [
        "### Hyperparameters"
      ],
      "metadata": {
        "id": "TSa7ok3FBK9p"
      }
    },
    {
      "cell_type": "code",
      "source": [
        "# Vocabulary size of the tokenizer\n",
        "vocab_size = 50000\n",
        "\n",
        "# Maximum length of the padded sequences\n",
        "max_length = 100\n",
        "\n",
        "# Output dimensions of the Embedding layer\n",
        "embedding_dim = 250"
      ],
      "metadata": {
        "id": "RKkCRxIZBNvD"
      },
      "execution_count": 16,
      "outputs": []
    },
    {
      "cell_type": "markdown",
      "source": [
        "### Tokenize data"
      ],
      "metadata": {
        "id": "A-Z4svKwus6r"
      }
    },
    {
      "cell_type": "code",
      "source": [
        "tokenizer = Tokenizer(num_words=vocab_size, oov_token='<OOV>')\n",
        "tokenizer.fit_on_texts(X_train)\n",
        "word_index = tokenizer.word_index"
      ],
      "metadata": {
        "id": "2jh-cwLLtwbF"
      },
      "execution_count": 17,
      "outputs": []
    },
    {
      "cell_type": "code",
      "source": [
        "print(len(word_index))"
      ],
      "metadata": {
        "colab": {
          "base_uri": "https://localhost:8080/"
        },
        "id": "tdBbE0e7uDe7",
        "outputId": "6d5e92b7-6ba7-4137-d22a-8e63fc2af98a"
      },
      "execution_count": 18,
      "outputs": [
        {
          "output_type": "stream",
          "name": "stdout",
          "text": [
            "122232\n"
          ]
        }
      ]
    },
    {
      "cell_type": "code",
      "source": [
        "label_tokenizer = Tokenizer()\n",
        "label_tokenizer.fit_on_texts(y_train)\n",
        "label_index_word = label_tokenizer.index_word\n",
        "\n",
        "# start encoder label from 0\n",
        "labels_encoder = {key - 1: value for key, value in label_index_word.items()}\n",
        "\n",
        "# Tokenize the label\n",
        "training_labels = label_tokenizer.texts_to_sequences(y_train)\n",
        "val_labels = label_tokenizer.texts_to_sequences(y_val)\n",
        "test_labels = label_tokenizer.texts_to_sequences(y_test)"
      ],
      "metadata": {
        "id": "7kn0vbyO5HUa"
      },
      "execution_count": 19,
      "outputs": []
    },
    {
      "cell_type": "code",
      "source": [
        "print(labels_encoder)\n",
        "np.unique(y_test)"
      ],
      "metadata": {
        "colab": {
          "base_uri": "https://localhost:8080/"
        },
        "id": "B9oCohm1x_PC",
        "outputId": "e860d014-0287-4272-a92c-556952ae6ff1"
      },
      "execution_count": 20,
      "outputs": [
        {
          "output_type": "stream",
          "name": "stdout",
          "text": [
            "{0: 'positive', 1: 'neutral', 2: 'negative'}\n"
          ]
        },
        {
          "output_type": "execute_result",
          "data": {
            "text/plain": [
              "array(['negative', 'neutral', 'positive'], dtype=object)"
            ]
          },
          "metadata": {},
          "execution_count": 20
        }
      ]
    },
    {
      "cell_type": "code",
      "source": [
        "# convert labels list to np array\n",
        "# Below arrays are subtracted by one, because all index should start from 0, instead the current label before subtract started with one\n",
        "training_labels = np.array(training_labels) - 1\n",
        "val_labels = np.array(val_labels) - 1\n",
        "test_labels = np.array(test_labels) - 1"
      ],
      "metadata": {
        "id": "mCEEgxOrU15V"
      },
      "execution_count": 21,
      "outputs": []
    },
    {
      "cell_type": "code",
      "source": [
        "print(f'label training shape\\t : {training_labels.shape}')\n",
        "print(f'label val shape\\t\\t : {val_labels.shape}')\n",
        "print(f'label test shape\\t : {test_labels.shape}')"
      ],
      "metadata": {
        "colab": {
          "base_uri": "https://localhost:8080/"
        },
        "id": "G73ezi8B5Rr1",
        "outputId": "71a56f7a-e4d8-43f1-fd85-a45f727a1e38"
      },
      "execution_count": 22,
      "outputs": [
        {
          "output_type": "stream",
          "name": "stdout",
          "text": [
            "label training shape\t : (239998, 1)\n",
            "label val shape\t\t : (30000, 1)\n",
            "label test shape\t : (30000, 1)\n"
          ]
        }
      ]
    },
    {
      "cell_type": "markdown",
      "source": [
        "### Sequence data"
      ],
      "metadata": {
        "id": "A1Lfqi8yvlA8"
      }
    },
    {
      "cell_type": "code",
      "source": [
        "sequences_train = tokenizer.texts_to_sequences(X_train)\n",
        "sequences_val = tokenizer.texts_to_sequences(X_val)\n",
        "sequences_test = tokenizer.texts_to_sequences(X_test)"
      ],
      "metadata": {
        "id": "W-iy9cAEuZoZ"
      },
      "execution_count": 23,
      "outputs": []
    },
    {
      "cell_type": "markdown",
      "source": [
        "### padded data"
      ],
      "metadata": {
        "id": "3RlV7MDTvn5T"
      }
    },
    {
      "cell_type": "code",
      "source": [
        "padded_train = pad_sequences(sequences_train, maxlen=max_length, truncating='post', padding='post')\n",
        "padded_val = pad_sequences(sequences_val, maxlen=max_length, truncating='post', padding='post')\n",
        "padded_test = pad_sequences(sequences_test,maxlen=max_length, truncating='post', padding='post')"
      ],
      "metadata": {
        "id": "edVm-qwZvWwo"
      },
      "execution_count": 24,
      "outputs": []
    },
    {
      "cell_type": "code",
      "source": [
        "print(padded_train[0], padded_train.shape)\n",
        "print(padded_val.shape)\n",
        "print(padded_test.shape)"
      ],
      "metadata": {
        "colab": {
          "base_uri": "https://localhost:8080/"
        },
        "id": "4MvV_ODt4dMd",
        "outputId": "e50d65a9-a489-425b-b274-63fc37a26516"
      },
      "execution_count": 25,
      "outputs": [
        {
          "output_type": "stream",
          "name": "stdout",
          "text": [
            "[  237    23  1462  2947  1955  4062  9433  7659     4   990     4    45\n",
            "   310    43    40    24   265     3  9155   184 21359    28  7905   184\n",
            "   899    59    74  5503    61    14   118 14302  1874   140   194    25\n",
            "  6497  1353     4     2  3330  4572    34  3857     5   559     7     2\n",
            "  8562     2  7349     3   105 15136  1285     0     0     0     0     0\n",
            "     0     0     0     0     0     0     0     0     0     0     0     0\n",
            "     0     0     0     0     0     0     0     0     0     0     0     0\n",
            "     0     0     0     0     0     0     0     0     0     0     0     0\n",
            "     0     0     0     0] (239998, 100)\n",
            "(30000, 100)\n",
            "(30000, 100)\n"
          ]
        }
      ]
    },
    {
      "cell_type": "markdown",
      "source": [
        "## Convert to tensorflow dataset for preprocessing"
      ],
      "metadata": {
        "id": "S_WJid4J71Zt"
      }
    },
    {
      "cell_type": "code",
      "source": [
        "BUFFER_SIZE = 50000\n",
        "BATCH_SIZE = 256"
      ],
      "metadata": {
        "id": "KW1iMTXA8R8f"
      },
      "execution_count": 26,
      "outputs": []
    },
    {
      "cell_type": "code",
      "source": [
        "train_set = tf.data.Dataset.from_tensor_slices((padded_train, training_labels))\n",
        "val_set = tf.data.Dataset.from_tensor_slices((padded_val, val_labels))\n",
        "test_set = tf.data.Dataset.from_tensor_slices((padded_test, test_labels))\n",
        "\n",
        "# prefetch() allows the dataset to be prepared in the background, overlapping data processing with model training.\n",
        "# Using tf.data.AUTOTUNE as an argument lets TensorFlow automatically choose an optimal prefetch buffer size,\n",
        "# which can make the pipeline more efficient.\n",
        "train_set = train_set.shuffle(BUFFER_SIZE).batch(BATCH_SIZE).prefetch(tf.data.AUTOTUNE)\n",
        "val_set = val_set.batch(BATCH_SIZE).prefetch(tf.data.AUTOTUNE)\n",
        "test_set = test_set.batch(BATCH_SIZE).prefetch(tf.data.AUTOTUNE)\n",
        "\n",
        "print('First Batch Preview:')\n",
        "for tr, val, ts in zip(train_set.take(1), val_set.take(1), test_set.take(1)):\n",
        "  print(f'train data shape: {tr[0].shape}, label train shape: {tr[1].shape}\\nTrain preview:\\n{tr[0]}\\n')\n",
        "  print(f'val data shape: {val[0].shape}, label val shape: {val[1].shape}\\nValid preview:\\n{val[0]}\\n')\n",
        "  print(f'test data shape: {ts[0].shape}, label test shape: {ts[1].shape}\\nTest preview:\\n{ts[0]}')"
      ],
      "metadata": {
        "colab": {
          "base_uri": "https://localhost:8080/"
        },
        "id": "VN4qWiZC7rQX",
        "outputId": "94c6a570-b5f6-4f91-a3f2-9c4464732fb1"
      },
      "execution_count": 27,
      "outputs": [
        {
          "output_type": "stream",
          "name": "stdout",
          "text": [
            "First Batch Preview:\n",
            "train data shape: (256, 100), label train shape: (256, 1)\n",
            "Train preview:\n",
            "[[30088   259     4 ...     0     0     0]\n",
            " [    2  4212  1820 ...     0     0     0]\n",
            " [   33     2  1361 ...     0     0     0]\n",
            " ...\n",
            " [    7     2  3192 ...     0     0     0]\n",
            " [11989     2  2055 ...     0     0     0]\n",
            " [   12   203     5 ...     0     0     0]]\n",
            "\n",
            "val data shape: (256, 100), label val shape: (256, 1)\n",
            "Valid preview:\n",
            "[[    7     2   106 ...     0     0     0]\n",
            " [   93  4218    10 ...     0     0     0]\n",
            " [24188     8     2 ...     0     0     0]\n",
            " ...\n",
            " [   47     2  1622 ...     0     0     0]\n",
            " [  102    13  7238 ...     0     0     0]\n",
            " [    2  2148  2060 ...     0     0     0]]\n",
            "\n",
            "test data shape: (256, 100), label test shape: (256, 1)\n",
            "Test preview:\n",
            "[[  142    13    16 ...     0     0     0]\n",
            " [   50   391  1355 ...     0     0     0]\n",
            " [  163  3437  1017 ...     0     0     0]\n",
            " ...\n",
            " [    2  7199     9 ...     0     0     0]\n",
            " [ 4047 20266   377 ...     0     0     0]\n",
            " [   10    87  3949 ...     0     0     0]]\n"
          ]
        }
      ]
    },
    {
      "cell_type": "code",
      "source": [],
      "metadata": {
        "id": "h9l2FXT678gY"
      },
      "execution_count": 27,
      "outputs": []
    },
    {
      "cell_type": "markdown",
      "source": [
        "# Build and compile Model"
      ],
      "metadata": {
        "id": "z706HbGXAn_s"
      }
    },
    {
      "cell_type": "code",
      "source": [
        "model_lstm = tf.keras.Sequential([\n",
        "    Embedding(input_dim=vocab_size, output_dim=embedding_dim),\n",
        "    Bidirectional(LSTM(64)),\n",
        "    Dropout(0.25),\n",
        "    Dense(50, activation='relu'),\n",
        "    Dense(3, activation='softmax')\n",
        "])\n",
        "\n",
        "model_lstm.summary()"
      ],
      "metadata": {
        "colab": {
          "base_uri": "https://localhost:8080/",
          "height": 291
        },
        "id": "EMLSCxhXApvg",
        "outputId": "205c5421-1dca-44d7-aad3-b0e421149079"
      },
      "execution_count": 28,
      "outputs": [
        {
          "output_type": "display_data",
          "data": {
            "text/plain": [
              "\u001b[1mModel: \"sequential\"\u001b[0m\n"
            ],
            "text/html": [
              "<pre style=\"white-space:pre;overflow-x:auto;line-height:normal;font-family:Menlo,'DejaVu Sans Mono',consolas,'Courier New',monospace\"><span style=\"font-weight: bold\">Model: \"sequential\"</span>\n",
              "</pre>\n"
            ]
          },
          "metadata": {}
        },
        {
          "output_type": "display_data",
          "data": {
            "text/plain": [
              "┏━━━━━━━━━━━━━━━━━━━━━━━━━━━━━━━━━━━━━━┳━━━━━━━━━━━━━━━━━━━━━━━━━━━━━┳━━━━━━━━━━━━━━━━━┓\n",
              "┃\u001b[1m \u001b[0m\u001b[1mLayer (type)                        \u001b[0m\u001b[1m \u001b[0m┃\u001b[1m \u001b[0m\u001b[1mOutput Shape               \u001b[0m\u001b[1m \u001b[0m┃\u001b[1m \u001b[0m\u001b[1m        Param #\u001b[0m\u001b[1m \u001b[0m┃\n",
              "┡━━━━━━━━━━━━━━━━━━━━━━━━━━━━━━━━━━━━━━╇━━━━━━━━━━━━━━━━━━━━━━━━━━━━━╇━━━━━━━━━━━━━━━━━┩\n",
              "│ embedding (\u001b[38;5;33mEmbedding\u001b[0m)                │ ?                           │     \u001b[38;5;34m0\u001b[0m (unbuilt) │\n",
              "├──────────────────────────────────────┼─────────────────────────────┼─────────────────┤\n",
              "│ bidirectional (\u001b[38;5;33mBidirectional\u001b[0m)        │ ?                           │     \u001b[38;5;34m0\u001b[0m (unbuilt) │\n",
              "├──────────────────────────────────────┼─────────────────────────────┼─────────────────┤\n",
              "│ dropout (\u001b[38;5;33mDropout\u001b[0m)                    │ ?                           │     \u001b[38;5;34m0\u001b[0m (unbuilt) │\n",
              "├──────────────────────────────────────┼─────────────────────────────┼─────────────────┤\n",
              "│ dense (\u001b[38;5;33mDense\u001b[0m)                        │ ?                           │     \u001b[38;5;34m0\u001b[0m (unbuilt) │\n",
              "├──────────────────────────────────────┼─────────────────────────────┼─────────────────┤\n",
              "│ dense_1 (\u001b[38;5;33mDense\u001b[0m)                      │ ?                           │     \u001b[38;5;34m0\u001b[0m (unbuilt) │\n",
              "└──────────────────────────────────────┴─────────────────────────────┴─────────────────┘\n"
            ],
            "text/html": [
              "<pre style=\"white-space:pre;overflow-x:auto;line-height:normal;font-family:Menlo,'DejaVu Sans Mono',consolas,'Courier New',monospace\">┏━━━━━━━━━━━━━━━━━━━━━━━━━━━━━━━━━━━━━━┳━━━━━━━━━━━━━━━━━━━━━━━━━━━━━┳━━━━━━━━━━━━━━━━━┓\n",
              "┃<span style=\"font-weight: bold\"> Layer (type)                         </span>┃<span style=\"font-weight: bold\"> Output Shape                </span>┃<span style=\"font-weight: bold\">         Param # </span>┃\n",
              "┡━━━━━━━━━━━━━━━━━━━━━━━━━━━━━━━━━━━━━━╇━━━━━━━━━━━━━━━━━━━━━━━━━━━━━╇━━━━━━━━━━━━━━━━━┩\n",
              "│ embedding (<span style=\"color: #0087ff; text-decoration-color: #0087ff\">Embedding</span>)                │ ?                           │     <span style=\"color: #00af00; text-decoration-color: #00af00\">0</span> (unbuilt) │\n",
              "├──────────────────────────────────────┼─────────────────────────────┼─────────────────┤\n",
              "│ bidirectional (<span style=\"color: #0087ff; text-decoration-color: #0087ff\">Bidirectional</span>)        │ ?                           │     <span style=\"color: #00af00; text-decoration-color: #00af00\">0</span> (unbuilt) │\n",
              "├──────────────────────────────────────┼─────────────────────────────┼─────────────────┤\n",
              "│ dropout (<span style=\"color: #0087ff; text-decoration-color: #0087ff\">Dropout</span>)                    │ ?                           │     <span style=\"color: #00af00; text-decoration-color: #00af00\">0</span> (unbuilt) │\n",
              "├──────────────────────────────────────┼─────────────────────────────┼─────────────────┤\n",
              "│ dense (<span style=\"color: #0087ff; text-decoration-color: #0087ff\">Dense</span>)                        │ ?                           │     <span style=\"color: #00af00; text-decoration-color: #00af00\">0</span> (unbuilt) │\n",
              "├──────────────────────────────────────┼─────────────────────────────┼─────────────────┤\n",
              "│ dense_1 (<span style=\"color: #0087ff; text-decoration-color: #0087ff\">Dense</span>)                      │ ?                           │     <span style=\"color: #00af00; text-decoration-color: #00af00\">0</span> (unbuilt) │\n",
              "└──────────────────────────────────────┴─────────────────────────────┴─────────────────┘\n",
              "</pre>\n"
            ]
          },
          "metadata": {}
        },
        {
          "output_type": "display_data",
          "data": {
            "text/plain": [
              "\u001b[1m Total params: \u001b[0m\u001b[38;5;34m0\u001b[0m (0.00 B)\n"
            ],
            "text/html": [
              "<pre style=\"white-space:pre;overflow-x:auto;line-height:normal;font-family:Menlo,'DejaVu Sans Mono',consolas,'Courier New',monospace\"><span style=\"font-weight: bold\"> Total params: </span><span style=\"color: #00af00; text-decoration-color: #00af00\">0</span> (0.00 B)\n",
              "</pre>\n"
            ]
          },
          "metadata": {}
        },
        {
          "output_type": "display_data",
          "data": {
            "text/plain": [
              "\u001b[1m Trainable params: \u001b[0m\u001b[38;5;34m0\u001b[0m (0.00 B)\n"
            ],
            "text/html": [
              "<pre style=\"white-space:pre;overflow-x:auto;line-height:normal;font-family:Menlo,'DejaVu Sans Mono',consolas,'Courier New',monospace\"><span style=\"font-weight: bold\"> Trainable params: </span><span style=\"color: #00af00; text-decoration-color: #00af00\">0</span> (0.00 B)\n",
              "</pre>\n"
            ]
          },
          "metadata": {}
        },
        {
          "output_type": "display_data",
          "data": {
            "text/plain": [
              "\u001b[1m Non-trainable params: \u001b[0m\u001b[38;5;34m0\u001b[0m (0.00 B)\n"
            ],
            "text/html": [
              "<pre style=\"white-space:pre;overflow-x:auto;line-height:normal;font-family:Menlo,'DejaVu Sans Mono',consolas,'Courier New',monospace\"><span style=\"font-weight: bold\"> Non-trainable params: </span><span style=\"color: #00af00; text-decoration-color: #00af00\">0</span> (0.00 B)\n",
              "</pre>\n"
            ]
          },
          "metadata": {}
        }
      ]
    },
    {
      "cell_type": "code",
      "source": [
        "model_cnn = tf.keras.Sequential([\n",
        "    Embedding(input_dim=vocab_size, output_dim=embedding_dim),\n",
        "    Conv1D(64, 5, activation='relu'),\n",
        "    GlobalAveragePooling1D(),\n",
        "    Dense(50, activation='relu'),\n",
        "    Dense(3, activation='softmax')\n",
        "])\n",
        "\n",
        "model_cnn.summary()"
      ],
      "metadata": {
        "colab": {
          "base_uri": "https://localhost:8080/",
          "height": 307
        },
        "id": "dpESrkKSjTkH",
        "outputId": "c261cb1c-622a-45c6-aa18-238c2c19f615"
      },
      "execution_count": 29,
      "outputs": [
        {
          "output_type": "display_data",
          "data": {
            "text/plain": [
              "\u001b[1mModel: \"sequential_1\"\u001b[0m\n"
            ],
            "text/html": [
              "<pre style=\"white-space:pre;overflow-x:auto;line-height:normal;font-family:Menlo,'DejaVu Sans Mono',consolas,'Courier New',monospace\"><span style=\"font-weight: bold\">Model: \"sequential_1\"</span>\n",
              "</pre>\n"
            ]
          },
          "metadata": {}
        },
        {
          "output_type": "display_data",
          "data": {
            "text/plain": [
              "┏━━━━━━━━━━━━━━━━━━━━━━━━━━━━━━━━━━━━━━┳━━━━━━━━━━━━━━━━━━━━━━━━━━━━━┳━━━━━━━━━━━━━━━━━┓\n",
              "┃\u001b[1m \u001b[0m\u001b[1mLayer (type)                        \u001b[0m\u001b[1m \u001b[0m┃\u001b[1m \u001b[0m\u001b[1mOutput Shape               \u001b[0m\u001b[1m \u001b[0m┃\u001b[1m \u001b[0m\u001b[1m        Param #\u001b[0m\u001b[1m \u001b[0m┃\n",
              "┡━━━━━━━━━━━━━━━━━━━━━━━━━━━━━━━━━━━━━━╇━━━━━━━━━━━━━━━━━━━━━━━━━━━━━╇━━━━━━━━━━━━━━━━━┩\n",
              "│ embedding_1 (\u001b[38;5;33mEmbedding\u001b[0m)              │ ?                           │     \u001b[38;5;34m0\u001b[0m (unbuilt) │\n",
              "├──────────────────────────────────────┼─────────────────────────────┼─────────────────┤\n",
              "│ conv1d (\u001b[38;5;33mConv1D\u001b[0m)                      │ ?                           │     \u001b[38;5;34m0\u001b[0m (unbuilt) │\n",
              "├──────────────────────────────────────┼─────────────────────────────┼─────────────────┤\n",
              "│ global_average_pooling1d             │ ?                           │     \u001b[38;5;34m0\u001b[0m (unbuilt) │\n",
              "│ (\u001b[38;5;33mGlobalAveragePooling1D\u001b[0m)             │                             │                 │\n",
              "├──────────────────────────────────────┼─────────────────────────────┼─────────────────┤\n",
              "│ dense_2 (\u001b[38;5;33mDense\u001b[0m)                      │ ?                           │     \u001b[38;5;34m0\u001b[0m (unbuilt) │\n",
              "├──────────────────────────────────────┼─────────────────────────────┼─────────────────┤\n",
              "│ dense_3 (\u001b[38;5;33mDense\u001b[0m)                      │ ?                           │     \u001b[38;5;34m0\u001b[0m (unbuilt) │\n",
              "└──────────────────────────────────────┴─────────────────────────────┴─────────────────┘\n"
            ],
            "text/html": [
              "<pre style=\"white-space:pre;overflow-x:auto;line-height:normal;font-family:Menlo,'DejaVu Sans Mono',consolas,'Courier New',monospace\">┏━━━━━━━━━━━━━━━━━━━━━━━━━━━━━━━━━━━━━━┳━━━━━━━━━━━━━━━━━━━━━━━━━━━━━┳━━━━━━━━━━━━━━━━━┓\n",
              "┃<span style=\"font-weight: bold\"> Layer (type)                         </span>┃<span style=\"font-weight: bold\"> Output Shape                </span>┃<span style=\"font-weight: bold\">         Param # </span>┃\n",
              "┡━━━━━━━━━━━━━━━━━━━━━━━━━━━━━━━━━━━━━━╇━━━━━━━━━━━━━━━━━━━━━━━━━━━━━╇━━━━━━━━━━━━━━━━━┩\n",
              "│ embedding_1 (<span style=\"color: #0087ff; text-decoration-color: #0087ff\">Embedding</span>)              │ ?                           │     <span style=\"color: #00af00; text-decoration-color: #00af00\">0</span> (unbuilt) │\n",
              "├──────────────────────────────────────┼─────────────────────────────┼─────────────────┤\n",
              "│ conv1d (<span style=\"color: #0087ff; text-decoration-color: #0087ff\">Conv1D</span>)                      │ ?                           │     <span style=\"color: #00af00; text-decoration-color: #00af00\">0</span> (unbuilt) │\n",
              "├──────────────────────────────────────┼─────────────────────────────┼─────────────────┤\n",
              "│ global_average_pooling1d             │ ?                           │     <span style=\"color: #00af00; text-decoration-color: #00af00\">0</span> (unbuilt) │\n",
              "│ (<span style=\"color: #0087ff; text-decoration-color: #0087ff\">GlobalAveragePooling1D</span>)             │                             │                 │\n",
              "├──────────────────────────────────────┼─────────────────────────────┼─────────────────┤\n",
              "│ dense_2 (<span style=\"color: #0087ff; text-decoration-color: #0087ff\">Dense</span>)                      │ ?                           │     <span style=\"color: #00af00; text-decoration-color: #00af00\">0</span> (unbuilt) │\n",
              "├──────────────────────────────────────┼─────────────────────────────┼─────────────────┤\n",
              "│ dense_3 (<span style=\"color: #0087ff; text-decoration-color: #0087ff\">Dense</span>)                      │ ?                           │     <span style=\"color: #00af00; text-decoration-color: #00af00\">0</span> (unbuilt) │\n",
              "└──────────────────────────────────────┴─────────────────────────────┴─────────────────┘\n",
              "</pre>\n"
            ]
          },
          "metadata": {}
        },
        {
          "output_type": "display_data",
          "data": {
            "text/plain": [
              "\u001b[1m Total params: \u001b[0m\u001b[38;5;34m0\u001b[0m (0.00 B)\n"
            ],
            "text/html": [
              "<pre style=\"white-space:pre;overflow-x:auto;line-height:normal;font-family:Menlo,'DejaVu Sans Mono',consolas,'Courier New',monospace\"><span style=\"font-weight: bold\"> Total params: </span><span style=\"color: #00af00; text-decoration-color: #00af00\">0</span> (0.00 B)\n",
              "</pre>\n"
            ]
          },
          "metadata": {}
        },
        {
          "output_type": "display_data",
          "data": {
            "text/plain": [
              "\u001b[1m Trainable params: \u001b[0m\u001b[38;5;34m0\u001b[0m (0.00 B)\n"
            ],
            "text/html": [
              "<pre style=\"white-space:pre;overflow-x:auto;line-height:normal;font-family:Menlo,'DejaVu Sans Mono',consolas,'Courier New',monospace\"><span style=\"font-weight: bold\"> Trainable params: </span><span style=\"color: #00af00; text-decoration-color: #00af00\">0</span> (0.00 B)\n",
              "</pre>\n"
            ]
          },
          "metadata": {}
        },
        {
          "output_type": "display_data",
          "data": {
            "text/plain": [
              "\u001b[1m Non-trainable params: \u001b[0m\u001b[38;5;34m0\u001b[0m (0.00 B)\n"
            ],
            "text/html": [
              "<pre style=\"white-space:pre;overflow-x:auto;line-height:normal;font-family:Menlo,'DejaVu Sans Mono',consolas,'Courier New',monospace\"><span style=\"font-weight: bold\"> Non-trainable params: </span><span style=\"color: #00af00; text-decoration-color: #00af00\">0</span> (0.00 B)\n",
              "</pre>\n"
            ]
          },
          "metadata": {}
        }
      ]
    },
    {
      "cell_type": "code",
      "source": [
        "model_lstm_cnn = tf.keras.Sequential([\n",
        "    Embedding(input_dim=vocab_size, output_dim=embedding_dim),\n",
        "    Bidirectional(LSTM(64,return_sequences=True)),\n",
        "    Conv1D(64, 5, activation='relu'),\n",
        "    GlobalAveragePooling1D(),\n",
        "    Dropout(0.25),\n",
        "    Dense(50, activation='relu'),\n",
        "    Dense(3, activation='softmax')\n",
        "])\n",
        "\n",
        "model_cnn.summary()"
      ],
      "metadata": {
        "id": "waTn4SgiQeRO",
        "outputId": "0f7f3806-a97f-4314-a98c-f7cf746b5d92",
        "colab": {
          "base_uri": "https://localhost:8080/",
          "height": 307
        }
      },
      "execution_count": 30,
      "outputs": [
        {
          "output_type": "display_data",
          "data": {
            "text/plain": [
              "\u001b[1mModel: \"sequential_1\"\u001b[0m\n"
            ],
            "text/html": [
              "<pre style=\"white-space:pre;overflow-x:auto;line-height:normal;font-family:Menlo,'DejaVu Sans Mono',consolas,'Courier New',monospace\"><span style=\"font-weight: bold\">Model: \"sequential_1\"</span>\n",
              "</pre>\n"
            ]
          },
          "metadata": {}
        },
        {
          "output_type": "display_data",
          "data": {
            "text/plain": [
              "┏━━━━━━━━━━━━━━━━━━━━━━━━━━━━━━━━━━━━━━┳━━━━━━━━━━━━━━━━━━━━━━━━━━━━━┳━━━━━━━━━━━━━━━━━┓\n",
              "┃\u001b[1m \u001b[0m\u001b[1mLayer (type)                        \u001b[0m\u001b[1m \u001b[0m┃\u001b[1m \u001b[0m\u001b[1mOutput Shape               \u001b[0m\u001b[1m \u001b[0m┃\u001b[1m \u001b[0m\u001b[1m        Param #\u001b[0m\u001b[1m \u001b[0m┃\n",
              "┡━━━━━━━━━━━━━━━━━━━━━━━━━━━━━━━━━━━━━━╇━━━━━━━━━━━━━━━━━━━━━━━━━━━━━╇━━━━━━━━━━━━━━━━━┩\n",
              "│ embedding_1 (\u001b[38;5;33mEmbedding\u001b[0m)              │ ?                           │     \u001b[38;5;34m0\u001b[0m (unbuilt) │\n",
              "├──────────────────────────────────────┼─────────────────────────────┼─────────────────┤\n",
              "│ conv1d (\u001b[38;5;33mConv1D\u001b[0m)                      │ ?                           │     \u001b[38;5;34m0\u001b[0m (unbuilt) │\n",
              "├──────────────────────────────────────┼─────────────────────────────┼─────────────────┤\n",
              "│ global_average_pooling1d             │ ?                           │     \u001b[38;5;34m0\u001b[0m (unbuilt) │\n",
              "│ (\u001b[38;5;33mGlobalAveragePooling1D\u001b[0m)             │                             │                 │\n",
              "├──────────────────────────────────────┼─────────────────────────────┼─────────────────┤\n",
              "│ dense_2 (\u001b[38;5;33mDense\u001b[0m)                      │ ?                           │     \u001b[38;5;34m0\u001b[0m (unbuilt) │\n",
              "├──────────────────────────────────────┼─────────────────────────────┼─────────────────┤\n",
              "│ dense_3 (\u001b[38;5;33mDense\u001b[0m)                      │ ?                           │     \u001b[38;5;34m0\u001b[0m (unbuilt) │\n",
              "└──────────────────────────────────────┴─────────────────────────────┴─────────────────┘\n"
            ],
            "text/html": [
              "<pre style=\"white-space:pre;overflow-x:auto;line-height:normal;font-family:Menlo,'DejaVu Sans Mono',consolas,'Courier New',monospace\">┏━━━━━━━━━━━━━━━━━━━━━━━━━━━━━━━━━━━━━━┳━━━━━━━━━━━━━━━━━━━━━━━━━━━━━┳━━━━━━━━━━━━━━━━━┓\n",
              "┃<span style=\"font-weight: bold\"> Layer (type)                         </span>┃<span style=\"font-weight: bold\"> Output Shape                </span>┃<span style=\"font-weight: bold\">         Param # </span>┃\n",
              "┡━━━━━━━━━━━━━━━━━━━━━━━━━━━━━━━━━━━━━━╇━━━━━━━━━━━━━━━━━━━━━━━━━━━━━╇━━━━━━━━━━━━━━━━━┩\n",
              "│ embedding_1 (<span style=\"color: #0087ff; text-decoration-color: #0087ff\">Embedding</span>)              │ ?                           │     <span style=\"color: #00af00; text-decoration-color: #00af00\">0</span> (unbuilt) │\n",
              "├──────────────────────────────────────┼─────────────────────────────┼─────────────────┤\n",
              "│ conv1d (<span style=\"color: #0087ff; text-decoration-color: #0087ff\">Conv1D</span>)                      │ ?                           │     <span style=\"color: #00af00; text-decoration-color: #00af00\">0</span> (unbuilt) │\n",
              "├──────────────────────────────────────┼─────────────────────────────┼─────────────────┤\n",
              "│ global_average_pooling1d             │ ?                           │     <span style=\"color: #00af00; text-decoration-color: #00af00\">0</span> (unbuilt) │\n",
              "│ (<span style=\"color: #0087ff; text-decoration-color: #0087ff\">GlobalAveragePooling1D</span>)             │                             │                 │\n",
              "├──────────────────────────────────────┼─────────────────────────────┼─────────────────┤\n",
              "│ dense_2 (<span style=\"color: #0087ff; text-decoration-color: #0087ff\">Dense</span>)                      │ ?                           │     <span style=\"color: #00af00; text-decoration-color: #00af00\">0</span> (unbuilt) │\n",
              "├──────────────────────────────────────┼─────────────────────────────┼─────────────────┤\n",
              "│ dense_3 (<span style=\"color: #0087ff; text-decoration-color: #0087ff\">Dense</span>)                      │ ?                           │     <span style=\"color: #00af00; text-decoration-color: #00af00\">0</span> (unbuilt) │\n",
              "└──────────────────────────────────────┴─────────────────────────────┴─────────────────┘\n",
              "</pre>\n"
            ]
          },
          "metadata": {}
        },
        {
          "output_type": "display_data",
          "data": {
            "text/plain": [
              "\u001b[1m Total params: \u001b[0m\u001b[38;5;34m0\u001b[0m (0.00 B)\n"
            ],
            "text/html": [
              "<pre style=\"white-space:pre;overflow-x:auto;line-height:normal;font-family:Menlo,'DejaVu Sans Mono',consolas,'Courier New',monospace\"><span style=\"font-weight: bold\"> Total params: </span><span style=\"color: #00af00; text-decoration-color: #00af00\">0</span> (0.00 B)\n",
              "</pre>\n"
            ]
          },
          "metadata": {}
        },
        {
          "output_type": "display_data",
          "data": {
            "text/plain": [
              "\u001b[1m Trainable params: \u001b[0m\u001b[38;5;34m0\u001b[0m (0.00 B)\n"
            ],
            "text/html": [
              "<pre style=\"white-space:pre;overflow-x:auto;line-height:normal;font-family:Menlo,'DejaVu Sans Mono',consolas,'Courier New',monospace\"><span style=\"font-weight: bold\"> Trainable params: </span><span style=\"color: #00af00; text-decoration-color: #00af00\">0</span> (0.00 B)\n",
              "</pre>\n"
            ]
          },
          "metadata": {}
        },
        {
          "output_type": "display_data",
          "data": {
            "text/plain": [
              "\u001b[1m Non-trainable params: \u001b[0m\u001b[38;5;34m0\u001b[0m (0.00 B)\n"
            ],
            "text/html": [
              "<pre style=\"white-space:pre;overflow-x:auto;line-height:normal;font-family:Menlo,'DejaVu Sans Mono',consolas,'Courier New',monospace\"><span style=\"font-weight: bold\"> Non-trainable params: </span><span style=\"color: #00af00; text-decoration-color: #00af00\">0</span> (0.00 B)\n",
              "</pre>\n"
            ]
          },
          "metadata": {}
        }
      ]
    },
    {
      "cell_type": "code",
      "source": [
        "# compiling model with rnn (lstm) method\n",
        "model_lstm.compile(loss='sparse_categorical_crossentropy',\n",
        "              optimizer=RMSprop(learning_rate=0.001),\n",
        "              metrics=['accuracy'],\n",
        "              )\n",
        "\n",
        "# compilling model with cnn method\n",
        "model_cnn.compile(loss='sparse_categorical_crossentropy',\n",
        "              optimizer=RMSprop(learning_rate=0.001),\n",
        "              metrics=['accuracy'],\n",
        "              )\n",
        "\n",
        "model_lstm_cnn.compile(loss='sparse_categorical_crossentropy',\n",
        "              optimizer=RMSprop(learning_rate=0.001),\n",
        "              metrics=['accuracy'],\n",
        "              )"
      ],
      "metadata": {
        "id": "YHwZSY3BBzHn"
      },
      "execution_count": 31,
      "outputs": []
    },
    {
      "cell_type": "markdown",
      "source": [
        "# Set Callbacks"
      ],
      "metadata": {
        "id": "3BsIZaswB767"
      }
    },
    {
      "cell_type": "code",
      "source": [
        "# early stopping\n",
        "early_stopping = EarlyStopping(monitor='val_accuracy',\n",
        "                                                  mode='min',\n",
        "                                                  patience=5, restore_best_weights=True)\n",
        "\n",
        "\n",
        "\n",
        "# Model checkpoint, saving the best only val_acc of lstm\n",
        "checkpoint_filepath_lstm = '/tmp/ckpt/checkpoint_lstm-{epoch:02d}-{accuracy:.3f}-{val_accuracy:.3f}.keras'\n",
        "model_checkpoint_callback_lstm = ModelCheckpoint(\n",
        "    filepath=checkpoint_filepath_lstm,\n",
        "    monitor='val_accuracy',\n",
        "    mode='max',\n",
        "    save_best_only=False,\n",
        "    verbose=1)\n",
        "\n",
        "# Model checkpoint, saving the best only val_acc of CNN\n",
        "checkpoint_filepath_cnn = '/tmp/ckpt/checkpoint_cnn-{epoch:02d}-{accuracy:.3f}-{val_accuracy:.3f}.keras'\n",
        "model_checkpoint_callback_cnn = ModelCheckpoint(\n",
        "    filepath=checkpoint_filepath_cnn,\n",
        "    monitor='val_accuracy',\n",
        "    mode='max',\n",
        "    save_best_only=False,\n",
        "    verbose=1)\n",
        "\n",
        "# Model checkpoint, saving the best only val_acc of CNN\n",
        "checkpoint_filepath_lstm_cnn = '/tmp/ckpt/checkpoint_lstm_cnn-{epoch:02d}-{accuracy:.3f}-{val_accuracy:.3f}.keras'\n",
        "model_checkpoint_callback_lstm_cnn = ModelCheckpoint(\n",
        "    filepath=checkpoint_filepath_lstm_cnn,\n",
        "    monitor='val_accuracy',\n",
        "    mode='max',\n",
        "    save_best_only=False,\n",
        "    verbose=1)\n",
        "\n",
        "# save csv logger callbacks\n",
        "csv_logger_lstm = CSVLogger('training_lstm.log')\n",
        "csv_logger_cnn = CSVLogger('training_cnn.log')\n",
        "csv_logger_lstm_cnn = CSVLogger('training_lstm_cnn.log')\n",
        "\n",
        "# Define ReduceLROnPlateau callback\n",
        "reduce_lr_callback = tf.keras.callbacks.ReduceLROnPlateau(\n",
        "    monitor='val_loss', factor=0.1, patience=2, min_lr=0.00001\n",
        ")\n",
        "\n",
        "# store learning rate history\n",
        "class LearningRateHistory(tf.keras.callbacks.Callback):\n",
        "    def __init__(self):\n",
        "        super(LearningRateHistory, self).__init__()\n",
        "        self.lr_history = []\n",
        "\n",
        "    def on_epoch_end(self, epoch, logs=None):\n",
        "        lr = self.model.optimizer.learning_rate\n",
        "        if isinstance(lr, tf.keras.optimizers.schedules.LearningRateSchedule):\n",
        "            lr = lr(self.model.optimizer.iterations).numpy()\n",
        "        else:\n",
        "            lr = lr.numpy()\n",
        "        self.lr_history.append(lr)\n",
        "        print(f'Epoch {epoch + 1}: Learning rate is {lr}')\n",
        "\n",
        "lr_history_cnn = LearningRateHistory()\n",
        "lr_history_lstm = LearningRateHistory()\n",
        "lr_history_lstm_cnn = LearningRateHistory()"
      ],
      "metadata": {
        "id": "Fmu3T0llB7tU"
      },
      "execution_count": 32,
      "outputs": []
    },
    {
      "cell_type": "markdown",
      "source": [
        "# START TRAINING HERE, BE CAREFUL TO RUN CELL BELOW"
      ],
      "metadata": {
        "id": "OD1e2NlLVSXh"
      }
    },
    {
      "cell_type": "markdown",
      "source": [
        "# Model training"
      ],
      "metadata": {
        "id": "Ugre1BFAAR6x"
      }
    },
    {
      "cell_type": "code",
      "source": [
        "num_epochs=10\n",
        "history_lstm = model_lstm.fit(train_set, epochs=num_epochs,\n",
        "                    validation_data=val_set, verbose=2,\n",
        "                    callbacks=[model_checkpoint_callback_lstm,\n",
        "                               csv_logger_lstm,\n",
        "                               reduce_lr_callback,\n",
        "                               lr_history_lstm\n",
        "                               ]\n",
        "                    )"
      ],
      "metadata": {
        "colab": {
          "base_uri": "https://localhost:8080/"
        },
        "id": "7-hoctXf42NA",
        "outputId": "cd2929b6-632e-49c9-8f47-640ff13f9c86"
      },
      "execution_count": null,
      "outputs": [
        {
          "output_type": "stream",
          "name": "stdout",
          "text": [
            "Epoch 1/10\n",
            "\n",
            "Epoch 1: saving model to /tmp/ckpt/checkpoint_lstm-01-0.670-0.787.keras\n",
            "Epoch 1: Learning rate is 0.0010000000474974513\n",
            "938/938 - 29s - 31ms/step - accuracy: 0.6698 - loss: 0.7176 - val_accuracy: 0.7866 - val_loss: 0.4995 - learning_rate: 0.0010\n",
            "Epoch 2/10\n",
            "\n",
            "Epoch 2: saving model to /tmp/ckpt/checkpoint_lstm-02-0.814-0.816.keras\n",
            "Epoch 2: Learning rate is 0.0010000000474974513\n",
            "938/938 - 41s - 43ms/step - accuracy: 0.8141 - loss: 0.4487 - val_accuracy: 0.8161 - val_loss: 0.4427 - learning_rate: 0.0010\n",
            "Epoch 3/10\n",
            "\n",
            "Epoch 3: saving model to /tmp/ckpt/checkpoint_lstm-03-0.852-0.786.keras\n",
            "Epoch 3: Learning rate is 0.0010000000474974513\n",
            "938/938 - 26s - 27ms/step - accuracy: 0.8523 - loss: 0.3640 - val_accuracy: 0.7860 - val_loss: 0.5283 - learning_rate: 0.0010\n",
            "Epoch 4/10\n",
            "\n",
            "Epoch 4: saving model to /tmp/ckpt/checkpoint_lstm-04-0.874-0.839.keras\n",
            "Epoch 4: Learning rate is 0.0010000000474974513\n",
            "938/938 - 41s - 44ms/step - accuracy: 0.8738 - loss: 0.3119 - val_accuracy: 0.8390 - val_loss: 0.4076 - learning_rate: 0.0010\n",
            "Epoch 5/10\n",
            "\n",
            "Epoch 5: saving model to /tmp/ckpt/checkpoint_lstm-05-0.891-0.848.keras\n",
            "Epoch 5: Learning rate is 0.0010000000474974513\n",
            "938/938 - 41s - 44ms/step - accuracy: 0.8912 - loss: 0.2724 - val_accuracy: 0.8483 - val_loss: 0.3778 - learning_rate: 0.0010\n",
            "Epoch 6/10\n",
            "\n",
            "Epoch 6: saving model to /tmp/ckpt/checkpoint_lstm-06-0.907-0.843.keras\n",
            "Epoch 6: Learning rate is 0.0010000000474974513\n",
            "938/938 - 25s - 27ms/step - accuracy: 0.9070 - loss: 0.2369 - val_accuracy: 0.8426 - val_loss: 0.4044 - learning_rate: 0.0010\n",
            "Epoch 7/10\n",
            "\n",
            "Epoch 7: saving model to /tmp/ckpt/checkpoint_lstm-07-0.920-0.845.keras\n",
            "Epoch 7: Learning rate is 0.00010000000474974513\n",
            "938/938 - 41s - 44ms/step - accuracy: 0.9204 - loss: 0.2046 - val_accuracy: 0.8453 - val_loss: 0.4611 - learning_rate: 0.0010\n",
            "Epoch 8/10\n",
            "\n",
            "Epoch 8: saving model to /tmp/ckpt/checkpoint_lstm-08-0.953-0.853.keras\n",
            "Epoch 8: Learning rate is 0.00010000000474974513\n",
            "938/938 - 41s - 44ms/step - accuracy: 0.9528 - loss: 0.1298 - val_accuracy: 0.8529 - val_loss: 0.4856 - learning_rate: 1.0000e-04\n",
            "Epoch 9/10\n",
            "\n",
            "Epoch 9: saving model to /tmp/ckpt/checkpoint_lstm-09-0.959-0.853.keras\n",
            "Epoch 9: Learning rate is 1.0000000656873453e-05\n",
            "938/938 - 40s - 43ms/step - accuracy: 0.9594 - loss: 0.1148 - val_accuracy: 0.8530 - val_loss: 0.5062 - learning_rate: 1.0000e-04\n",
            "Epoch 10/10\n",
            "\n",
            "Epoch 10: saving model to /tmp/ckpt/checkpoint_lstm-10-0.965-0.853.keras\n",
            "Epoch 10: Learning rate is 1.0000000656873453e-05\n",
            "938/938 - 25s - 27ms/step - accuracy: 0.9648 - loss: 0.1029 - val_accuracy: 0.8526 - val_loss: 0.5087 - learning_rate: 1.0000e-05\n"
          ]
        }
      ]
    },
    {
      "cell_type": "code",
      "source": [
        "num_epochs=10\n",
        "history_cnn = model_cnn.fit(train_set, epochs=num_epochs,\n",
        "                    validation_data=val_set, verbose=2,\n",
        "                    callbacks=[model_checkpoint_callback_cnn, csv_logger_cnn,\n",
        "                               reduce_lr_callback,\n",
        "                               lr_history_cnn\n",
        "                               ]\n",
        "                    )"
      ],
      "metadata": {
        "colab": {
          "base_uri": "https://localhost:8080/"
        },
        "id": "p7ur6jmglG_X",
        "outputId": "9f4a754b-146b-4c6d-cfc6-23f99216443b"
      },
      "execution_count": null,
      "outputs": [
        {
          "output_type": "stream",
          "name": "stdout",
          "text": [
            "Epoch 1/10\n",
            "\n",
            "Epoch 1: saving model to /tmp/ckpt/checkpoint_cnn-01-0.594-0.752.keras\n",
            "Epoch 1: Learning rate is 0.0010000000474974513\n",
            "938/938 - 71s - 76ms/step - accuracy: 0.5939 - loss: 0.8678 - val_accuracy: 0.7518 - val_loss: 0.5760 - learning_rate: 0.0010\n",
            "Epoch 2/10\n",
            "\n",
            "Epoch 2: saving model to /tmp/ckpt/checkpoint_cnn-02-0.791-0.801.keras\n",
            "Epoch 2: Learning rate is 0.0010000000474974513\n",
            "938/938 - 70s - 75ms/step - accuracy: 0.7910 - loss: 0.4979 - val_accuracy: 0.8009 - val_loss: 0.4719 - learning_rate: 0.0010\n",
            "Epoch 3/10\n",
            "\n",
            "Epoch 3: saving model to /tmp/ckpt/checkpoint_cnn-03-0.831-0.793.keras\n",
            "Epoch 3: Learning rate is 0.0010000000474974513\n",
            "938/938 - 81s - 86ms/step - accuracy: 0.8312 - loss: 0.4104 - val_accuracy: 0.7931 - val_loss: 0.4856 - learning_rate: 0.0010\n",
            "Epoch 4/10\n",
            "\n",
            "Epoch 4: saving model to /tmp/ckpt/checkpoint_cnn-04-0.853-0.818.keras\n",
            "Epoch 4: Learning rate is 0.0010000000474974513\n",
            "938/938 - 58s - 62ms/step - accuracy: 0.8530 - loss: 0.3638 - val_accuracy: 0.8178 - val_loss: 0.4328 - learning_rate: 0.0010\n",
            "Epoch 5/10\n",
            "\n",
            "Epoch 5: saving model to /tmp/ckpt/checkpoint_cnn-05-0.869-0.825.keras\n",
            "Epoch 5: Learning rate is 0.0010000000474974513\n",
            "938/938 - 82s - 87ms/step - accuracy: 0.8689 - loss: 0.3285 - val_accuracy: 0.8249 - val_loss: 0.4311 - learning_rate: 0.0010\n",
            "Epoch 6/10\n",
            "\n",
            "Epoch 6: saving model to /tmp/ckpt/checkpoint_cnn-06-0.882-0.830.keras\n",
            "Epoch 6: Learning rate is 0.0010000000474974513\n",
            "938/938 - 58s - 61ms/step - accuracy: 0.8825 - loss: 0.2991 - val_accuracy: 0.8297 - val_loss: 0.4119 - learning_rate: 0.0010\n",
            "Epoch 7/10\n",
            "\n",
            "Epoch 7: saving model to /tmp/ckpt/checkpoint_cnn-07-0.893-0.821.keras\n",
            "Epoch 7: Learning rate is 0.0010000000474974513\n",
            "938/938 - 56s - 60ms/step - accuracy: 0.8929 - loss: 0.4778 - val_accuracy: 0.8213 - val_loss: 0.4257 - learning_rate: 0.0010\n",
            "Epoch 8/10\n",
            "\n",
            "Epoch 8: saving model to /tmp/ckpt/checkpoint_cnn-08-0.902-0.815.keras\n",
            "Epoch 8: Learning rate is 0.00010000000474974513\n",
            "938/938 - 10s - 11ms/step - accuracy: 0.9020 - loss: 0.2545 - val_accuracy: 0.8147 - val_loss: 0.4886 - learning_rate: 0.0010\n",
            "Epoch 9/10\n",
            "\n",
            "Epoch 9: saving model to /tmp/ckpt/checkpoint_cnn-09-0.933-0.839.keras\n",
            "Epoch 9: Learning rate is 0.00010000000474974513\n",
            "938/938 - 21s - 22ms/step - accuracy: 0.9333 - loss: 0.1874 - val_accuracy: 0.8393 - val_loss: 0.4321 - learning_rate: 1.0000e-04\n",
            "Epoch 10/10\n",
            "\n",
            "Epoch 10: saving model to /tmp/ckpt/checkpoint_cnn-10-0.938-0.840.keras\n",
            "Epoch 10: Learning rate is 1.0000000656873453e-05\n",
            "938/938 - 27s - 29ms/step - accuracy: 0.9380 - loss: 0.1768 - val_accuracy: 0.8399 - val_loss: 0.4361 - learning_rate: 1.0000e-04\n"
          ]
        }
      ]
    },
    {
      "cell_type": "code",
      "source": [
        "num_epochs=10\n",
        "history_lstm_cnn = model_lstm_cnn.fit(train_set, epochs=num_epochs,\n",
        "                    validation_data=val_set, verbose=2,\n",
        "                    callbacks=[model_checkpoint_callback_lstm_cnn,\n",
        "                               csv_logger_lstm_cnn,\n",
        "                               reduce_lr_callback,\n",
        "                               lr_history_lstm_cnn\n",
        "                               ]\n",
        "                    )"
      ],
      "metadata": {
        "id": "4_hoizkRQ-Zh",
        "outputId": "c90343b8-a4aa-4c99-d964-ec0bdf28aa22",
        "colab": {
          "base_uri": "https://localhost:8080/"
        }
      },
      "execution_count": null,
      "outputs": [
        {
          "output_type": "stream",
          "name": "stdout",
          "text": [
            "Epoch 1/10\n",
            "\n",
            "Epoch 1: saving model to /tmp/ckpt/checkpoint_lstm_cnn-01-0.631-0.753.keras\n",
            "Epoch 1: Learning rate is 0.0010000000474974513\n",
            "938/938 - 33s - 35ms/step - accuracy: 0.6311 - loss: 0.7682 - val_accuracy: 0.7527 - val_loss: 0.5816 - learning_rate: 0.0010\n",
            "Epoch 2/10\n",
            "\n",
            "Epoch 2: saving model to /tmp/ckpt/checkpoint_lstm_cnn-02-0.817-0.823.keras\n",
            "Epoch 2: Learning rate is 0.0010000000474974513\n",
            "938/938 - 41s - 43ms/step - accuracy: 0.8165 - loss: 0.4430 - val_accuracy: 0.8230 - val_loss: 0.4128 - learning_rate: 0.0010\n",
            "Epoch 3/10\n",
            "\n",
            "Epoch 3: saving model to /tmp/ckpt/checkpoint_lstm_cnn-03-0.853-0.836.keras\n",
            "Epoch 3: Learning rate is 0.0010000000474974513\n",
            "938/938 - 31s - 33ms/step - accuracy: 0.8531 - loss: 0.3596 - val_accuracy: 0.8362 - val_loss: 0.3914 - learning_rate: 0.0010\n",
            "Epoch 4/10\n",
            "\n",
            "Epoch 4: saving model to /tmp/ckpt/checkpoint_lstm_cnn-04-0.875-0.838.keras\n",
            "Epoch 4: Learning rate is 0.0010000000474974513\n",
            "938/938 - 41s - 43ms/step - accuracy: 0.8749 - loss: 0.3104 - val_accuracy: 0.8380 - val_loss: 0.3888 - learning_rate: 0.0010\n",
            "Epoch 5/10\n",
            "\n",
            "Epoch 5: saving model to /tmp/ckpt/checkpoint_lstm_cnn-05-0.893-0.835.keras\n",
            "Epoch 5: Learning rate is 0.0010000000474974513\n",
            "938/938 - 41s - 44ms/step - accuracy: 0.8928 - loss: 0.2706 - val_accuracy: 0.8346 - val_loss: 0.4051 - learning_rate: 0.0010\n",
            "Epoch 6/10\n",
            "\n",
            "Epoch 6: saving model to /tmp/ckpt/checkpoint_lstm_cnn-06-0.909-0.843.keras\n",
            "Epoch 6: Learning rate is 0.00010000000474974513\n",
            "938/938 - 30s - 32ms/step - accuracy: 0.9088 - loss: 0.2341 - val_accuracy: 0.8430 - val_loss: 0.4012 - learning_rate: 0.0010\n",
            "Epoch 7/10\n",
            "\n",
            "Epoch 7: saving model to /tmp/ckpt/checkpoint_lstm_cnn-07-0.942-0.851.keras\n",
            "Epoch 7: Learning rate is 0.00010000000474974513\n",
            "938/938 - 41s - 43ms/step - accuracy: 0.9421 - loss: 0.1573 - val_accuracy: 0.8508 - val_loss: 0.4510 - learning_rate: 1.0000e-04\n",
            "Epoch 8/10\n",
            "\n",
            "Epoch 8: saving model to /tmp/ckpt/checkpoint_lstm_cnn-08-0.948-0.850.keras\n",
            "Epoch 8: Learning rate is 1.0000000656873453e-05\n",
            "938/938 - 30s - 32ms/step - accuracy: 0.9484 - loss: 0.1422 - val_accuracy: 0.8498 - val_loss: 0.4632 - learning_rate: 1.0000e-04\n",
            "Epoch 9/10\n",
            "\n",
            "Epoch 9: saving model to /tmp/ckpt/checkpoint_lstm_cnn-09-0.954-0.851.keras\n",
            "Epoch 9: Learning rate is 1.0000000656873453e-05\n",
            "938/938 - 41s - 43ms/step - accuracy: 0.9542 - loss: 0.1292 - val_accuracy: 0.8508 - val_loss: 0.4670 - learning_rate: 1.0000e-05\n",
            "Epoch 10/10\n",
            "\n",
            "Epoch 10: saving model to /tmp/ckpt/checkpoint_lstm_cnn-10-0.955-0.850.keras\n",
            "Epoch 10: Learning rate is 9.999999747378752e-06\n",
            "938/938 - 41s - 44ms/step - accuracy: 0.9548 - loss: 0.1277 - val_accuracy: 0.8501 - val_loss: 0.4694 - learning_rate: 1.0000e-05\n"
          ]
        }
      ]
    },
    {
      "cell_type": "markdown",
      "source": [
        "# Visualize the results"
      ],
      "metadata": {
        "id": "wFyiC798NBf-"
      }
    },
    {
      "cell_type": "code",
      "source": [
        "plot_compare_graphs([history_lstm, history_cnn, history_lstm_cnn], ['LSTM', 'CNN', 'LSTM_CNN'])"
      ],
      "metadata": {
        "colab": {
          "base_uri": "https://localhost:8080/",
          "height": 430
        },
        "id": "SzTY-App717C",
        "outputId": "b7f2d2f5-69f6-4ed4-8a85-b6d2f009f25d"
      },
      "execution_count": null,
      "outputs": [
        {
          "output_type": "display_data",
          "data": {
            "text/plain": [
              "<Figure size 1500x400 with 2 Axes>"
            ],
            "image/png": "[encoded data removed]"
          },
          "metadata": {}
        }
      ]
    },
    {
      "cell_type": "code",
      "source": [
        "lr_history_plot([lr_history_lstm, lr_history_cnn, lr_history_lstm_cnn], ['LR_LSTM', 'LR_CNN', 'LR_LSTM_CNN'])"
      ],
      "metadata": {
        "id": "1gXZuI6xnGdT",
        "outputId": "449c7707-89b6-4516-d678-d869f0de49bb",
        "colab": {
          "base_uri": "https://localhost:8080/",
          "height": 410
        }
      },
      "execution_count": null,
      "outputs": [
        {
          "output_type": "display_data",
          "data": {
            "text/plain": [
              "<Figure size 800x400 with 1 Axes>"
            ],
            "image/png": "[encoded data removed]"
          },
          "metadata": {}
        }
      ]
    },
    {
      "cell_type": "markdown",
      "source": [
        "# Saving best checkpoint model"
      ],
      "metadata": {
        "id": "XkKBS4_SpceF"
      }
    },
    {
      "cell_type": "code",
      "source": [
        "!zip -r ckpt.zip /tmp/ckpt\n",
        "models_to_download = 'ckpt.zip'\n",
        "try:\n",
        "  files.download('training.log')\n",
        "  files.download(models_to_download)\n",
        "\n",
        "except e:\n",
        "  print(e)"
      ],
      "metadata": {
        "id": "V-kjr9_5NEAL"
      },
      "execution_count": null,
      "outputs": []
    },
    {
      "cell_type": "markdown",
      "source": [
        "# END TRAINING HERE, BE CAREFUL TO RUN CELLS ABOVE"
      ],
      "metadata": {
        "id": "heXxh0TkVYuw"
      }
    },
    {
      "cell_type": "markdown",
      "source": [
        "# Evaluate the model"
      ],
      "metadata": {
        "id": "7a9U4DGopko-"
      }
    },
    {
      "cell_type": "code",
      "source": [
        "def download_model():\n",
        "  model_url = 'https://github.com/sayid-alt/sentiment-analysis-nlp/raw/rnn-cnn-comparing/model/checkpoint_lstm-10-0.965-0.853.keras'\n",
        "  # Find the position of the last forward slash '/'\n",
        "  last_slash_index = model_url.rfind('/')\n",
        "\n",
        "  # Extract the substring from the last slash to the end of the string\n",
        "  model_name = model_url[last_slash_index + 1:]\n",
        "  urllib.request.urlretrieve(model_url, model_name)\n",
        "  print('Downloading model...')\n",
        "  print('Success downloading model')\n",
        "  return model_name\n",
        "\n",
        "model_path = download_model()"
      ],
      "metadata": {
        "colab": {
          "base_uri": "https://localhost:8080/"
        },
        "id": "QOJsVPJTpkOP",
        "outputId": "57526614-6a50-43e6-8ebc-f283887191a6"
      },
      "execution_count": 33,
      "outputs": [
        {
          "output_type": "stream",
          "name": "stdout",
          "text": [
            "Downloading model...\n",
            "Success downloading model\n"
          ]
        }
      ]
    },
    {
      "cell_type": "code",
      "source": [
        "# loaded trained model\n",
        "loaded_model = tf.keras.models.load_model(model_path)\n",
        "loaded_model.summary()"
      ],
      "metadata": {
        "id": "KMHXtfXLqqef",
        "colab": {
          "base_uri": "https://localhost:8080/",
          "height": 307
        },
        "outputId": "d3520063-b93f-494b-ad81-ccd42c4636c9"
      },
      "execution_count": 35,
      "outputs": [
        {
          "output_type": "display_data",
          "data": {
            "text/plain": [
              "\u001b[1mModel: \"sequential_7\"\u001b[0m\n"
            ],
            "text/html": [
              "<pre style=\"white-space:pre;overflow-x:auto;line-height:normal;font-family:Menlo,'DejaVu Sans Mono',consolas,'Courier New',monospace\"><span style=\"font-weight: bold\">Model: \"sequential_7\"</span>\n",
              "</pre>\n"
            ]
          },
          "metadata": {}
        },
        {
          "output_type": "display_data",
          "data": {
            "text/plain": [
              "┏━━━━━━━━━━━━━━━━━━━━━━━━━━━━━━━━━━━━━━┳━━━━━━━━━━━━━━━━━━━━━━━━━━━━━┳━━━━━━━━━━━━━━━━━┓\n",
              "┃\u001b[1m \u001b[0m\u001b[1mLayer (type)                        \u001b[0m\u001b[1m \u001b[0m┃\u001b[1m \u001b[0m\u001b[1mOutput Shape               \u001b[0m\u001b[1m \u001b[0m┃\u001b[1m \u001b[0m\u001b[1m        Param #\u001b[0m\u001b[1m \u001b[0m┃\n",
              "┡━━━━━━━━━━━━━━━━━━━━━━━━━━━━━━━━━━━━━━╇━━━━━━━━━━━━━━━━━━━━━━━━━━━━━╇━━━━━━━━━━━━━━━━━┩\n",
              "│ embedding_9 (\u001b[38;5;33mEmbedding\u001b[0m)              │ (\u001b[38;5;45mNone\u001b[0m, \u001b[38;5;34m100\u001b[0m, \u001b[38;5;34m250\u001b[0m)            │      \u001b[38;5;34m12,500,000\u001b[0m │\n",
              "├──────────────────────────────────────┼─────────────────────────────┼─────────────────┤\n",
              "│ bidirectional_7 (\u001b[38;5;33mBidirectional\u001b[0m)      │ (\u001b[38;5;45mNone\u001b[0m, \u001b[38;5;34m128\u001b[0m)                 │         \u001b[38;5;34m161,280\u001b[0m │\n",
              "├──────────────────────────────────────┼─────────────────────────────┼─────────────────┤\n",
              "│ dropout_3 (\u001b[38;5;33mDropout\u001b[0m)                  │ (\u001b[38;5;45mNone\u001b[0m, \u001b[38;5;34m128\u001b[0m)                 │               \u001b[38;5;34m0\u001b[0m │\n",
              "├──────────────────────────────────────┼─────────────────────────────┼─────────────────┤\n",
              "│ dense_14 (\u001b[38;5;33mDense\u001b[0m)                     │ (\u001b[38;5;45mNone\u001b[0m, \u001b[38;5;34m50\u001b[0m)                  │           \u001b[38;5;34m6,450\u001b[0m │\n",
              "├──────────────────────────────────────┼─────────────────────────────┼─────────────────┤\n",
              "│ dense_15 (\u001b[38;5;33mDense\u001b[0m)                     │ (\u001b[38;5;45mNone\u001b[0m, \u001b[38;5;34m3\u001b[0m)                   │             \u001b[38;5;34m153\u001b[0m │\n",
              "└──────────────────────────────────────┴─────────────────────────────┴─────────────────┘\n"
            ],
            "text/html": [
              "<pre style=\"white-space:pre;overflow-x:auto;line-height:normal;font-family:Menlo,'DejaVu Sans Mono',consolas,'Courier New',monospace\">┏━━━━━━━━━━━━━━━━━━━━━━━━━━━━━━━━━━━━━━┳━━━━━━━━━━━━━━━━━━━━━━━━━━━━━┳━━━━━━━━━━━━━━━━━┓\n",
              "┃<span style=\"font-weight: bold\"> Layer (type)                         </span>┃<span style=\"font-weight: bold\"> Output Shape                </span>┃<span style=\"font-weight: bold\">         Param # </span>┃\n",
              "┡━━━━━━━━━━━━━━━━━━━━━━━━━━━━━━━━━━━━━━╇━━━━━━━━━━━━━━━━━━━━━━━━━━━━━╇━━━━━━━━━━━━━━━━━┩\n",
              "│ embedding_9 (<span style=\"color: #0087ff; text-decoration-color: #0087ff\">Embedding</span>)              │ (<span style=\"color: #00d7ff; text-decoration-color: #00d7ff\">None</span>, <span style=\"color: #00af00; text-decoration-color: #00af00\">100</span>, <span style=\"color: #00af00; text-decoration-color: #00af00\">250</span>)            │      <span style=\"color: #00af00; text-decoration-color: #00af00\">12,500,000</span> │\n",
              "├──────────────────────────────────────┼─────────────────────────────┼─────────────────┤\n",
              "│ bidirectional_7 (<span style=\"color: #0087ff; text-decoration-color: #0087ff\">Bidirectional</span>)      │ (<span style=\"color: #00d7ff; text-decoration-color: #00d7ff\">None</span>, <span style=\"color: #00af00; text-decoration-color: #00af00\">128</span>)                 │         <span style=\"color: #00af00; text-decoration-color: #00af00\">161,280</span> │\n",
              "├──────────────────────────────────────┼─────────────────────────────┼─────────────────┤\n",
              "│ dropout_3 (<span style=\"color: #0087ff; text-decoration-color: #0087ff\">Dropout</span>)                  │ (<span style=\"color: #00d7ff; text-decoration-color: #00d7ff\">None</span>, <span style=\"color: #00af00; text-decoration-color: #00af00\">128</span>)                 │               <span style=\"color: #00af00; text-decoration-color: #00af00\">0</span> │\n",
              "├──────────────────────────────────────┼─────────────────────────────┼─────────────────┤\n",
              "│ dense_14 (<span style=\"color: #0087ff; text-decoration-color: #0087ff\">Dense</span>)                     │ (<span style=\"color: #00d7ff; text-decoration-color: #00d7ff\">None</span>, <span style=\"color: #00af00; text-decoration-color: #00af00\">50</span>)                  │           <span style=\"color: #00af00; text-decoration-color: #00af00\">6,450</span> │\n",
              "├──────────────────────────────────────┼─────────────────────────────┼─────────────────┤\n",
              "│ dense_15 (<span style=\"color: #0087ff; text-decoration-color: #0087ff\">Dense</span>)                     │ (<span style=\"color: #00d7ff; text-decoration-color: #00d7ff\">None</span>, <span style=\"color: #00af00; text-decoration-color: #00af00\">3</span>)                   │             <span style=\"color: #00af00; text-decoration-color: #00af00\">153</span> │\n",
              "└──────────────────────────────────────┴─────────────────────────────┴─────────────────┘\n",
              "</pre>\n"
            ]
          },
          "metadata": {}
        },
        {
          "output_type": "display_data",
          "data": {
            "text/plain": [
              "\u001b[1m Total params: \u001b[0m\u001b[38;5;34m25,335,768\u001b[0m (96.65 MB)\n"
            ],
            "text/html": [
              "<pre style=\"white-space:pre;overflow-x:auto;line-height:normal;font-family:Menlo,'DejaVu Sans Mono',consolas,'Courier New',monospace\"><span style=\"font-weight: bold\"> Total params: </span><span style=\"color: #00af00; text-decoration-color: #00af00\">25,335,768</span> (96.65 MB)\n",
              "</pre>\n"
            ]
          },
          "metadata": {}
        },
        {
          "output_type": "display_data",
          "data": {
            "text/plain": [
              "\u001b[1m Trainable params: \u001b[0m\u001b[38;5;34m12,667,883\u001b[0m (48.32 MB)\n"
            ],
            "text/html": [
              "<pre style=\"white-space:pre;overflow-x:auto;line-height:normal;font-family:Menlo,'DejaVu Sans Mono',consolas,'Courier New',monospace\"><span style=\"font-weight: bold\"> Trainable params: </span><span style=\"color: #00af00; text-decoration-color: #00af00\">12,667,883</span> (48.32 MB)\n",
              "</pre>\n"
            ]
          },
          "metadata": {}
        },
        {
          "output_type": "display_data",
          "data": {
            "text/plain": [
              "\u001b[1m Non-trainable params: \u001b[0m\u001b[38;5;34m0\u001b[0m (0.00 B)\n"
            ],
            "text/html": [
              "<pre style=\"white-space:pre;overflow-x:auto;line-height:normal;font-family:Menlo,'DejaVu Sans Mono',consolas,'Courier New',monospace\"><span style=\"font-weight: bold\"> Non-trainable params: </span><span style=\"color: #00af00; text-decoration-color: #00af00\">0</span> (0.00 B)\n",
              "</pre>\n"
            ]
          },
          "metadata": {}
        },
        {
          "output_type": "display_data",
          "data": {
            "text/plain": [
              "\u001b[1m Optimizer params: \u001b[0m\u001b[38;5;34m12,667,885\u001b[0m (48.32 MB)\n"
            ],
            "text/html": [
              "<pre style=\"white-space:pre;overflow-x:auto;line-height:normal;font-family:Menlo,'DejaVu Sans Mono',consolas,'Courier New',monospace\"><span style=\"font-weight: bold\"> Optimizer params: </span><span style=\"color: #00af00; text-decoration-color: #00af00\">12,667,885</span> (48.32 MB)\n",
              "</pre>\n"
            ]
          },
          "metadata": {}
        }
      ]
    },
    {
      "cell_type": "code",
      "source": [
        "loss, accuracy = loaded_model.evaluate(test_set)\n",
        "print(f'Loss: {loss}')\n",
        "print(f'Accuracy: {accuracy}')"
      ],
      "metadata": {
        "colab": {
          "base_uri": "https://localhost:8080/"
        },
        "id": "VClQvC6oqxbj",
        "outputId": "b4495624-fc6d-4529-ccd1-1d2f776eb90f"
      },
      "execution_count": 37,
      "outputs": [
        {
          "output_type": "stream",
          "name": "stdout",
          "text": [
            "\u001b[1m118/118\u001b[0m \u001b[32m━━━━━━━━━━━━━━━━━━━━\u001b[0m\u001b[37m\u001b[0m \u001b[1m1s\u001b[0m 9ms/step - accuracy: 0.8491 - loss: 0.5122\n",
            "Loss: 0.5015486478805542\n",
            "Accuracy: 0.8535000085830688\n"
          ]
        }
      ]
    },
    {
      "cell_type": "markdown",
      "source": [
        "## Visualize Word Embeddings"
      ],
      "metadata": {
        "id": "uvcwCJqMgfeK"
      }
    },
    {
      "cell_type": "markdown",
      "source": [
        "Get embedding layer weights for visualization"
      ],
      "metadata": {
        "id": "SijqZ9EnhyBN"
      }
    },
    {
      "cell_type": "code",
      "source": [
        "# get embedding layer\n",
        "embedding_layer = loaded_model.layers[0]\n",
        "\n",
        "# get weights of embedding layer\n",
        "embedding_weights = embedding_layer.get_weights()[0]\n",
        "\n",
        "# print shape of embedding layer\n",
        "print(embedding_weights.shape)\n",
        "print(embedding_weights)"
      ],
      "metadata": {
        "colab": {
          "base_uri": "https://localhost:8080/"
        },
        "id": "NF4dWhaRgg_i",
        "outputId": "ce2a0959-1066-4000-fa29-71a843a84c64"
      },
      "execution_count": 38,
      "outputs": [
        {
          "output_type": "stream",
          "name": "stdout",
          "text": [
            "(50000, 250)\n",
            "[[ 0.03853265  0.01942185 -0.02474937 ...  1.1579858  -0.07753779\n",
            "  -0.18056215]\n",
            " [ 0.03398724  0.05672573 -0.10087847 ... -0.02539834 -0.01216442\n",
            "  -0.04096499]\n",
            " [ 0.03369459  0.01598563 -0.47398221 ... -0.10472018 -0.07684373\n",
            "  -0.06080074]\n",
            " ...\n",
            " [ 0.04423078  0.01821558  0.03807574 ...  0.02972095  0.02016854\n",
            "  -0.00134145]\n",
            " [-0.00797966  0.04170838 -0.02950444 ... -0.04077731  0.03563902\n",
            "   0.04510329]\n",
            " [-0.00458356  0.03608023 -0.01156332 ... -0.01583562  0.00960868\n",
            "   0.00491071]]\n"
          ]
        }
      ]
    },
    {
      "cell_type": "markdown",
      "source": [
        "Visit [Tensorflow Embedding Projector](https://projector.tensorflow.org/) for visualize the embedding word"
      ],
      "metadata": {
        "id": "tmONHen5m9hJ"
      }
    },
    {
      "cell_type": "code",
      "source": [
        "import io\n",
        "\n",
        "out_v = io.open('vecs.tsv', 'w', encoding='utf-8')\n",
        "out_m = io.open('meta.tsv', 'w', encoding='utf-8')\n",
        "\n",
        "for i in range(1, vocab_size):\n",
        "  # get word names from tokenizer dictionary of index word\n",
        "  # {1: 'word',...}\n",
        "  word_name = tokenizer.index_word[i]\n",
        "\n",
        "  # get word embeddings, shape of (10000, 24)\n",
        "  word_embeddings = embedding_weights[i]\n",
        "\n",
        "  # write word name in each line of the file\n",
        "  out_m.write(word_name + '\\n')\n",
        "\n",
        "  # write word embeddings of 24 dims in each training data\n",
        "  out_v.write('\\t'.join([str(x) for x in word_embeddings]) + '\\n')\n",
        "\n",
        "# close the file\n",
        "out_v.close()\n",
        "out_m.close()"
      ],
      "metadata": {
        "id": "cGwzRcS6iCJH"
      },
      "execution_count": null,
      "outputs": []
    },
    {
      "cell_type": "markdown",
      "source": [
        "Download vecs.tsv and meta.tsv files for uploading to tensorflow embedding projector to visualize"
      ],
      "metadata": {
        "id": "L7smvlGZnrpN"
      }
    },
    {
      "cell_type": "code",
      "source": [
        "try:\n",
        "  files.download('vecs.tsv')\n",
        "  files.download('meta.tsv')\n",
        "except e:\n",
        "  print(e)"
      ],
      "metadata": {
        "colab": {
          "base_uri": "https://localhost:8080/",
          "height": 17
        },
        "id": "fzM7_rvenJ06",
        "outputId": "59174fe2-985e-4300-9643-74e0a747b473"
      },
      "execution_count": null,
      "outputs": [
        {
          "output_type": "display_data",
          "data": {
            "text/plain": [
              "<IPython.core.display.Javascript object>"
            ],
            "application/javascript": [
              "\n",
              "    async function download(id, filename, size) {\n",
              "      if (!google.colab.kernel.accessAllowed) {\n",
              "        return;\n",
              "      }\n",
              "      const div = document.createElement('div');\n",
              "      const label = document.createElement('label');\n",
              "      label.textContent = `Downloading \"${filename}\": `;\n",
              "      div.appendChild(label);\n",
              "      const progress = document.createElement('progress');\n",
              "      progress.max = size;\n",
              "      div.appendChild(progress);\n",
              "      document.body.appendChild(div);\n",
              "\n",
              "      const buffers = [];\n",
              "      let downloaded = 0;\n",
              "\n",
              "      const channel = await google.colab.kernel.comms.open(id);\n",
              "      // Send a message to notify the kernel that we're ready.\n",
              "      channel.send({})\n",
              "\n",
              "      for await (const message of channel.messages) {\n",
              "        // Send a message to notify the kernel that we're ready.\n",
              "        channel.send({})\n",
              "        if (message.buffers) {\n",
              "          for (const buffer of message.buffers) {\n",
              "            buffers.push(buffer);\n",
              "            downloaded += buffer.byteLength;\n",
              "            progress.value = downloaded;\n",
              "          }\n",
              "        }\n",
              "      }\n",
              "      const blob = new Blob(buffers, {type: 'application/binary'});\n",
              "      const a = document.createElement('a');\n",
              "      a.href = window.URL.createObjectURL(blob);\n",
              "      a.download = filename;\n",
              "      div.appendChild(a);\n",
              "      a.click();\n",
              "      div.remove();\n",
              "    }\n",
              "  "
            ]
          },
          "metadata": {}
        },
        {
          "output_type": "display_data",
          "data": {
            "text/plain": [
              "<IPython.core.display.Javascript object>"
            ],
            "application/javascript": [
              "download(\"download_c6f7a08c-1742-4611-a1d6-22d40362c860\", \"vecs.tsv\", 2371035)"
            ]
          },
          "metadata": {}
        },
        {
          "output_type": "display_data",
          "data": {
            "text/plain": [
              "<IPython.core.display.Javascript object>"
            ],
            "application/javascript": [
              "\n",
              "    async function download(id, filename, size) {\n",
              "      if (!google.colab.kernel.accessAllowed) {\n",
              "        return;\n",
              "      }\n",
              "      const div = document.createElement('div');\n",
              "      const label = document.createElement('label');\n",
              "      label.textContent = `Downloading \"${filename}\": `;\n",
              "      div.appendChild(label);\n",
              "      const progress = document.createElement('progress');\n",
              "      progress.max = size;\n",
              "      div.appendChild(progress);\n",
              "      document.body.appendChild(div);\n",
              "\n",
              "      const buffers = [];\n",
              "      let downloaded = 0;\n",
              "\n",
              "      const channel = await google.colab.kernel.comms.open(id);\n",
              "      // Send a message to notify the kernel that we're ready.\n",
              "      channel.send({})\n",
              "\n",
              "      for await (const message of channel.messages) {\n",
              "        // Send a message to notify the kernel that we're ready.\n",
              "        channel.send({})\n",
              "        if (message.buffers) {\n",
              "          for (const buffer of message.buffers) {\n",
              "            buffers.push(buffer);\n",
              "            downloaded += buffer.byteLength;\n",
              "            progress.value = downloaded;\n",
              "          }\n",
              "        }\n",
              "      }\n",
              "      const blob = new Blob(buffers, {type: 'application/binary'});\n",
              "      const a = document.createElement('a');\n",
              "      a.href = window.URL.createObjectURL(blob);\n",
              "      a.download = filename;\n",
              "      div.appendChild(a);\n",
              "      a.click();\n",
              "      div.remove();\n",
              "    }\n",
              "  "
            ]
          },
          "metadata": {}
        },
        {
          "output_type": "display_data",
          "data": {
            "text/plain": [
              "<IPython.core.display.Javascript object>"
            ],
            "application/javascript": [
              "download(\"download_d5f2c9ce-a9b2-45b6-af4e-73486527a0c6\", \"meta.tsv\", 78729)"
            ]
          },
          "metadata": {}
        }
      ]
    },
    {
      "cell_type": "markdown",
      "source": [
        "## Prediction"
      ],
      "metadata": {
        "id": "PdjE2h1XwMLr"
      }
    },
    {
      "cell_type": "code",
      "source": [
        "# predict the test labels from dataset\n",
        "\n",
        "# show prediction softmax probability in each data\n",
        "predictions = loaded_model.predict(padded_test)\n",
        "print(predictions)"
      ],
      "metadata": {
        "colab": {
          "base_uri": "https://localhost:8080/"
        },
        "id": "tJk2DtL-q6tx",
        "outputId": "7d9e738e-622a-43b6-eba5-ab7fdbb58654"
      },
      "execution_count": 39,
      "outputs": [
        {
          "output_type": "stream",
          "name": "stdout",
          "text": [
            "\u001b[1m938/938\u001b[0m \u001b[32m━━━━━━━━━━━━━━━━━━━━\u001b[0m\u001b[37m\u001b[0m \u001b[1m4s\u001b[0m 4ms/step\n",
            "[[1.7358719e-06 1.5050019e-01 8.4949803e-01]\n",
            " [7.9531848e-09 5.0421502e-05 9.9994957e-01]\n",
            " [1.2694217e-07 5.7590879e-03 9.9424076e-01]\n",
            " ...\n",
            " [9.9999774e-01 2.3032660e-06 1.4448315e-10]\n",
            " [2.6134672e-03 5.9767377e-02 9.3761921e-01]\n",
            " [5.3859407e-07 2.8824043e-03 9.9711704e-01]]\n"
          ]
        }
      ]
    },
    {
      "cell_type": "markdown",
      "source": [
        "## Confussion Matrix"
      ],
      "metadata": {
        "id": "JR0Cnz8W-jPQ"
      }
    },
    {
      "cell_type": "code",
      "source": [
        "labels_encoder"
      ],
      "metadata": {
        "id": "TKY58JNJEVxk",
        "outputId": "4aa50cd0-426b-442c-de8e-3868c79f79f6",
        "colab": {
          "base_uri": "https://localhost:8080/"
        }
      },
      "execution_count": null,
      "outputs": [
        {
          "output_type": "execute_result",
          "data": {
            "text/plain": [
              "{0: 'positive', 1: 'neutral', 2: 'negative'}"
            ]
          },
          "metadata": {},
          "execution_count": 47
        }
      ]
    },
    {
      "cell_type": "code",
      "source": [
        "np.unique(test_labels)"
      ],
      "metadata": {
        "id": "VooPPXrvFVcj",
        "outputId": "b266af21-58c7-42dc-b710-eb92173a63f5",
        "colab": {
          "base_uri": "https://localhost:8080/"
        }
      },
      "execution_count": null,
      "outputs": [
        {
          "output_type": "execute_result",
          "data": {
            "text/plain": [
              "array([0, 1, 2])"
            ]
          },
          "metadata": {},
          "execution_count": 48
        }
      ]
    },
    {
      "cell_type": "code",
      "source": [
        "# Return the highest softmax prob index\n",
        "pred_labels = np.argmax(predictions, axis=1)\n",
        "print(f'pred labels: {pred_labels[:10]}')\n",
        "# flatten the test labels\n",
        "test_labels = test_labels.flatten()\n",
        "print(f'test labels: {test_labels[:10]}')\n",
        "\n",
        "\n",
        "\n",
        "con_mat = tf.math.confusion_matrix(labels=test_labels,\n",
        "                                   predictions=pred_labels).numpy()\n",
        "\n",
        "print(f'confusion matrix values: \\n{con_mat}')"
      ],
      "metadata": {
        "id": "TNaa5PbI-mIt",
        "outputId": "80fff8c5-0ccb-4f38-e701-f53ccea6e00e",
        "colab": {
          "base_uri": "https://localhost:8080/"
        }
      },
      "execution_count": 51,
      "outputs": [
        {
          "output_type": "stream",
          "name": "stdout",
          "text": [
            "pred labels: [2 2 2 0 2 1 0 1 1 0]\n",
            "test labels: [2 2 1 0 2 1 0 1 1 0]\n",
            "confusion matrix values: \n",
            "[[8927 1004   69]\n",
            " [1033 7863 1104]\n",
            " [  59 1126 8815]]\n"
          ]
        }
      ]
    },
    {
      "cell_type": "code",
      "source": [
        "con_mat_disp = ConfusionMatrixDisplay(con_mat, display_labels=['Positive','Neutral', 'Negative'])\n",
        "con_mat_disp.plot(cmap=plt.cm.Blues)\n",
        "plt.title('Confusion Matrix')\n",
        "plt.show()"
      ],
      "metadata": {
        "id": "gVdXkFasCstm",
        "outputId": "55434195-272d-4f01-feae-e73f1f9cf7cc",
        "colab": {
          "base_uri": "https://localhost:8080/",
          "height": 472
        }
      },
      "execution_count": 42,
      "outputs": [
        {
          "output_type": "display_data",
          "data": {
            "text/plain": [
              "<Figure size 640x480 with 2 Axes>"
            ],
            "image/png": "[encoded data removed]"
          },
          "metadata": {}
        }
      ]
    },
    {
      "cell_type": "markdown",
      "source": [
        "## Label Binarize"
      ],
      "metadata": {
        "id": "9YXIPVd2ki22"
      }
    },
    {
      "cell_type": "code",
      "source": [
        "# Assuming test_labels and predictions are given\n",
        "# test_labels: Actual labels (e.g., [0, 1, 2, 0, 2])\n",
        "# predictions: Predicted probabilities for each class (e.g., shape [n_samples, n_classes])\n",
        "\n",
        "# Binarize the labels for a one-vs-rest approach\n",
        "n_classes = predictions.shape[1]\n",
        "\n",
        "#converts the original test_labels into a one-hot encoded format.\n",
        "test_labels_bin = label_binarize(test_labels, classes=np.arange(n_classes))"
      ],
      "metadata": {
        "id": "U94Ssgerkk1v"
      },
      "execution_count": 43,
      "outputs": []
    },
    {
      "cell_type": "markdown",
      "source": [
        "## ROC Curve (One vs the Rest)"
      ],
      "metadata": {
        "id": "gTeOYgppcgbE"
      }
    },
    {
      "cell_type": "code",
      "source": [
        "from sklearn.metrics import RocCurveDisplay\n",
        "\n",
        "fig, axes = plt.subplots(figsize=(15, 4), nrows=1, ncols=3)\n",
        "\n",
        "for i in range(n_classes):\n",
        "  # display roc curve from prediction\n",
        "  display = RocCurveDisplay.from_predictions(\n",
        "      test_labels_bin[:, i],\n",
        "      predictions[:, i],\n",
        "      name=f'Class {labels_encoder[i]} vs the rest',\n",
        "      color=\"darkorange\",\n",
        "      plot_chance_level=True,\n",
        "      ax = axes[i]\n",
        "  )\n",
        "\n",
        "  display.ax_.set(\n",
        "      title=f'ROC Curve for {labels_encoder[i]}',\n",
        "      xlabel='False Positive Rate',\n",
        "      ylabel='True Positive Rate',\n",
        "  )\n",
        "\n",
        "plt.show()\n"
      ],
      "metadata": {
        "id": "sPwkrRvRwM0j",
        "colab": {
          "base_uri": "https://localhost:8080/",
          "height": 293
        },
        "outputId": "a666c705-ff48-4494-cf49-8e521dc6fab4"
      },
      "execution_count": 44,
      "outputs": [
        {
          "output_type": "display_data",
          "data": {
            "text/plain": [
              "<Figure size 1500x400 with 3 Axes>"
            ],
            "image/png": "[encoded data removed]"
          },
          "metadata": {}
        }
      ]
    },
    {
      "cell_type": "markdown",
      "source": [
        "## Precision, Recall, F1 score"
      ],
      "metadata": {
        "id": "GaRqDS1fcctD"
      }
    },
    {
      "cell_type": "code",
      "source": [
        "precision_score = precision_score(test_labels, pred_labels, average='micro')\n",
        "recall_score = recall_score(test_labels, pred_labels, average='micro')\n",
        "f1_score = f1_score(test_labels, pred_labels, average='micro')"
      ],
      "metadata": {
        "id": "il6aczG_N7Yt"
      },
      "execution_count": 45,
      "outputs": []
    },
    {
      "cell_type": "code",
      "source": [
        "# Store precision, recall, thresholds for each class\n",
        "precision_dict = {}\n",
        "recall_dict = {}\n",
        "thresholds_dict = {}\n",
        "\n",
        "# set the figures for plotting\n",
        "fig, ax = plt.subplots(nrows=1, ncols=3, figsize=(15, 4))\n",
        "\n",
        "for i in range(n_classes):\n",
        "    # Calculate precision, recall, and thresholds for each class\n",
        "    precision, recall, thresholds = precision_recall_curve(test_labels_bin[:, i], predictions[:, i])\n",
        "\n",
        "    # store values of precision, recall, and thresholds in dictionaries\n",
        "    precision_dict[i] = precision\n",
        "    recall_dict[i] = recall\n",
        "    thresholds_dict[i] = thresholds\n",
        "\n",
        "    # display the corresponden values\n",
        "    display = PrecisionRecallDisplay(\n",
        "        recall=recall_dict[i],\n",
        "        precision=precision_dict[i]\n",
        "    )\n",
        "\n",
        "    display.plot(ax=ax[i], name=f'Class {labels_encoder[i]}')\n",
        "    ax[i].set_title(f'Precision-Recall Curve for {labels_encoder[i]}')\n",
        "    ax[i].set_xlabel('Recall')\n",
        "    ax[i].set_ylabel('Precision')\n",
        "\n",
        "    # print\n",
        "    print(f'Precision for class {labels_encoder[i]}: {precision_dict[0]}')\n",
        "    print(f'Recall for class {labels_encoder[i]}: {recall_dict[0]}')\n",
        "    print(f'Thresholds for class {labels_encoder[i]}: {thresholds_dict[0]}\\n')\n",
        "\n",
        "\n",
        "# print macro-average of precision, recall, f1 score\n",
        "print(f'Precision Score: {precision_score}')\n",
        "print(f'Recall Score: {recall_score}')\n",
        "print(f'F1 Score: {f1_score}')"
      ],
      "metadata": {
        "colab": {
          "base_uri": "https://localhost:8080/",
          "height": 626
        },
        "id": "jKGCIRhMdTBr",
        "outputId": "4c06b4c6-e439-4261-f622-cc29ea6e8e98"
      },
      "execution_count": 46,
      "outputs": [
        {
          "output_type": "stream",
          "name": "stdout",
          "text": [
            "Precision for class positive: [0.33333333 0.33334444 0.33335556 ... 1.         1.         1.        ]\n",
            "Recall for class positive: [1.e+00 1.e+00 1.e+00 ... 5.e-04 2.e-04 0.e+00]\n",
            "Thresholds for class positive: [8.5620443e-13 9.4919396e-13 1.3535146e-12 ... 9.9999928e-01 9.9999940e-01\n",
            " 9.9999952e-01]\n",
            "\n",
            "Precision for class neutral: [0.33333333 0.33334444 0.33335556 ... 1.         1.         1.        ]\n",
            "Recall for class neutral: [1.e+00 1.e+00 1.e+00 ... 5.e-04 2.e-04 0.e+00]\n",
            "Thresholds for class neutral: [8.5620443e-13 9.4919396e-13 1.3535146e-12 ... 9.9999928e-01 9.9999940e-01\n",
            " 9.9999952e-01]\n",
            "\n",
            "Precision for class negative: [0.33333333 0.33334444 0.33335556 ... 1.         1.         1.        ]\n",
            "Recall for class negative: [1.e+00 1.e+00 1.e+00 ... 5.e-04 2.e-04 0.e+00]\n",
            "Thresholds for class negative: [8.5620443e-13 9.4919396e-13 1.3535146e-12 ... 9.9999928e-01 9.9999940e-01\n",
            " 9.9999952e-01]\n",
            "\n",
            "Precision Score: 0.8535\n",
            "Recall Score: 0.8535\n",
            "F1 Score: 0.8535\n"
          ]
        },
        {
          "output_type": "display_data",
          "data": {
            "text/plain": [
              "<Figure size 1500x400 with 3 Axes>"
            ],
            "image/png": "[encoded data removed]"
          },
          "metadata": {}
        }
      ]
    },
    {
      "cell_type": "markdown",
      "source": [
        "## Input user"
      ],
      "metadata": {
        "id": "1dG2d3vT0e1_"
      }
    },
    {
      "cell_type": "code",
      "source": [
        "user_input = input('Enter a sentence: ')\n",
        "\n",
        "# tokenize the sentence\n",
        "user_sequence = tokenizer.texts_to_sequences([user_input])\n",
        "\n",
        "# pad the sequence\n",
        "user_padded = pad_sequences(user_sequence, maxlen=max_length, truncating='post', padding='post')\n",
        "\n",
        "# predict the sentiment\n",
        "prediction = loaded_model.predict(user_padded)\n",
        "\n",
        "# -- - Summary prediciton ---\n",
        "print('---- Prediction summary -----')\n",
        "print(labels_encoder)\n",
        "print('Softmax probability:', prediction[0])\n",
        "\n",
        "# return the highest probability of 3 categories\n",
        "predicted_index = np.argmax(prediction, axis=1)\n",
        "\n",
        "# get the predicted label based on highest probability\n",
        "predicted_label = labels_encoder[predicted_index[0]]\n",
        "print(f'Predicted sentiment: {predicted_label}')"
      ],
      "metadata": {
        "colab": {
          "base_uri": "https://localhost:8080/"
        },
        "id": "xhNMa0DjuVv5",
        "outputId": "908253dd-9205-4dd9-be84-e9937f8054c7"
      },
      "execution_count": 50,
      "outputs": [
        {
          "output_type": "stream",
          "name": "stdout",
          "text": [
            "Enter a sentence: baby, i love you\n",
            "\u001b[1m1/1\u001b[0m \u001b[32m━━━━━━━━━━━━━━━━━━━━\u001b[0m\u001b[37m\u001b[0m \u001b[1m0s\u001b[0m 19ms/step\n",
            "---- Prediction summary -----\n",
            "{0: 'positive', 1: 'neutral', 2: 'negative'}\n",
            "Softmax probability: [0.98055995 0.01825619 0.00118392]\n",
            "Predicted sentiment: positive\n"
          ]
        }
      ]
    },
    {
      "cell_type": "markdown",
      "source": [
        "\n",
        "# Deployment"
      ],
      "metadata": {
        "id": "OhkI7wz92n_v"
      }
    },
    {
      "cell_type": "markdown",
      "source": [
        "## Using Pickle"
      ],
      "metadata": {
        "id": "qv6vZ1GX5dFK"
      }
    },
    {
      "cell_type": "code",
      "source": [
        "with open('model.pkl', 'wb') as file:\n",
        "  pickle.dump(loaded_model, file)"
      ],
      "metadata": {
        "id": "ilJXPFG6vPDc"
      },
      "execution_count": null,
      "outputs": []
    },
    {
      "cell_type": "code",
      "source": [
        "files.download('model.pkl')"
      ],
      "metadata": {
        "id": "TnwOYqmf5Y-c",
        "outputId": "ed8a4cae-1518-423e-ef02-fd4b7e9a5401",
        "colab": {
          "base_uri": "https://localhost:8080/",
          "height": 17
        }
      },
      "execution_count": null,
      "outputs": [
        {
          "output_type": "display_data",
          "data": {
            "text/plain": [
              "<IPython.core.display.Javascript object>"
            ],
            "application/javascript": [
              "\n",
              "    async function download(id, filename, size) {\n",
              "      if (!google.colab.kernel.accessAllowed) {\n",
              "        return;\n",
              "      }\n",
              "      const div = document.createElement('div');\n",
              "      const label = document.createElement('label');\n",
              "      label.textContent = `Downloading \"${filename}\": `;\n",
              "      div.appendChild(label);\n",
              "      const progress = document.createElement('progress');\n",
              "      progress.max = size;\n",
              "      div.appendChild(progress);\n",
              "      document.body.appendChild(div);\n",
              "\n",
              "      const buffers = [];\n",
              "      let downloaded = 0;\n",
              "\n",
              "      const channel = await google.colab.kernel.comms.open(id);\n",
              "      // Send a message to notify the kernel that we're ready.\n",
              "      channel.send({})\n",
              "\n",
              "      for await (const message of channel.messages) {\n",
              "        // Send a message to notify the kernel that we're ready.\n",
              "        channel.send({})\n",
              "        if (message.buffers) {\n",
              "          for (const buffer of message.buffers) {\n",
              "            buffers.push(buffer);\n",
              "            downloaded += buffer.byteLength;\n",
              "            progress.value = downloaded;\n",
              "          }\n",
              "        }\n",
              "      }\n",
              "      const blob = new Blob(buffers, {type: 'application/binary'});\n",
              "      const a = document.createElement('a');\n",
              "      a.href = window.URL.createObjectURL(blob);\n",
              "      a.download = filename;\n",
              "      div.appendChild(a);\n",
              "      a.click();\n",
              "      div.remove();\n",
              "    }\n",
              "  "
            ]
          },
          "metadata": {}
        },
        {
          "output_type": "display_data",
          "data": {
            "text/plain": [
              "<IPython.core.display.Javascript object>"
            ],
            "application/javascript": [
              "download(\"download_7f782391-58ef-4d2d-b869-17700a3b6843\", \"model.pkl\", 3015788)"
            ]
          },
          "metadata": {}
        }
      ]
    }
  ]
}