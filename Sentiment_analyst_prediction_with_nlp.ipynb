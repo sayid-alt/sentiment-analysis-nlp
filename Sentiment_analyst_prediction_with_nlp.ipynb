{
  "nbformat": 4,
  "nbformat_minor": 0,
  "metadata": {
    "colab": {
      "provenance": [],
      "toc_visible": true,
      "authorship_tag": "ABX9TyO/VWBXs8YVNYvn74cQDiUs",
      "include_colab_link": true
    },
    "kernelspec": {
      "name": "python3",
      "display_name": "Python 3"
    },
    "language_info": {
      "name": "python"
    }
  },
  "cells": [
    {
      "cell_type": "markdown",
      "metadata": {
        "id": "view-in-github",
        "colab_type": "text"
      },
      "source": [
        "<a href=\"https://colab.research.google.com/github/sayid-alt/sentiment-analysis-nlp/blob/main/Sentiment_analyst_prediction_with_nlp.ipynb\" target=\"_parent\"><img src=\"https://colab.research.google.com/assets/colab-badge.svg\" alt=\"Open In Colab\"/></a>"
      ]
    },
    {
      "cell_type": "markdown",
      "source": [
        "dataset: [kaggle](https://www.kaggle.com/datasets/damirolejar/sentiment-analysis-nlp-trainset-data?select=final_negative.txt)\n",
        "\n",
        "See copied project on [github](https://github.com/sayid-alt/sentiment-analysis-nlp)"
      ],
      "metadata": {
        "id": "F9H5Yfrq0vYW"
      }
    },
    {
      "cell_type": "markdown",
      "source": [
        "# Import library"
      ],
      "metadata": {
        "id": "Pbj4dcEwJy6G"
      }
    },
    {
      "cell_type": "code",
      "execution_count": 1,
      "metadata": {
        "id": "4tt4urRzC3AO"
      },
      "outputs": [],
      "source": [
        "import tensorflow as tf\n",
        "import pandas as pd\n",
        "import matplotlib.pyplot as plt\n",
        "import numpy as np\n",
        "import seaborn as sns\n",
        "import pickle\n",
        "\n",
        "from sklearn.model_selection import train_test_split\n",
        "\n",
        "from tensorflow.keras.preprocessing.text import Tokenizer\n",
        "from tensorflow.keras.preprocessing.sequence import pad_sequences\n",
        "from tensorflow.keras.layers import Dense, GlobalAveragePooling1D, Embedding, Flatten, Dropout\n",
        "from tensorflow.keras.callbacks import CSVLogger, ModelCheckpoint, EarlyStopping\n",
        "from sklearn.metrics import ConfusionMatrixDisplay, f1_score, precision_score, recall_score, precision_recall_curve,precision_recall_curve, PrecisionRecallDisplay\n",
        "from sklearn.preprocessing import label_binarize\n",
        "\n",
        "from google.colab import files\n",
        "\n",
        "import os\n",
        "import zipfile\n",
        "import urllib.request"
      ]
    },
    {
      "cell_type": "markdown",
      "source": [
        "# Utilities"
      ],
      "metadata": {
        "id": "cS4pCtE5KavM"
      }
    },
    {
      "cell_type": "code",
      "source": [
        "DOWNLOAD_URL = 'https://github.com/sayid-alt/sentiment-analysis-nlp/raw/main/data/text.zip'\n",
        "DOWNLOAD_DIR = os.path.join(os.getcwd(), 'datasets')\n",
        "\n",
        "def download_data(url=DOWNLOAD_URL, dir=DOWNLOAD_DIR):\n",
        "    # Downloading data\n",
        "    print('Downloading data...')\n",
        "    if not os.path.exists(dir):\n",
        "        os.makedirs(dir)\n",
        "\n",
        "    zip_path = os.path.join(dir, 'text.zip')\n",
        "    urllib.request.urlretrieve(url, zip_path)\n",
        "    print(f'Success downloading data to {zip_path}')\n",
        "\n",
        "    # Extract zip file\n",
        "    with zipfile.ZipFile(zip_path, 'r') as zip_ref:\n",
        "        zip_ref.extractall(dir)\n",
        "        print(f'Success extracting data to {dir}')\n",
        "\n",
        "\n",
        "# prep data from text file to variable in list type\n",
        "def prep_data_txt(filepath):\n",
        "  '''\n",
        "    filepath: path for text file\n",
        "    return: list of text\n",
        "  '''\n",
        "  datalist = []\n",
        "  with open(filepath, 'r') as file:\n",
        "    lines = file.readlines()\n",
        "    for line in lines:\n",
        "      datalist.append(line.strip())\n",
        "  return datalist\n",
        "\n",
        "\n",
        "# retrieve data\n",
        "def retrieve_sentiment_data():\n",
        "  '''\n",
        "    return: neg_text, pos_text, ne_text as the dataset for sentiment analysis\n",
        "  '''\n",
        "  neg_text = prep_data_txt(os.path.join(data_dir, 'final_negative.txt')) #negative data\n",
        "  pos_text = prep_data_txt(os.path.join(data_dir, 'final_positive.txt'))# positif data\n",
        "  ne_text = prep_data_txt(os.path.join(data_dir, 'final_neutral.txt'))\n",
        "\n",
        "  print(f'Negative data length: {len(neg_text)}')\n",
        "  print(f'Positive data length: {len(pos_text)}')\n",
        "  print(f'neutral data length: {len(ne_text)}')\n",
        "\n",
        "  print(f'Negative data sample: {neg_text[:5]}')\n",
        "  print(f'Positive data sample: {pos_text[:5]}')\n",
        "  print(f'neutral data sample: {ne_text[:5]}')\n",
        "\n",
        "  return neg_text, pos_text, ne_text\n",
        "\n",
        "\n",
        "def stratified_split(df):\n",
        "  # split data using stratified with size train/val/test 80/10/10 respectively\n",
        "  df_train, df_test = train_test_split(df,\n",
        "                                       test_size=0.2,\n",
        "                                       random_state=42,\n",
        "                                       stratify=df['label'])\n",
        "\n",
        "\n",
        "  # split throug test size for get validation split\n",
        "  df_val, df_test = train_test_split(df_test,\n",
        "                                     test_size=0.5,\n",
        "                                     random_state=42,\n",
        "                                     stratify=df_test['label'])\n",
        "\n",
        "  value_count = df['label'].value_counts()\n",
        "  train_count = df_train['label'].value_counts()\n",
        "  val_count = df_val['label'].value_counts()\n",
        "  test_count = df_test['label'].value_counts()\n",
        "\n",
        "  print(f'Value count:\\n{value_count}')\n",
        "  print(f'-----------\\nTrain count:\\n{train_count}')\n",
        "  print(f'Val count:\\n{val_count}')\n",
        "  print(f'Test count:\\n{test_count}')\n",
        "\n",
        "  return df_train, df_val, df_test\n",
        "\n",
        "def check_distribution(labels,\n",
        "                       title=None,\n",
        "                       xlabel='Labels',\n",
        "                       ylabel='Frequency'\n",
        "                       ):\n",
        "  plt.figure(figsize=(5, 4))\n",
        "  sns.histplot(labels, bins=3, color='skyblue')\n",
        "  plt.title(title)\n",
        "  plt.xlabel(xlabel)\n",
        "  plt.ylabel(ylabel)\n",
        "  plt.show()\n",
        "\n",
        "def check_split_distribution(labels):\n",
        "  fig, ax = plt.subplots(nrows=1, ncols=3, figsize=(15, 4))\n",
        "\n",
        "  for i, label in enumerate(labels):\n",
        "    label.hist(ax=ax[i], bins=3, color='skyblue')\n",
        "    ax[i].set_xlabel('Labels')\n",
        "    ax[i].set_ylabel('Frequency')\n",
        "  plt.show()\n",
        "\n"
      ],
      "metadata": {
        "id": "QdPLsIjDKcl9"
      },
      "execution_count": 2,
      "outputs": []
    },
    {
      "cell_type": "markdown",
      "source": [
        "# Download data"
      ],
      "metadata": {
        "id": "GCT3K_wdJ1Dd"
      }
    },
    {
      "cell_type": "code",
      "source": [
        "download_data()"
      ],
      "metadata": {
        "colab": {
          "base_uri": "https://localhost:8080/"
        },
        "id": "mSF44qujDris",
        "outputId": "301cd102-96d0-4629-dcbf-6cf8fde98e45"
      },
      "execution_count": 3,
      "outputs": [
        {
          "output_type": "stream",
          "name": "stdout",
          "text": [
            "Downloading data...\n",
            "Success downloading data to /content/datasets/text.zip\n",
            "Success extracting data to /content/datasets\n"
          ]
        }
      ]
    },
    {
      "cell_type": "markdown",
      "source": [
        "# Generate Data"
      ],
      "metadata": {
        "id": "QhM7ojuSJ3ri"
      }
    },
    {
      "cell_type": "code",
      "source": [
        "data_dir = os.path.join(DOWNLOAD_DIR, 'text')\n",
        "print(os.listdir(data_dir))"
      ],
      "metadata": {
        "colab": {
          "base_uri": "https://localhost:8080/"
        },
        "id": "mOgi7a6cHS8w",
        "outputId": "a74e57b9-b728-4af4-ffbd-81ea2106e580"
      },
      "execution_count": 4,
      "outputs": [
        {
          "output_type": "stream",
          "name": "stdout",
          "text": [
            "['final_positive.txt', 'final_neutral.txt', 'final_negative.txt']\n"
          ]
        }
      ]
    },
    {
      "cell_type": "code",
      "source": [
        "neg_text, pos_text, ne_text = retrieve_sentiment_data()"
      ],
      "metadata": {
        "colab": {
          "base_uri": "https://localhost:8080/"
        },
        "id": "peXe1KZ2LWaX",
        "outputId": "78bf72ff-f745-4beb-c058-e6f387846a93"
      },
      "execution_count": 5,
      "outputs": [
        {
          "output_type": "stream",
          "name": "stdout",
          "text": [
            "Negative data length: 99999\n",
            "Positive data length: 100000\n",
            "neutral data length: 99999\n",
            "Negative data sample: ['Mothers will not give their sons as sacrifices upon the battlefield after twenty years of anxiety and loving devotion in rearing them from infancy, no matter what cause they are called upon to defend.', 'That which was meant to be conducive to life has become the cause of death; that which should have been an evidence of knowledge is now a proof of ignorance; that which was a factor in the sublimity of human nature has proved to be its degradation.', 'The Jews were expecting the appearance of the Messiah, looking forward to it with devotion of heart and soul, but because they were submerged in imitations, they did not believe in Jesus Christ when He appeared.', 'We have forsaken the path of God; we have given up attention to the divine Kingdom; we have not severed the heart from worldly attractions; we have become defiled with qualities which are not praiseworthy in the sight of God; we are so completely steeped in material issues and tendencies that we are not partakers of the virtues of humanity.', 'Sixth, the Messiah was to gather together all the Jews who were scattered in Palestine and restore them to honor and prestige, but this one has degraded the Jews instead of uplifting them.']\n",
            "Positive data sample: ['The unity which is productive of unlimited results is first a unity of mankind which recognizes that all are sheltered beneath the overshadowing glory of the All-Glorious, that all are servants of one God; for all breathe the same atmosphere, live upon the same earth, move beneath the same heavens, receive effulgence from the same sun and are under the protection of one God.', 'Nevertheless, it is certain that the radiance and favors of God are encompassing, minds have developed, perceptions have become acute, sciences and arts are widespread, and capacity exists for the proclamation and promulgation of the real and ultimate unity of mankind, which will bring forth marvelous results.', \"It is the unity which through the influence of the divine spirit is permeating the Baha'is so that each offers his life for the other and strives with all sincerity to attain his good pleasure.\", 'Every soul who believed in Jesus Christ became revivified and resuscitated through this spirit, attained to the zenith of eternal glory, realized the everlasting life, experienced the second birth and rose to the acme of good fortune.', 'Verily, they have gathered in this temple to turn to Thy face of glory, holding to the hem of Thy garment and to Thy singleness, seeking Thy good pleasure and ascent into Thy Kingdom.']\n",
            "neutral data sample: ['When subjected to banishment by two kings, while a refugee from enemies of all nations and during the days of His long imprisonment He wrote to the kings and rulers of the world in words of wonderful eloquence, arraigning them severely and summoning them to the divine standard of unity and justice.', 'He exhorted them to peace and international agreement, making it incumbent upon them to establish a board of international arbitration--that from all nations and governments of the world there should be delegates selected for a congress of nations which should constitute a universal arbitral court of justice to settle international disputes.', 'While in prison He stood against the _Sh_ah of Persia and Sultan of Turkey and promulgated His teachings until He firmly established the banner of truth and the oneness of humankind.', \"I was a prisoner with Him for forty years until the Young Turks of the Committee of Union and Progress overthrew the despotism of Abdu'l-Hamid, dethroned him and proclaimed liberty.\", \"Every soul who lives according to the teachings of Baha'u'llah is free from the ailments and indispositions which prevail throughout the world of humanity; otherwise, selfish disorders, intellectual maladies, spiritual sicknesses, imperfections and vices will surround him, and he will not receive the life-giving bounties of God.\"]\n"
          ]
        }
      ]
    },
    {
      "cell_type": "markdown",
      "source": [
        "# Data Preprocessing"
      ],
      "metadata": {
        "id": "Chf4HkiTN2XR"
      }
    },
    {
      "cell_type": "markdown",
      "source": [
        "## Distribution"
      ],
      "metadata": {
        "id": "-Ps8Z3AzOFzt"
      }
    },
    {
      "cell_type": "markdown",
      "source": [
        "Below we merge all data into 3 sentiment categories:\n",
        "- 0: Negative sentiment\n",
        "- 1: Positif sentiment\n",
        "- 2: neutral sentimen"
      ],
      "metadata": {
        "id": "D8nuYAL_cClc"
      }
    },
    {
      "cell_type": "code",
      "source": [
        "df = pd.DataFrame({\n",
        "    'sentiment' : neg_text + pos_text + ne_text,\n",
        "    'label' : ['negative'] * len(neg_text) + ['positive'] * len(pos_text) + ['neutral'] * len(ne_text)\n",
        "})\n",
        "df.head()"
      ],
      "metadata": {
        "colab": {
          "base_uri": "https://localhost:8080/",
          "height": 206
        },
        "id": "OAgMJ2SDLl5K",
        "outputId": "912a17be-fc62-43a4-b928-7210f567ba88"
      },
      "execution_count": 6,
      "outputs": [
        {
          "output_type": "execute_result",
          "data": {
            "text/plain": [
              "                                           sentiment     label\n",
              "0  Mothers will not give their sons as sacrifices...  negative\n",
              "1  That which was meant to be conducive to life h...  negative\n",
              "2  The Jews were expecting the appearance of the ...  negative\n",
              "3  We have forsaken the path of God; we have give...  negative\n",
              "4  Sixth, the Messiah was to gather together all ...  negative"
            ],
            "text/html": [
              "\n",
              "  <div id=\"df-24c1e8ac-91e0-45ec-a269-cfffdced9718\" class=\"colab-df-container\">\n",
              "    <div>\n",
              "<style scoped>\n",
              "    .dataframe tbody tr th:only-of-type {\n",
              "        vertical-align: middle;\n",
              "    }\n",
              "\n",
              "    .dataframe tbody tr th {\n",
              "        vertical-align: top;\n",
              "    }\n",
              "\n",
              "    .dataframe thead th {\n",
              "        text-align: right;\n",
              "    }\n",
              "</style>\n",
              "<table border=\"1\" class=\"dataframe\">\n",
              "  <thead>\n",
              "    <tr style=\"text-align: right;\">\n",
              "      <th></th>\n",
              "      <th>sentiment</th>\n",
              "      <th>label</th>\n",
              "    </tr>\n",
              "  </thead>\n",
              "  <tbody>\n",
              "    <tr>\n",
              "      <th>0</th>\n",
              "      <td>Mothers will not give their sons as sacrifices...</td>\n",
              "      <td>negative</td>\n",
              "    </tr>\n",
              "    <tr>\n",
              "      <th>1</th>\n",
              "      <td>That which was meant to be conducive to life h...</td>\n",
              "      <td>negative</td>\n",
              "    </tr>\n",
              "    <tr>\n",
              "      <th>2</th>\n",
              "      <td>The Jews were expecting the appearance of the ...</td>\n",
              "      <td>negative</td>\n",
              "    </tr>\n",
              "    <tr>\n",
              "      <th>3</th>\n",
              "      <td>We have forsaken the path of God; we have give...</td>\n",
              "      <td>negative</td>\n",
              "    </tr>\n",
              "    <tr>\n",
              "      <th>4</th>\n",
              "      <td>Sixth, the Messiah was to gather together all ...</td>\n",
              "      <td>negative</td>\n",
              "    </tr>\n",
              "  </tbody>\n",
              "</table>\n",
              "</div>\n",
              "    <div class=\"colab-df-buttons\">\n",
              "\n",
              "  <div class=\"colab-df-container\">\n",
              "    <button class=\"colab-df-convert\" onclick=\"convertToInteractive('df-24c1e8ac-91e0-45ec-a269-cfffdced9718')\"\n",
              "            title=\"Convert this dataframe to an interactive table.\"\n",
              "            style=\"display:none;\">\n",
              "\n",
              "  <svg xmlns=\"http://www.w3.org/2000/svg\" height=\"24px\" viewBox=\"0 -960 960 960\">\n",
              "    <path d=\"M120-120v-720h720v720H120Zm60-500h600v-160H180v160Zm220 220h160v-160H400v160Zm0 220h160v-160H400v160ZM180-400h160v-160H180v160Zm440 0h160v-160H620v160ZM180-180h160v-160H180v160Zm440 0h160v-160H620v160Z\"/>\n",
              "  </svg>\n",
              "    </button>\n",
              "\n",
              "  <style>\n",
              "    .colab-df-container {\n",
              "      display:flex;\n",
              "      gap: 12px;\n",
              "    }\n",
              "\n",
              "    .colab-df-convert {\n",
              "      background-color: #E8F0FE;\n",
              "      border: none;\n",
              "      border-radius: 50%;\n",
              "      cursor: pointer;\n",
              "      display: none;\n",
              "      fill: #1967D2;\n",
              "      height: 32px;\n",
              "      padding: 0 0 0 0;\n",
              "      width: 32px;\n",
              "    }\n",
              "\n",
              "    .colab-df-convert:hover {\n",
              "      background-color: #E2EBFA;\n",
              "      box-shadow: 0px 1px 2px rgba(60, 64, 67, 0.3), 0px 1px 3px 1px rgba(60, 64, 67, 0.15);\n",
              "      fill: #174EA6;\n",
              "    }\n",
              "\n",
              "    .colab-df-buttons div {\n",
              "      margin-bottom: 4px;\n",
              "    }\n",
              "\n",
              "    [theme=dark] .colab-df-convert {\n",
              "      background-color: #3B4455;\n",
              "      fill: #D2E3FC;\n",
              "    }\n",
              "\n",
              "    [theme=dark] .colab-df-convert:hover {\n",
              "      background-color: #434B5C;\n",
              "      box-shadow: 0px 1px 3px 1px rgba(0, 0, 0, 0.15);\n",
              "      filter: drop-shadow(0px 1px 2px rgba(0, 0, 0, 0.3));\n",
              "      fill: #FFFFFF;\n",
              "    }\n",
              "  </style>\n",
              "\n",
              "    <script>\n",
              "      const buttonEl =\n",
              "        document.querySelector('#df-24c1e8ac-91e0-45ec-a269-cfffdced9718 button.colab-df-convert');\n",
              "      buttonEl.style.display =\n",
              "        google.colab.kernel.accessAllowed ? 'block' : 'none';\n",
              "\n",
              "      async function convertToInteractive(key) {\n",
              "        const element = document.querySelector('#df-24c1e8ac-91e0-45ec-a269-cfffdced9718');\n",
              "        const dataTable =\n",
              "          await google.colab.kernel.invokeFunction('convertToInteractive',\n",
              "                                                    [key], {});\n",
              "        if (!dataTable) return;\n",
              "\n",
              "        const docLinkHtml = 'Like what you see? Visit the ' +\n",
              "          '<a target=\"_blank\" href=https://colab.research.google.com/notebooks/data_table.ipynb>data table notebook</a>'\n",
              "          + ' to learn more about interactive tables.';\n",
              "        element.innerHTML = '';\n",
              "        dataTable['output_type'] = 'display_data';\n",
              "        await google.colab.output.renderOutput(dataTable, element);\n",
              "        const docLink = document.createElement('div');\n",
              "        docLink.innerHTML = docLinkHtml;\n",
              "        element.appendChild(docLink);\n",
              "      }\n",
              "    </script>\n",
              "  </div>\n",
              "\n",
              "\n",
              "<div id=\"df-6610b57f-fa96-45ac-baaa-556d3b7f21d5\">\n",
              "  <button class=\"colab-df-quickchart\" onclick=\"quickchart('df-6610b57f-fa96-45ac-baaa-556d3b7f21d5')\"\n",
              "            title=\"Suggest charts\"\n",
              "            style=\"display:none;\">\n",
              "\n",
              "<svg xmlns=\"http://www.w3.org/2000/svg\" height=\"24px\"viewBox=\"0 0 24 24\"\n",
              "     width=\"24px\">\n",
              "    <g>\n",
              "        <path d=\"M19 3H5c-1.1 0-2 .9-2 2v14c0 1.1.9 2 2 2h14c1.1 0 2-.9 2-2V5c0-1.1-.9-2-2-2zM9 17H7v-7h2v7zm4 0h-2V7h2v10zm4 0h-2v-4h2v4z\"/>\n",
              "    </g>\n",
              "</svg>\n",
              "  </button>\n",
              "\n",
              "<style>\n",
              "  .colab-df-quickchart {\n",
              "      --bg-color: #E8F0FE;\n",
              "      --fill-color: #1967D2;\n",
              "      --hover-bg-color: #E2EBFA;\n",
              "      --hover-fill-color: #174EA6;\n",
              "      --disabled-fill-color: #AAA;\n",
              "      --disabled-bg-color: #DDD;\n",
              "  }\n",
              "\n",
              "  [theme=dark] .colab-df-quickchart {\n",
              "      --bg-color: #3B4455;\n",
              "      --fill-color: #D2E3FC;\n",
              "      --hover-bg-color: #434B5C;\n",
              "      --hover-fill-color: #FFFFFF;\n",
              "      --disabled-bg-color: #3B4455;\n",
              "      --disabled-fill-color: #666;\n",
              "  }\n",
              "\n",
              "  .colab-df-quickchart {\n",
              "    background-color: var(--bg-color);\n",
              "    border: none;\n",
              "    border-radius: 50%;\n",
              "    cursor: pointer;\n",
              "    display: none;\n",
              "    fill: var(--fill-color);\n",
              "    height: 32px;\n",
              "    padding: 0;\n",
              "    width: 32px;\n",
              "  }\n",
              "\n",
              "  .colab-df-quickchart:hover {\n",
              "    background-color: var(--hover-bg-color);\n",
              "    box-shadow: 0 1px 2px rgba(60, 64, 67, 0.3), 0 1px 3px 1px rgba(60, 64, 67, 0.15);\n",
              "    fill: var(--button-hover-fill-color);\n",
              "  }\n",
              "\n",
              "  .colab-df-quickchart-complete:disabled,\n",
              "  .colab-df-quickchart-complete:disabled:hover {\n",
              "    background-color: var(--disabled-bg-color);\n",
              "    fill: var(--disabled-fill-color);\n",
              "    box-shadow: none;\n",
              "  }\n",
              "\n",
              "  .colab-df-spinner {\n",
              "    border: 2px solid var(--fill-color);\n",
              "    border-color: transparent;\n",
              "    border-bottom-color: var(--fill-color);\n",
              "    animation:\n",
              "      spin 1s steps(1) infinite;\n",
              "  }\n",
              "\n",
              "  @keyframes spin {\n",
              "    0% {\n",
              "      border-color: transparent;\n",
              "      border-bottom-color: var(--fill-color);\n",
              "      border-left-color: var(--fill-color);\n",
              "    }\n",
              "    20% {\n",
              "      border-color: transparent;\n",
              "      border-left-color: var(--fill-color);\n",
              "      border-top-color: var(--fill-color);\n",
              "    }\n",
              "    30% {\n",
              "      border-color: transparent;\n",
              "      border-left-color: var(--fill-color);\n",
              "      border-top-color: var(--fill-color);\n",
              "      border-right-color: var(--fill-color);\n",
              "    }\n",
              "    40% {\n",
              "      border-color: transparent;\n",
              "      border-right-color: var(--fill-color);\n",
              "      border-top-color: var(--fill-color);\n",
              "    }\n",
              "    60% {\n",
              "      border-color: transparent;\n",
              "      border-right-color: var(--fill-color);\n",
              "    }\n",
              "    80% {\n",
              "      border-color: transparent;\n",
              "      border-right-color: var(--fill-color);\n",
              "      border-bottom-color: var(--fill-color);\n",
              "    }\n",
              "    90% {\n",
              "      border-color: transparent;\n",
              "      border-bottom-color: var(--fill-color);\n",
              "    }\n",
              "  }\n",
              "</style>\n",
              "\n",
              "  <script>\n",
              "    async function quickchart(key) {\n",
              "      const quickchartButtonEl =\n",
              "        document.querySelector('#' + key + ' button');\n",
              "      quickchartButtonEl.disabled = true;  // To prevent multiple clicks.\n",
              "      quickchartButtonEl.classList.add('colab-df-spinner');\n",
              "      try {\n",
              "        const charts = await google.colab.kernel.invokeFunction(\n",
              "            'suggestCharts', [key], {});\n",
              "      } catch (error) {\n",
              "        console.error('Error during call to suggestCharts:', error);\n",
              "      }\n",
              "      quickchartButtonEl.classList.remove('colab-df-spinner');\n",
              "      quickchartButtonEl.classList.add('colab-df-quickchart-complete');\n",
              "    }\n",
              "    (() => {\n",
              "      let quickchartButtonEl =\n",
              "        document.querySelector('#df-6610b57f-fa96-45ac-baaa-556d3b7f21d5 button');\n",
              "      quickchartButtonEl.style.display =\n",
              "        google.colab.kernel.accessAllowed ? 'block' : 'none';\n",
              "    })();\n",
              "  </script>\n",
              "</div>\n",
              "\n",
              "    </div>\n",
              "  </div>\n"
            ],
            "application/vnd.google.colaboratory.intrinsic+json": {
              "type": "dataframe",
              "variable_name": "df"
            }
          },
          "metadata": {},
          "execution_count": 6
        }
      ]
    },
    {
      "cell_type": "code",
      "source": [
        "check_distribution(df['label'], 'Distribution of Sentiment Labels')"
      ],
      "metadata": {
        "colab": {
          "base_uri": "https://localhost:8080/",
          "height": 410
        },
        "id": "TorX5RKaMYOO",
        "outputId": "61dda9e3-74d3-485e-ca7d-0b3d31418dd4"
      },
      "execution_count": 7,
      "outputs": [
        {
          "output_type": "display_data",
          "data": {
            "text/plain": [
              "<Figure size 500x400 with 1 Axes>"
            ],
            "image/png": "[encoded data removed]"
          },
          "metadata": {}
        }
      ]
    },
    {
      "cell_type": "markdown",
      "source": [
        "## Split data"
      ],
      "metadata": {
        "id": "9YqduFT1a7oo"
      }
    },
    {
      "cell_type": "markdown",
      "source": [
        "Split data, using stratified shuffle split from sklearn []:\n",
        "- Train: 80\n",
        "- Val: 10\n",
        "- test: 10"
      ],
      "metadata": {
        "id": "eETHnMXdbTfp"
      }
    },
    {
      "cell_type": "code",
      "source": [
        "# split data using stratified with size train/val/test 80/10/10 respectively\n",
        "df_train, df_val, df_test = stratified_split(df)"
      ],
      "metadata": {
        "id": "wiEhwIBYPDpZ",
        "colab": {
          "base_uri": "https://localhost:8080/"
        },
        "outputId": "f7db2a3b-26ae-45db-b156-4464fc954b89"
      },
      "execution_count": 8,
      "outputs": [
        {
          "output_type": "stream",
          "name": "stdout",
          "text": [
            "Value count:\n",
            "label\n",
            "positive    100000\n",
            "negative     99999\n",
            "neutral      99999\n",
            "Name: count, dtype: int64\n",
            "-----------\n",
            "Train count:\n",
            "label\n",
            "positive    80000\n",
            "neutral     79999\n",
            "negative    79999\n",
            "Name: count, dtype: int64\n",
            "Val count:\n",
            "label\n",
            "positive    10000\n",
            "negative    10000\n",
            "neutral     10000\n",
            "Name: count, dtype: int64\n",
            "Test count:\n",
            "label\n",
            "negative    10000\n",
            "neutral     10000\n",
            "positive    10000\n",
            "Name: count, dtype: int64\n"
          ]
        }
      ]
    },
    {
      "cell_type": "code",
      "source": [
        "df_train.head(), df_val.head(), df_test.head()"
      ],
      "metadata": {
        "colab": {
          "base_uri": "https://localhost:8080/"
        },
        "id": "67_ssGT-Usk8",
        "outputId": "5409f023-03d0-420a-a71a-ee1357203f2d"
      },
      "execution_count": 9,
      "outputs": [
        {
          "output_type": "execute_result",
          "data": {
            "text/plain": [
              "(                                                sentiment     label\n",
              " 232194  Look at Michael Angelo; poet, painter, sculpto...   neutral\n",
              " 143208  The story of how Charlemagne dealt with these ...  positive\n",
              " 124048  It lies in a pleasant undulating district near...  positive\n",
              " 92224   But the painted foliage on these crags!-the Gr...  negative\n",
              " 167924  The labor devolving upon him as the commander ...  positive,\n",
              "                                                 sentiment     label\n",
              " 160313  In the first volume of the series, entitled Th...  positive\n",
              " 8888    How jolly it will be, for all but the bad ange...  negative\n",
              " 219510  154), that the grand conception of a Supreme U...   neutral\n",
              " 185958  Of course, we hope that you will support the P...  positive\n",
              " 157285  Lahoma seated herself eagerly and looking up i...  positive,\n",
              "                                                 sentiment     label\n",
              " 98454   Just as I had finished our hut, it occurred to...  negative\n",
              " 47819   No, sir; couldn't move--couldn't raise a hand;...  negative\n",
              " 216127  Three stout soldiers stricken from the rolls--...   neutral\n",
              " 174432  Dr. Carey is a very equable and cheerful old m...  positive\n",
              " 42949   The poor hostess had no time to think of herse...  negative)"
            ]
          },
          "metadata": {},
          "execution_count": 9
        }
      ]
    },
    {
      "cell_type": "markdown",
      "source": [
        "## Checking for split distribution"
      ],
      "metadata": {
        "id": "S4YQYr02UkSv"
      }
    },
    {
      "cell_type": "code",
      "source": [
        "\n",
        "dfs_label = [df_train['label'], df_val['label'], df_test['label']]\n",
        "\n",
        "check_split_distribution(dfs_label)"
      ],
      "metadata": {
        "colab": {
          "base_uri": "https://localhost:8080/",
          "height": 388
        },
        "id": "0vNgu3weUmm0",
        "outputId": "c04e5f5f-8bc2-47ff-b978-b49e413100bd"
      },
      "execution_count": 10,
      "outputs": [
        {
          "output_type": "display_data",
          "data": {
            "text/plain": [
              "<Figure size 1500x400 with 3 Axes>"
            ],
            "image/png": "[encoded data removed]"
          },
          "metadata": {}
        }
      ]
    },
    {
      "cell_type": "code",
      "source": [
        "# check the size of each split\n",
        "len_df = len(df)\n",
        "len_train = len(df_train)\n",
        "len_val = len(df_val)\n",
        "len_test = len(df_test)\n",
        "\n",
        "print(f'Train data size: {round(len_train/len_df,2)}')\n",
        "print(f'Val data size: {round(len_val/len_df,2)}')\n",
        "print(f'Test data size: {round(len_test/len_df,2)}')"
      ],
      "metadata": {
        "colab": {
          "base_uri": "https://localhost:8080/"
        },
        "id": "rtwwMq-bhjH5",
        "outputId": "7abd205d-8671-441b-e99e-3d7903df3687"
      },
      "execution_count": 11,
      "outputs": [
        {
          "output_type": "stream",
          "name": "stdout",
          "text": [
            "Train data size: 0.8\n",
            "Val data size: 0.1\n",
            "Test data size: 0.1\n"
          ]
        }
      ]
    },
    {
      "cell_type": "code",
      "source": [
        "split_name = ['train', 'val', 'test']\n",
        "split_df = [len_train, len_val, len_test]\n",
        "\n",
        "plt.figure(figsize=(5, 4))\n",
        "bars = plt.bar(x=split_name, height=split_df, color='skyblue')\n",
        "\n",
        "for bar in bars:\n",
        "    height = bar.get_height()\n",
        "    plt.text(bar.get_x() + bar.get_width() / 2.0, height - (height/2.0), '%0.2f%s' % ((height/len_df)*100, '%'), ha='center', va='bottom', color='teal')\n",
        "\n",
        "plt.title('Distribution of Sentiment Labels')\n",
        "plt.xlabel('Sentiment')\n",
        "plt.ylabel('Frequency')\n",
        "plt.show()"
      ],
      "metadata": {
        "colab": {
          "base_uri": "https://localhost:8080/",
          "height": 410
        },
        "id": "0PzubzmlhyXV",
        "outputId": "27815984-1e29-4d71-bd0b-daaa4d6d2671"
      },
      "execution_count": 12,
      "outputs": [
        {
          "output_type": "display_data",
          "data": {
            "text/plain": [
              "<Figure size 500x400 with 1 Axes>"
            ],
            "image/png": "[encoded data removed]"
          },
          "metadata": {}
        }
      ]
    },
    {
      "cell_type": "markdown",
      "source": [
        "## Preparation for training"
      ],
      "metadata": {
        "id": "-xKnf-antQJ2"
      }
    },
    {
      "cell_type": "code",
      "source": [
        "# split for training portion\n",
        "X_train, y_train = df_train['sentiment'], df_train['label']\n",
        "X_val, y_val = df_val['sentiment'], df_val['label']\n",
        "X_test, y_test = df_test['sentiment'], df_test['label']"
      ],
      "metadata": {
        "id": "E391ljMwlppP"
      },
      "execution_count": 13,
      "outputs": []
    },
    {
      "cell_type": "code",
      "source": [
        "# X_train.to_csv('X_train.csv', index=False)\n",
        "# y_train.to_csv('y_train.csv', index=False)\n",
        "# X_val.to_csv('X_val.csv', index=False)\n",
        "# y_val.to_csv('y_val.csv', index=False)\n",
        "# X_test.to_csv('X_test.csv', index=False)\n",
        "# y_test.to_csv('y_test.csv', index=False)\n"
      ],
      "metadata": {
        "id": "Vg7v05Q3IaoV"
      },
      "execution_count": 14,
      "outputs": []
    },
    {
      "cell_type": "code",
      "source": [
        "# try:\n",
        "#   from google.colab import files\n",
        "# except e:\n",
        "#   print(e)\n",
        "# else:\n",
        "#   files.download('X_train.csv')\n",
        "#   files.download('y_train.csv')\n",
        "#   files.download('X_val.csv')\n",
        "#   files.download('y_val.csv')\n",
        "#   files.download('X_test.csv')\n",
        "#   files.download('y_test.csv')"
      ],
      "metadata": {
        "id": "gmMUmQu7I3cq"
      },
      "execution_count": 15,
      "outputs": []
    },
    {
      "cell_type": "markdown",
      "source": [
        "### Hyperparameters"
      ],
      "metadata": {
        "id": "TSa7ok3FBK9p"
      }
    },
    {
      "cell_type": "code",
      "source": [
        "# Vocabulary size of the tokenizer\n",
        "vocab_size = 10000\n",
        "\n",
        "# Maximum length of the padded sequences\n",
        "max_length = 50\n",
        "\n",
        "# Output dimensions of the Embedding layer\n",
        "embedding_dim = 16"
      ],
      "metadata": {
        "id": "RKkCRxIZBNvD"
      },
      "execution_count": 16,
      "outputs": []
    },
    {
      "cell_type": "markdown",
      "source": [
        "### Tokenize data"
      ],
      "metadata": {
        "id": "A-Z4svKwus6r"
      }
    },
    {
      "cell_type": "code",
      "source": [
        "tokenizer = Tokenizer(num_words=vocab_size, oov_token='<OOV>')\n",
        "tokenizer.fit_on_texts(X_train)\n",
        "word_index = tokenizer.word_index"
      ],
      "metadata": {
        "id": "2jh-cwLLtwbF"
      },
      "execution_count": 17,
      "outputs": []
    },
    {
      "cell_type": "code",
      "source": [
        "print(len(word_index))"
      ],
      "metadata": {
        "colab": {
          "base_uri": "https://localhost:8080/"
        },
        "id": "tdBbE0e7uDe7",
        "outputId": "695efb16-0f20-4092-9d91-8e68aa04512d"
      },
      "execution_count": 18,
      "outputs": [
        {
          "output_type": "stream",
          "name": "stdout",
          "text": [
            "122232\n"
          ]
        }
      ]
    },
    {
      "cell_type": "code",
      "source": [
        "label_tokenizer = Tokenizer()\n",
        "label_tokenizer.fit_on_texts(y_train)\n",
        "label_index_word = label_tokenizer.index_word\n",
        "\n",
        "# start encoder label from 0\n",
        "labels_encoder = {key - 1: value for key, value in label_index_word.items()}\n",
        "\n",
        "# Tokenize the label\n",
        "training_labels = label_tokenizer.texts_to_sequences(y_train)\n",
        "val_labels = label_tokenizer.texts_to_sequences(y_val)\n",
        "test_labels = label_tokenizer.texts_to_sequences(y_test)"
      ],
      "metadata": {
        "id": "7kn0vbyO5HUa"
      },
      "execution_count": 19,
      "outputs": []
    },
    {
      "cell_type": "code",
      "source": [
        "print(labels_encoder)\n",
        "np.unique(y_test)"
      ],
      "metadata": {
        "colab": {
          "base_uri": "https://localhost:8080/"
        },
        "id": "B9oCohm1x_PC",
        "outputId": "f8a87130-c2f1-4078-a855-23f79e3daf4b"
      },
      "execution_count": 20,
      "outputs": [
        {
          "output_type": "stream",
          "name": "stdout",
          "text": [
            "{0: 'positive', 1: 'neutral', 2: 'negative'}\n"
          ]
        },
        {
          "output_type": "execute_result",
          "data": {
            "text/plain": [
              "array(['negative', 'neutral', 'positive'], dtype=object)"
            ]
          },
          "metadata": {},
          "execution_count": 20
        }
      ]
    },
    {
      "cell_type": "code",
      "source": [
        "# convert labels list to np array\n",
        "# Below arrays are subtracted by one, because all index should start from 0, instead the current label before subtract started with one\n",
        "training_labels = np.array(training_labels) - 1\n",
        "val_labels = np.array(val_labels) - 1\n",
        "test_labels = np.array(test_labels) - 1"
      ],
      "metadata": {
        "id": "mCEEgxOrU15V"
      },
      "execution_count": 21,
      "outputs": []
    },
    {
      "cell_type": "code",
      "source": [
        "print(f'label training shape\\t : {training_labels.shape}')\n",
        "print(f'label val shape\\t\\t : {val_labels.shape}')\n",
        "print(f'label test shape\\t : {test_labels.shape}')"
      ],
      "metadata": {
        "colab": {
          "base_uri": "https://localhost:8080/"
        },
        "id": "G73ezi8B5Rr1",
        "outputId": "c7b76756-278d-496d-99bd-d1219bc3df80"
      },
      "execution_count": 22,
      "outputs": [
        {
          "output_type": "stream",
          "name": "stdout",
          "text": [
            "label training shape\t : (239998, 1)\n",
            "label val shape\t\t : (30000, 1)\n",
            "label test shape\t : (30000, 1)\n"
          ]
        }
      ]
    },
    {
      "cell_type": "markdown",
      "source": [
        "### Sequence data"
      ],
      "metadata": {
        "id": "A1Lfqi8yvlA8"
      }
    },
    {
      "cell_type": "code",
      "source": [
        "sequences_train = tokenizer.texts_to_sequences(X_train)\n",
        "sequences_val = tokenizer.texts_to_sequences(X_val)\n",
        "sequences_test = tokenizer.texts_to_sequences(X_test)"
      ],
      "metadata": {
        "id": "W-iy9cAEuZoZ"
      },
      "execution_count": 23,
      "outputs": []
    },
    {
      "cell_type": "markdown",
      "source": [
        "### padded data"
      ],
      "metadata": {
        "id": "3RlV7MDTvn5T"
      }
    },
    {
      "cell_type": "code",
      "source": [
        "padded_train = pad_sequences(sequences_train, maxlen=max_length, truncating='post', padding='post')\n",
        "padded_val = pad_sequences(sequences_val, maxlen=max_length, truncating='post', padding='post')\n",
        "padded_test = pad_sequences(sequences_test,maxlen=max_length, truncating='post', padding='post')"
      ],
      "metadata": {
        "id": "edVm-qwZvWwo"
      },
      "execution_count": 24,
      "outputs": []
    },
    {
      "cell_type": "code",
      "source": [
        "print(padded_train[0], padded_train.shape)\n",
        "print(padded_val.shape)\n",
        "print(padded_test.shape)"
      ],
      "metadata": {
        "colab": {
          "base_uri": "https://localhost:8080/"
        },
        "id": "4MvV_ODt4dMd",
        "outputId": "4fe345ab-2a97-4fa2-eab9-0ebd3a8b0c1d"
      },
      "execution_count": 25,
      "outputs": [
        {
          "output_type": "stream",
          "name": "stdout",
          "text": [
            "[ 237   23 1462 2947 1955 4062 9433 7659    4  990    4   45  310   43\n",
            "   40   24  265    3 9155  184    1   28 7905  184  899   59   74 5503\n",
            "   61   14  118    1 1874  140  194   25 6497 1353    4    2 3330 4572\n",
            "   34 3857    5  559    7    2 8562    2] (239998, 50)\n",
            "(30000, 50)\n",
            "(30000, 50)\n"
          ]
        }
      ]
    },
    {
      "cell_type": "markdown",
      "source": [
        "# Build and compile Model"
      ],
      "metadata": {
        "id": "z706HbGXAn_s"
      }
    },
    {
      "cell_type": "code",
      "source": [
        "model = tf.keras.Sequential([\n",
        "    Embedding(input_dim=vocab_size, output_dim=embedding_dim),\n",
        "    GlobalAveragePooling1D(),\n",
        "    Dense(32, activation='relu'),\n",
        "    Dropout(0.5),\n",
        "    Dense(3, activation='softmax')\n",
        "])\n",
        "\n",
        "model.summary()"
      ],
      "metadata": {
        "colab": {
          "base_uri": "https://localhost:8080/",
          "height": 307
        },
        "id": "EMLSCxhXApvg",
        "outputId": "6178beb9-0854-4d1b-8929-f496cae5f888"
      },
      "execution_count": 26,
      "outputs": [
        {
          "output_type": "display_data",
          "data": {
            "text/plain": [
              "\u001b[1mModel: \"sequential\"\u001b[0m\n"
            ],
            "text/html": [
              "<pre style=\"white-space:pre;overflow-x:auto;line-height:normal;font-family:Menlo,'DejaVu Sans Mono',consolas,'Courier New',monospace\"><span style=\"font-weight: bold\">Model: \"sequential\"</span>\n",
              "</pre>\n"
            ]
          },
          "metadata": {}
        },
        {
          "output_type": "display_data",
          "data": {
            "text/plain": [
              "┏━━━━━━━━━━━━━━━━━━━━━━━━━━━━━━━━━━━━━━┳━━━━━━━━━━━━━━━━━━━━━━━━━━━━━┳━━━━━━━━━━━━━━━━━┓\n",
              "┃\u001b[1m \u001b[0m\u001b[1mLayer (type)                        \u001b[0m\u001b[1m \u001b[0m┃\u001b[1m \u001b[0m\u001b[1mOutput Shape               \u001b[0m\u001b[1m \u001b[0m┃\u001b[1m \u001b[0m\u001b[1m        Param #\u001b[0m\u001b[1m \u001b[0m┃\n",
              "┡━━━━━━━━━━━━━━━━━━━━━━━━━━━━━━━━━━━━━━╇━━━━━━━━━━━━━━━━━━━━━━━━━━━━━╇━━━━━━━━━━━━━━━━━┩\n",
              "│ embedding (\u001b[38;5;33mEmbedding\u001b[0m)                │ ?                           │     \u001b[38;5;34m0\u001b[0m (unbuilt) │\n",
              "├──────────────────────────────────────┼─────────────────────────────┼─────────────────┤\n",
              "│ global_average_pooling1d             │ ?                           │     \u001b[38;5;34m0\u001b[0m (unbuilt) │\n",
              "│ (\u001b[38;5;33mGlobalAveragePooling1D\u001b[0m)             │                             │                 │\n",
              "├──────────────────────────────────────┼─────────────────────────────┼─────────────────┤\n",
              "│ dense (\u001b[38;5;33mDense\u001b[0m)                        │ ?                           │     \u001b[38;5;34m0\u001b[0m (unbuilt) │\n",
              "├──────────────────────────────────────┼─────────────────────────────┼─────────────────┤\n",
              "│ dropout (\u001b[38;5;33mDropout\u001b[0m)                    │ ?                           │     \u001b[38;5;34m0\u001b[0m (unbuilt) │\n",
              "├──────────────────────────────────────┼─────────────────────────────┼─────────────────┤\n",
              "│ dense_1 (\u001b[38;5;33mDense\u001b[0m)                      │ ?                           │     \u001b[38;5;34m0\u001b[0m (unbuilt) │\n",
              "└──────────────────────────────────────┴─────────────────────────────┴─────────────────┘\n"
            ],
            "text/html": [
              "<pre style=\"white-space:pre;overflow-x:auto;line-height:normal;font-family:Menlo,'DejaVu Sans Mono',consolas,'Courier New',monospace\">┏━━━━━━━━━━━━━━━━━━━━━━━━━━━━━━━━━━━━━━┳━━━━━━━━━━━━━━━━━━━━━━━━━━━━━┳━━━━━━━━━━━━━━━━━┓\n",
              "┃<span style=\"font-weight: bold\"> Layer (type)                         </span>┃<span style=\"font-weight: bold\"> Output Shape                </span>┃<span style=\"font-weight: bold\">         Param # </span>┃\n",
              "┡━━━━━━━━━━━━━━━━━━━━━━━━━━━━━━━━━━━━━━╇━━━━━━━━━━━━━━━━━━━━━━━━━━━━━╇━━━━━━━━━━━━━━━━━┩\n",
              "│ embedding (<span style=\"color: #0087ff; text-decoration-color: #0087ff\">Embedding</span>)                │ ?                           │     <span style=\"color: #00af00; text-decoration-color: #00af00\">0</span> (unbuilt) │\n",
              "├──────────────────────────────────────┼─────────────────────────────┼─────────────────┤\n",
              "│ global_average_pooling1d             │ ?                           │     <span style=\"color: #00af00; text-decoration-color: #00af00\">0</span> (unbuilt) │\n",
              "│ (<span style=\"color: #0087ff; text-decoration-color: #0087ff\">GlobalAveragePooling1D</span>)             │                             │                 │\n",
              "├──────────────────────────────────────┼─────────────────────────────┼─────────────────┤\n",
              "│ dense (<span style=\"color: #0087ff; text-decoration-color: #0087ff\">Dense</span>)                        │ ?                           │     <span style=\"color: #00af00; text-decoration-color: #00af00\">0</span> (unbuilt) │\n",
              "├──────────────────────────────────────┼─────────────────────────────┼─────────────────┤\n",
              "│ dropout (<span style=\"color: #0087ff; text-decoration-color: #0087ff\">Dropout</span>)                    │ ?                           │     <span style=\"color: #00af00; text-decoration-color: #00af00\">0</span> (unbuilt) │\n",
              "├──────────────────────────────────────┼─────────────────────────────┼─────────────────┤\n",
              "│ dense_1 (<span style=\"color: #0087ff; text-decoration-color: #0087ff\">Dense</span>)                      │ ?                           │     <span style=\"color: #00af00; text-decoration-color: #00af00\">0</span> (unbuilt) │\n",
              "└──────────────────────────────────────┴─────────────────────────────┴─────────────────┘\n",
              "</pre>\n"
            ]
          },
          "metadata": {}
        },
        {
          "output_type": "display_data",
          "data": {
            "text/plain": [
              "\u001b[1m Total params: \u001b[0m\u001b[38;5;34m0\u001b[0m (0.00 B)\n"
            ],
            "text/html": [
              "<pre style=\"white-space:pre;overflow-x:auto;line-height:normal;font-family:Menlo,'DejaVu Sans Mono',consolas,'Courier New',monospace\"><span style=\"font-weight: bold\"> Total params: </span><span style=\"color: #00af00; text-decoration-color: #00af00\">0</span> (0.00 B)\n",
              "</pre>\n"
            ]
          },
          "metadata": {}
        },
        {
          "output_type": "display_data",
          "data": {
            "text/plain": [
              "\u001b[1m Trainable params: \u001b[0m\u001b[38;5;34m0\u001b[0m (0.00 B)\n"
            ],
            "text/html": [
              "<pre style=\"white-space:pre;overflow-x:auto;line-height:normal;font-family:Menlo,'DejaVu Sans Mono',consolas,'Courier New',monospace\"><span style=\"font-weight: bold\"> Trainable params: </span><span style=\"color: #00af00; text-decoration-color: #00af00\">0</span> (0.00 B)\n",
              "</pre>\n"
            ]
          },
          "metadata": {}
        },
        {
          "output_type": "display_data",
          "data": {
            "text/plain": [
              "\u001b[1m Non-trainable params: \u001b[0m\u001b[38;5;34m0\u001b[0m (0.00 B)\n"
            ],
            "text/html": [
              "<pre style=\"white-space:pre;overflow-x:auto;line-height:normal;font-family:Menlo,'DejaVu Sans Mono',consolas,'Courier New',monospace\"><span style=\"font-weight: bold\"> Non-trainable params: </span><span style=\"color: #00af00; text-decoration-color: #00af00\">0</span> (0.00 B)\n",
              "</pre>\n"
            ]
          },
          "metadata": {}
        }
      ]
    },
    {
      "cell_type": "code",
      "source": [
        "\n",
        "model.compile(loss='sparse_categorical_crossentropy',\n",
        "              optimizer='adam',\n",
        "              metrics=['accuracy'],\n",
        "              )"
      ],
      "metadata": {
        "id": "YHwZSY3BBzHn"
      },
      "execution_count": 27,
      "outputs": []
    },
    {
      "cell_type": "markdown",
      "source": [
        "# Set Callbacks"
      ],
      "metadata": {
        "id": "3BsIZaswB767"
      }
    },
    {
      "cell_type": "code",
      "source": [
        "# early stopping\n",
        "early_stopping = EarlyStopping(monitor='val_loss',\n",
        "                                                  mode='min',\n",
        "                                                  patience=5, restore_best_weights=True)\n",
        "\n",
        "\n",
        "\n",
        "# Model checkpoint, saving the best only val_acc\n",
        "\n",
        "checkpoint_filepath = '/tmp/ckpt/checkpoint-{epoch:02d}-{accuracy:.3f}-{val_accuracy:.3f}.keras'\n",
        "model_checkpoint_callback = ModelCheckpoint(\n",
        "    filepath=checkpoint_filepath,\n",
        "    monitor='val_accuracy',\n",
        "    mode='max',\n",
        "    save_best_only=False,\n",
        "    verbose=1)\n",
        "\n",
        "csv_logger = CSVLogger('training.log')"
      ],
      "metadata": {
        "id": "Fmu3T0llB7tU"
      },
      "execution_count": 28,
      "outputs": []
    },
    {
      "cell_type": "markdown",
      "source": [
        "# START TRAINING HERE, BE CAREFUL TO RUN CELL BELOW"
      ],
      "metadata": {
        "id": "OD1e2NlLVSXh"
      }
    },
    {
      "cell_type": "markdown",
      "source": [
        "# Model training"
      ],
      "metadata": {
        "id": "Ugre1BFAAR6x"
      }
    },
    {
      "cell_type": "code",
      "source": [
        "num_epochs=30\n",
        "history = model.fit(padded_train, training_labels, epochs=num_epochs,\n",
        "                    validation_data=(padded_val, val_labels), verbose=2,\n",
        "                    callbacks=[early_stopping, model_checkpoint_callback, csv_logger]\n",
        "                    )"
      ],
      "metadata": {
        "colab": {
          "base_uri": "https://localhost:8080/"
        },
        "id": "7-hoctXf42NA",
        "outputId": "37e3a20c-a006-4b54-ee5c-b519f4bbae0c"
      },
      "execution_count": null,
      "outputs": [
        {
          "output_type": "stream",
          "name": "stdout",
          "text": [
            "Epoch 1/30\n",
            "\n",
            "Epoch 1: saving model to /tmp/ckpt/checkpoint-01-0.731-0.788.keras\n",
            "7500/7500 - 18s - 2ms/step - accuracy: 0.7307 - loss: 0.6310 - val_accuracy: 0.7877 - val_loss: 0.5053\n",
            "Epoch 2/30\n",
            "\n",
            "Epoch 2: saving model to /tmp/ckpt/checkpoint-02-0.797-0.788.keras\n",
            "7500/7500 - 16s - 2ms/step - accuracy: 0.7966 - loss: 0.5090 - val_accuracy: 0.7878 - val_loss: 0.4945\n",
            "Epoch 3/30\n",
            "\n",
            "Epoch 3: saving model to /tmp/ckpt/checkpoint-03-0.804-0.789.keras\n",
            "7500/7500 - 21s - 3ms/step - accuracy: 0.8042 - loss: 0.4888 - val_accuracy: 0.7886 - val_loss: 0.4990\n",
            "Epoch 4/30\n",
            "\n",
            "Epoch 4: saving model to /tmp/ckpt/checkpoint-04-0.808-0.790.keras\n",
            "7500/7500 - 22s - 3ms/step - accuracy: 0.8075 - loss: 0.4774 - val_accuracy: 0.7901 - val_loss: 0.5005\n",
            "Epoch 5/30\n",
            "\n",
            "Epoch 5: saving model to /tmp/ckpt/checkpoint-05-0.810-0.790.keras\n",
            "7500/7500 - 19s - 3ms/step - accuracy: 0.8099 - loss: 0.4684 - val_accuracy: 0.7905 - val_loss: 0.5024\n",
            "Epoch 6/30\n",
            "\n",
            "Epoch 6: saving model to /tmp/ckpt/checkpoint-06-0.813-0.785.keras\n",
            "7500/7500 - 21s - 3ms/step - accuracy: 0.8127 - loss: 0.4610 - val_accuracy: 0.7848 - val_loss: 0.5058\n",
            "Epoch 7/30\n",
            "\n",
            "Epoch 7: saving model to /tmp/ckpt/checkpoint-07-0.816-0.787.keras\n",
            "7500/7500 - 20s - 3ms/step - accuracy: 0.8161 - loss: 0.4524 - val_accuracy: 0.7867 - val_loss: 0.5149\n"
          ]
        }
      ]
    },
    {
      "cell_type": "markdown",
      "source": [
        "# Visualize the results"
      ],
      "metadata": {
        "id": "wFyiC798NBf-"
      }
    },
    {
      "cell_type": "code",
      "source": [
        "# Plot utility\n",
        "def plot_graphs(history, strings=['accuracy', 'loss']):\n",
        "  fig, ax = plt.subplots(figsize=(15, 4), nrows=1, ncols=2)\n",
        "\n",
        "  for i, string in enumerate(strings):\n",
        "    ax[i].plot(history.history[string])\n",
        "    ax[i].plot(history.history['val_'+string])\n",
        "\n",
        "    ax[i].set_xlabel(\"Epochs\")\n",
        "    ax[i].set_ylabel(string)\n",
        "    ax[i].legend([string, 'val_'+string])\n",
        "    ax[i].set_title('History Model in Epochs')\n",
        "\n",
        "  plt.show()\n",
        "\n",
        "# Plot the accuracy and loss\n",
        "plot_graphs(history)"
      ],
      "metadata": {
        "colab": {
          "base_uri": "https://localhost:8080/",
          "height": 282
        },
        "id": "GPcavZX7DmDh",
        "outputId": "87710973-ac1b-4028-d8f5-78b7bfa1873d"
      },
      "execution_count": null,
      "outputs": [
        {
          "output_type": "display_data",
          "data": {
            "text/plain": [
              "<Figure size 1500x400 with 2 Axes>"
            ],
            "image/png": "[encoded data removed]"
          },
          "metadata": {}
        }
      ]
    },
    {
      "cell_type": "markdown",
      "source": [
        "# Saving best checkpoint model"
      ],
      "metadata": {
        "id": "XkKBS4_SpceF"
      }
    },
    {
      "cell_type": "code",
      "source": [
        "!zip -r ckpt.zip /tmp/ckpt\n",
        "models_to_download = 'ckpt.zip'\n",
        "try:\n",
        "  files.download('training.log')\n",
        "  files.download(models_to_download)\n",
        "\n",
        "except e:\n",
        "  print(e)"
      ],
      "metadata": {
        "colab": {
          "base_uri": "https://localhost:8080/",
          "height": 160
        },
        "id": "V-kjr9_5NEAL",
        "outputId": "98cd21b9-a0e8-4f2b-8923-d4c17d093571"
      },
      "execution_count": null,
      "outputs": [
        {
          "output_type": "stream",
          "name": "stdout",
          "text": [
            "  adding: tmp/ckpt/ (stored 0%)\n",
            "  adding: tmp/ckpt/checkpoint-07-0.816-0.787.keras (deflated 8%)\n",
            "  adding: tmp/ckpt/checkpoint-04-0.808-0.790.keras (deflated 8%)\n",
            "  adding: tmp/ckpt/checkpoint-02-0.797-0.788.keras (deflated 8%)\n",
            "  adding: tmp/ckpt/checkpoint-06-0.813-0.785.keras (deflated 8%)\n",
            "  adding: tmp/ckpt/checkpoint-05-0.810-0.790.keras (deflated 8%)\n",
            "  adding: tmp/ckpt/checkpoint-03-0.804-0.789.keras (deflated 8%)\n",
            "  adding: tmp/ckpt/checkpoint-01-0.731-0.788.keras (deflated 8%)\n"
          ]
        },
        {
          "output_type": "display_data",
          "data": {
            "text/plain": [
              "<IPython.core.display.Javascript object>"
            ],
            "application/javascript": [
              "\n",
              "    async function download(id, filename, size) {\n",
              "      if (!google.colab.kernel.accessAllowed) {\n",
              "        return;\n",
              "      }\n",
              "      const div = document.createElement('div');\n",
              "      const label = document.createElement('label');\n",
              "      label.textContent = `Downloading \"${filename}\": `;\n",
              "      div.appendChild(label);\n",
              "      const progress = document.createElement('progress');\n",
              "      progress.max = size;\n",
              "      div.appendChild(progress);\n",
              "      document.body.appendChild(div);\n",
              "\n",
              "      const buffers = [];\n",
              "      let downloaded = 0;\n",
              "\n",
              "      const channel = await google.colab.kernel.comms.open(id);\n",
              "      // Send a message to notify the kernel that we're ready.\n",
              "      channel.send({})\n",
              "\n",
              "      for await (const message of channel.messages) {\n",
              "        // Send a message to notify the kernel that we're ready.\n",
              "        channel.send({})\n",
              "        if (message.buffers) {\n",
              "          for (const buffer of message.buffers) {\n",
              "            buffers.push(buffer);\n",
              "            downloaded += buffer.byteLength;\n",
              "            progress.value = downloaded;\n",
              "          }\n",
              "        }\n",
              "      }\n",
              "      const blob = new Blob(buffers, {type: 'application/binary'});\n",
              "      const a = document.createElement('a');\n",
              "      a.href = window.URL.createObjectURL(blob);\n",
              "      a.download = filename;\n",
              "      div.appendChild(a);\n",
              "      a.click();\n",
              "      div.remove();\n",
              "    }\n",
              "  "
            ]
          },
          "metadata": {}
        },
        {
          "output_type": "display_data",
          "data": {
            "text/plain": [
              "<IPython.core.display.Javascript object>"
            ],
            "application/javascript": [
              "download(\"download_deb96634-c354-4928-9ec4-2d08ed7b2eeb\", \"training.log\", 600)"
            ]
          },
          "metadata": {}
        },
        {
          "output_type": "display_data",
          "data": {
            "text/plain": [
              "<IPython.core.display.Javascript object>"
            ],
            "application/javascript": [
              "\n",
              "    async function download(id, filename, size) {\n",
              "      if (!google.colab.kernel.accessAllowed) {\n",
              "        return;\n",
              "      }\n",
              "      const div = document.createElement('div');\n",
              "      const label = document.createElement('label');\n",
              "      label.textContent = `Downloading \"${filename}\": `;\n",
              "      div.appendChild(label);\n",
              "      const progress = document.createElement('progress');\n",
              "      progress.max = size;\n",
              "      div.appendChild(progress);\n",
              "      document.body.appendChild(div);\n",
              "\n",
              "      const buffers = [];\n",
              "      let downloaded = 0;\n",
              "\n",
              "      const channel = await google.colab.kernel.comms.open(id);\n",
              "      // Send a message to notify the kernel that we're ready.\n",
              "      channel.send({})\n",
              "\n",
              "      for await (const message of channel.messages) {\n",
              "        // Send a message to notify the kernel that we're ready.\n",
              "        channel.send({})\n",
              "        if (message.buffers) {\n",
              "          for (const buffer of message.buffers) {\n",
              "            buffers.push(buffer);\n",
              "            downloaded += buffer.byteLength;\n",
              "            progress.value = downloaded;\n",
              "          }\n",
              "        }\n",
              "      }\n",
              "      const blob = new Blob(buffers, {type: 'application/binary'});\n",
              "      const a = document.createElement('a');\n",
              "      a.href = window.URL.createObjectURL(blob);\n",
              "      a.download = filename;\n",
              "      div.appendChild(a);\n",
              "      a.click();\n",
              "      div.remove();\n",
              "    }\n",
              "  "
            ]
          },
          "metadata": {}
        },
        {
          "output_type": "display_data",
          "data": {
            "text/plain": [
              "<IPython.core.display.Javascript object>"
            ],
            "application/javascript": [
              "download(\"download_1ce0d7f3-cbd1-4e7a-8c9d-fc88b8a49760\", \"ckpt.zip\", 12618166)"
            ]
          },
          "metadata": {}
        }
      ]
    },
    {
      "cell_type": "markdown",
      "source": [
        "# END TRAINING HERE, BE CAREFUL TO RUN CELLS ABOVE"
      ],
      "metadata": {
        "id": "heXxh0TkVYuw"
      }
    },
    {
      "cell_type": "markdown",
      "source": [
        "# Evaluate the model"
      ],
      "metadata": {
        "id": "7a9U4DGopko-"
      }
    },
    {
      "cell_type": "code",
      "source": [
        "def download_model():\n",
        "  model_url = 'https://github.com/sayid-alt/sentiment-analysis-nlp/raw/main/model/tmp/ckpt/checkpoint-04-0.808-0.790.keras'\n",
        "  # Find the position of the last forward slash '/'\n",
        "  last_slash_index = model_url.rfind('/')\n",
        "\n",
        "  # Extract the substring from the last slash to the end of the string\n",
        "  model_name = model_url[last_slash_index + 1:]\n",
        "  urllib.request.urlretrieve(model_url, model_name)\n",
        "  print('Downloading model...')\n",
        "  print('Success downloading model')\n",
        "  return model_name\n",
        "\n",
        "model_name = download_model()"
      ],
      "metadata": {
        "colab": {
          "base_uri": "https://localhost:8080/"
        },
        "id": "QOJsVPJTpkOP",
        "outputId": "361a26d9-4eb8-4a1f-9e40-7cc0797cc4a7"
      },
      "execution_count": 29,
      "outputs": [
        {
          "output_type": "stream",
          "name": "stdout",
          "text": [
            "Downloading model...\n",
            "Success downloading model\n"
          ]
        }
      ]
    },
    {
      "cell_type": "code",
      "source": [
        "# loaded trained model\n",
        "loaded_model = tf.keras.models.load_model(model_name)"
      ],
      "metadata": {
        "id": "KMHXtfXLqqef"
      },
      "execution_count": 30,
      "outputs": []
    },
    {
      "cell_type": "code",
      "source": [
        "loss, accuracy = loaded_model.evaluate(padded_test, test_labels)\n",
        "print(f'Loss: {loss}')\n",
        "print(f'Accuracy: {accuracy}')"
      ],
      "metadata": {
        "colab": {
          "base_uri": "https://localhost:8080/"
        },
        "id": "VClQvC6oqxbj",
        "outputId": "5f9a2735-c167-433c-a523-ecc2f1e377f5"
      },
      "execution_count": 31,
      "outputs": [
        {
          "output_type": "stream",
          "name": "stdout",
          "text": [
            "\u001b[1m938/938\u001b[0m \u001b[32m━━━━━━━━━━━━━━━━━━━━\u001b[0m\u001b[37m\u001b[0m \u001b[1m3s\u001b[0m 2ms/step - accuracy: 0.7939 - loss: 0.4984\n",
            "Loss: 0.502041757106781\n",
            "Accuracy: 0.791866660118103\n"
          ]
        }
      ]
    },
    {
      "cell_type": "markdown",
      "source": [
        "## Prediction"
      ],
      "metadata": {
        "id": "PdjE2h1XwMLr"
      }
    },
    {
      "cell_type": "code",
      "source": [
        "# predict the test labels from dataset\n",
        "\n",
        "# show prediction softmax probability\n",
        "predictions = loaded_model.predict(padded_test)\n",
        "print(predictions)"
      ],
      "metadata": {
        "colab": {
          "base_uri": "https://localhost:8080/"
        },
        "id": "tJk2DtL-q6tx",
        "outputId": "b39d9f4b-b8cf-461c-c495-c7668711f1d4"
      },
      "execution_count": 32,
      "outputs": [
        {
          "output_type": "stream",
          "name": "stdout",
          "text": [
            "\u001b[1m938/938\u001b[0m \u001b[32m━━━━━━━━━━━━━━━━━━━━\u001b[0m\u001b[37m\u001b[0m \u001b[1m2s\u001b[0m 2ms/step\n",
            "[[8.3697989e-05 1.3730431e-01 8.6261195e-01]\n",
            " [1.4910331e-08 1.3742271e-03 9.9862576e-01]\n",
            " [2.4927085e-05 1.4239955e-01 8.5757548e-01]\n",
            " ...\n",
            " [9.9999988e-01 1.1023273e-07 6.2004332e-15]\n",
            " [5.9684046e-02 1.8703702e-01 7.5327891e-01]\n",
            " [5.1143728e-02 2.3812927e-01 7.1072704e-01]]\n"
          ]
        }
      ]
    },
    {
      "cell_type": "markdown",
      "source": [
        "## Confussion Matrix"
      ],
      "metadata": {
        "id": "JR0Cnz8W-jPQ"
      }
    },
    {
      "cell_type": "code",
      "source": [
        "labels_encoder"
      ],
      "metadata": {
        "id": "TKY58JNJEVxk",
        "outputId": "1da7aa4e-3f2f-4dcd-b6d0-009e0a3100a8",
        "colab": {
          "base_uri": "https://localhost:8080/"
        }
      },
      "execution_count": 33,
      "outputs": [
        {
          "output_type": "execute_result",
          "data": {
            "text/plain": [
              "{0: 'positive', 1: 'neutral', 2: 'negative'}"
            ]
          },
          "metadata": {},
          "execution_count": 33
        }
      ]
    },
    {
      "cell_type": "code",
      "source": [
        "np.unique(test_labels)"
      ],
      "metadata": {
        "id": "VooPPXrvFVcj",
        "outputId": "1bf00a21-3ff8-4989-835e-e4666a1a0495",
        "colab": {
          "base_uri": "https://localhost:8080/"
        }
      },
      "execution_count": 34,
      "outputs": [
        {
          "output_type": "execute_result",
          "data": {
            "text/plain": [
              "array([0, 1, 2])"
            ]
          },
          "metadata": {},
          "execution_count": 34
        }
      ]
    },
    {
      "cell_type": "code",
      "source": [
        "# Return the highest softmax prob index\n",
        "pred_labels = np.argmax(predictions, axis=1)\n",
        "print(f'pred labels: {pred_labels[:5]}')\n",
        "print(f'test labels: {test_labels[:5]}')\n",
        "\n",
        "con_mat = tf.math.confusion_matrix(labels=test_labels,\n",
        "                                   predictions=pred_labels).numpy()\n",
        "\n",
        "print(f'confusion matrix values: \\n{con_mat}')"
      ],
      "metadata": {
        "id": "TNaa5PbI-mIt",
        "outputId": "20ca7df6-2465-4565-bc08-fa78fe08964c",
        "colab": {
          "base_uri": "https://localhost:8080/"
        }
      },
      "execution_count": 35,
      "outputs": [
        {
          "output_type": "stream",
          "name": "stdout",
          "text": [
            "pred labels: [2 2 2 0 2]\n",
            "test labels: [[2]\n",
            " [2]\n",
            " [1]\n",
            " [0]\n",
            " [2]]\n",
            "confusion matrix values: \n",
            "[[8443 1143  414]\n",
            " [1293 6867 1840]\n",
            " [ 367 1187 8446]]\n"
          ]
        }
      ]
    },
    {
      "cell_type": "code",
      "source": [
        "con_mat_disp = ConfusionMatrixDisplay(con_mat, display_labels=['Positive','Neutral', 'Negative'])\n",
        "con_mat_disp.plot(cmap=plt.cm.Blues)\n",
        "plt.title('Confusion Matrix')\n",
        "plt.show()"
      ],
      "metadata": {
        "id": "gVdXkFasCstm",
        "outputId": "86f9b90e-2d95-4b82-add1-27db86721f1a",
        "colab": {
          "base_uri": "https://localhost:8080/",
          "height": 472
        }
      },
      "execution_count": 36,
      "outputs": [
        {
          "output_type": "display_data",
          "data": {
            "text/plain": [
              "<Figure size 640x480 with 2 Axes>"
            ],
            "image/png": "[encoded data removed]"
          },
          "metadata": {}
        }
      ]
    },
    {
      "cell_type": "markdown",
      "source": [
        "## Label Binarize"
      ],
      "metadata": {
        "id": "9YXIPVd2ki22"
      }
    },
    {
      "cell_type": "code",
      "source": [
        "# Assuming test_labels and predictions are given\n",
        "# test_labels: Actual labels (e.g., [0, 1, 2, 0, 2])\n",
        "# predictions: Predicted probabilities for each class (e.g., shape [n_samples, n_classes])\n",
        "\n",
        "# Binarize the labels for a one-vs-rest approach\n",
        "n_classes = predictions.shape[1]\n",
        "\n",
        "#converts the original test_labels into a one-hot encoded format.\n",
        "test_labels_bin = label_binarize(test_labels, classes=np.arange(n_classes))"
      ],
      "metadata": {
        "id": "U94Ssgerkk1v"
      },
      "execution_count": 37,
      "outputs": []
    },
    {
      "cell_type": "markdown",
      "source": [
        "## ROC Curve (One vs the Rest)"
      ],
      "metadata": {
        "id": "gTeOYgppcgbE"
      }
    },
    {
      "cell_type": "code",
      "source": [
        "from sklearn.metrics import RocCurveDisplay\n",
        "\n",
        "fig, axes = plt.subplots(figsize=(15, 4), nrows=1, ncols=3)\n",
        "\n",
        "for i in range(n_classes):\n",
        "  # display roc curve from prediction\n",
        "  display = RocCurveDisplay.from_predictions(\n",
        "      test_labels_bin[:, i],\n",
        "      predictions[:, i],\n",
        "      name=f'Class {labels_encoder[i]} vs the rest',\n",
        "      color=\"darkorange\",\n",
        "      plot_chance_level=True,\n",
        "      ax = axes[i]\n",
        "  )\n",
        "\n",
        "  display.ax_.set(\n",
        "      title=f'ROC Curve for {labels_encoder[i]}',\n",
        "      xlabel='False Positive Rate',\n",
        "      ylabel='True Positive Rate',\n",
        "  )\n",
        "\n",
        "plt.show()\n"
      ],
      "metadata": {
        "id": "sPwkrRvRwM0j",
        "colab": {
          "base_uri": "https://localhost:8080/",
          "height": 410
        },
        "outputId": "aa2cd2ae-8f5f-4eb9-81c5-1f03ae06ea04"
      },
      "execution_count": 38,
      "outputs": [
        {
          "output_type": "display_data",
          "data": {
            "text/plain": [
              "<Figure size 1500x400 with 3 Axes>"
            ],
            "image/png": "[encoded data removed]"
          },
          "metadata": {}
        }
      ]
    },
    {
      "cell_type": "markdown",
      "source": [
        "## Precision, Recall, F1 score"
      ],
      "metadata": {
        "id": "GaRqDS1fcctD"
      }
    },
    {
      "cell_type": "code",
      "source": [
        "precision_score = precision_score(test_labels, pred_labels, average='micro')\n",
        "recall_score = recall_score(test_labels, pred_labels, average='micro')\n",
        "f1_score = f1_score(test_labels, pred_labels, average='micro')"
      ],
      "metadata": {
        "id": "il6aczG_N7Yt"
      },
      "execution_count": 39,
      "outputs": []
    },
    {
      "cell_type": "code",
      "source": [
        "# Store precision, recall, thresholds for each class\n",
        "precision_dict = {}\n",
        "recall_dict = {}\n",
        "thresholds_dict = {}\n",
        "\n",
        "# set the figures for plotting\n",
        "fig, ax = plt.subplots(nrows=1, ncols=3, figsize=(15, 4))\n",
        "\n",
        "for i in range(n_classes):\n",
        "    # Calculate precision, recall, and thresholds for each class\n",
        "    precision, recall, thresholds = precision_recall_curve(test_labels_bin[:, i], predictions[:, i])\n",
        "\n",
        "    # store values of precision, recall, and thresholds in dictionaries\n",
        "    precision_dict[i] = precision\n",
        "    recall_dict[i] = recall\n",
        "    thresholds_dict[i] = thresholds\n",
        "\n",
        "    # display the corresponden values\n",
        "    display = PrecisionRecallDisplay(\n",
        "        recall=recall_dict[i],\n",
        "        precision=precision_dict[i]\n",
        "    )\n",
        "\n",
        "    display.plot(ax=ax[i], name=f'Class {labels_encoder[i]}')\n",
        "    ax[i].set_title(f'Precision-Recall Curve for {labels_encoder[i]}')\n",
        "    ax[i].set_xlabel('Recall')\n",
        "    ax[i].set_ylabel('Precision')\n",
        "\n",
        "    # print\n",
        "    print(f'Precision for class {labels_encoder[i]}: {precision_dict[0]}')\n",
        "    print(f'Recall for class {labels_encoder[i]}: {recall_dict[0]}')\n",
        "    print(f'Thresholds for class {labels_encoder[i]}: {thresholds_dict[0]}\\n')\n",
        "\n",
        "\n",
        "# print macro-average of precision, recall, f1 score\n",
        "print(f'Precision Score: {precision_score}')\n",
        "print(f'Recall Score: {recall_score}')\n",
        "print(f'F1 Score: {f1_score}')"
      ],
      "metadata": {
        "colab": {
          "base_uri": "https://localhost:8080/",
          "height": 723
        },
        "id": "jKGCIRhMdTBr",
        "outputId": "004c770a-ae5a-4e7c-9a6d-bb58b739cb17"
      },
      "execution_count": 40,
      "outputs": [
        {
          "output_type": "stream",
          "name": "stdout",
          "text": [
            "Precision for class positive: [0.33333333 0.33334444 0.33335556 ... 1.         1.         1.        ]\n",
            "Recall for class positive: [1.     1.     1.     ... 0.0254 0.0127 0.    ]\n",
            "Thresholds for class positive: [7.2503861e-18 1.3380460e-15 2.4553187e-13 ... 9.9999952e-01 9.9999976e-01\n",
            " 9.9999988e-01]\n",
            "\n",
            "Precision for class neutral: [0.33333333 0.33334444 0.33335556 ... 1.         1.         1.        ]\n",
            "Recall for class neutral: [1.     1.     1.     ... 0.0254 0.0127 0.    ]\n",
            "Thresholds for class neutral: [7.2503861e-18 1.3380460e-15 2.4553187e-13 ... 9.9999952e-01 9.9999976e-01\n",
            " 9.9999988e-01]\n",
            "\n",
            "Precision for class negative: [0.33333333 0.33334444 0.33335556 ... 1.         1.         1.        ]\n",
            "Recall for class negative: [1.     1.     1.     ... 0.0254 0.0127 0.    ]\n",
            "Thresholds for class negative: [7.2503861e-18 1.3380460e-15 2.4553187e-13 ... 9.9999952e-01 9.9999976e-01\n",
            " 9.9999988e-01]\n",
            "\n",
            "Precision Score: 0.7918666666666667\n",
            "Recall Score: 0.7918666666666667\n",
            "F1 Score: 0.7918666666666667\n"
          ]
        },
        {
          "output_type": "display_data",
          "data": {
            "text/plain": [
              "<Figure size 1500x400 with 3 Axes>"
            ],
            "image/png": "[encoded data removed]"
          },
          "metadata": {}
        }
      ]
    },
    {
      "cell_type": "markdown",
      "source": [
        "## Input user"
      ],
      "metadata": {
        "id": "1dG2d3vT0e1_"
      }
    },
    {
      "cell_type": "code",
      "source": [
        "user_input = input('Enter a sentence: ')\n",
        "\n",
        "# tokenize the sentence\n",
        "user_sequence = tokenizer.texts_to_sequences([user_input])\n",
        "\n",
        "# pad the sequence\n",
        "user_padded = pad_sequences(user_sequence, maxlen=max_length, truncating='post', padding='post')\n",
        "\n",
        "# predict the sentiment\n",
        "prediction = loaded_model.predict(user_padded)\n",
        "\n",
        "# -- - Summary prediciton ---\n",
        "print('---- Prediction summary -----')\n",
        "print(labels_encoder)\n",
        "print('Softmax probability:', prediction[0])\n",
        "\n",
        "# return the highest probability of 3 categories\n",
        "predicted_index = np.argmax(prediction, axis=1)\n",
        "\n",
        "# get the predicted label based on highest probability\n",
        "predicted_label = labels_encoder[predicted_index[0]]\n",
        "print(f'Predicted sentiment: {predicted_label}')"
      ],
      "metadata": {
        "colab": {
          "base_uri": "https://localhost:8080/"
        },
        "id": "xhNMa0DjuVv5",
        "outputId": "4aa3bdbb-5f93-4f17-efc6-151d4fb01a17"
      },
      "execution_count": 43,
      "outputs": [
        {
          "output_type": "stream",
          "name": "stdout",
          "text": [
            "Enter a sentence: Nothing can compare of this wonderful movie\n",
            "\u001b[1m1/1\u001b[0m \u001b[32m━━━━━━━━━━━━━━━━━━━━\u001b[0m\u001b[37m\u001b[0m \u001b[1m0s\u001b[0m 30ms/step\n",
            "---- Prediction summary -----\n",
            "{0: 'positive', 1: 'neutral', 2: 'negative'}\n",
            "Softmax probability: [0.84129965 0.10458574 0.05411457]\n",
            "Predicted sentiment: positive\n"
          ]
        }
      ]
    },
    {
      "cell_type": "markdown",
      "source": [
        "# Deployment"
      ],
      "metadata": {
        "id": "OhkI7wz92n_v"
      }
    },
    {
      "cell_type": "markdown",
      "source": [
        "## Using Pickle"
      ],
      "metadata": {
        "id": "qv6vZ1GX5dFK"
      }
    },
    {
      "cell_type": "code",
      "source": [
        "with open('model.pkl', 'wb') as file:\n",
        "  pickle.dump(loaded_model, file)"
      ],
      "metadata": {
        "id": "ilJXPFG6vPDc"
      },
      "execution_count": null,
      "outputs": []
    },
    {
      "cell_type": "code",
      "source": [
        "files.download('model.pkl')"
      ],
      "metadata": {
        "id": "TnwOYqmf5Y-c"
      },
      "execution_count": null,
      "outputs": []
    }
  ]
}