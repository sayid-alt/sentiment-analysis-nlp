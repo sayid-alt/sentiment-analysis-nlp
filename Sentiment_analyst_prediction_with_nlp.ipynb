{
  "nbformat": 4,
  "nbformat_minor": 0,
  "metadata": {
    "colab": {
      "provenance": [],
      "gpuType": "T4",
      "authorship_tag": "ABX9TyM3C5jF2hzQ8qSL6tacyAUa",
      "include_colab_link": true
    },
    "kernelspec": {
      "name": "python3",
      "display_name": "Python 3"
    },
    "language_info": {
      "name": "python"
    },
    "accelerator": "GPU"
  },
  "cells": [
    {
      "cell_type": "markdown",
      "metadata": {
        "id": "view-in-github",
        "colab_type": "text"
      },
      "source": [
        "<a href=\"https://colab.research.google.com/github/sayid-alt/sentiment-analysis-nlp/blob/main/Sentiment_analyst_prediction_with_nlp.ipynb\" target=\"_parent\"><img src=\"https://colab.research.google.com/assets/colab-badge.svg\" alt=\"Open In Colab\"/></a>"
      ]
    },
    {
      "cell_type": "markdown",
      "source": [
        "dataset: [kaggle](https://www.kaggle.com/datasets/damirolejar/sentiment-analysis-nlp-trainset-data?select=final_negative.txt)\n",
        "\n",
        "See copied project on [github](https://github.com/sayid-alt/sentiment-analysis-nlp)"
      ],
      "metadata": {
        "id": "F9H5Yfrq0vYW"
      }
    },
    {
      "cell_type": "markdown",
      "source": [
        "# Import library"
      ],
      "metadata": {
        "id": "Pbj4dcEwJy6G"
      }
    },
    {
      "cell_type": "code",
      "execution_count": 1,
      "metadata": {
        "id": "4tt4urRzC3AO"
      },
      "outputs": [],
      "source": [
        "import tensorflow as tf\n",
        "import pandas as pd\n",
        "import matplotlib.pyplot as plt\n",
        "import numpy as np\n",
        "import seaborn as sns\n",
        "import pickle\n",
        "\n",
        "from sklearn.model_selection import train_test_split, StratifiedShuffleSplit\n",
        "\n",
        "from tensorflow.keras.preprocessing.text import Tokenizer\n",
        "from tensorflow.keras.preprocessing.sequence import pad_sequences\n",
        "from tensorflow.keras.layers import Dense, GlobalAveragePooling1D, Embedding, Flatten\n",
        "from google.colab import files\n",
        "from sklearn.metrics import ConfusionMatrixDisplay\n",
        "\n",
        "import os\n",
        "import zipfile\n",
        "import urllib.request"
      ]
    },
    {
      "cell_type": "markdown",
      "source": [
        "# Utilities"
      ],
      "metadata": {
        "id": "cS4pCtE5KavM"
      }
    },
    {
      "cell_type": "code",
      "source": [
        "DOWNLOAD_URL = 'https://github.com/sayid-alt/sentiment-analysis-nlp/raw/main/data/text.zip'\n",
        "DOWNLOAD_DIR = os.path.join(os.getcwd(), 'datasets')\n",
        "\n",
        "def download_data(url=DOWNLOAD_URL, dir=DOWNLOAD_DIR):\n",
        "    # Downloading data\n",
        "    print('Downloading data...')\n",
        "    if not os.path.exists(dir):\n",
        "        os.makedirs(dir)\n",
        "\n",
        "    zip_path = os.path.join(dir, 'text.zip')\n",
        "    urllib.request.urlretrieve(url, zip_path)\n",
        "    print(f'Success downloading data to {zip_path}')\n",
        "\n",
        "    # Extract zip file\n",
        "    with zipfile.ZipFile(zip_path, 'r') as zip_ref:\n",
        "        zip_ref.extractall(dir)\n",
        "        print(f'Success extracting data to {dir}')\n",
        "\n",
        "\n",
        "# prep data from text file to variable in list type\n",
        "def prep_data_txt(filepath):\n",
        "  '''\n",
        "    filepath: path for text file\n",
        "    return: list of text\n",
        "  '''\n",
        "  datalist = []\n",
        "  with open(filepath, 'r') as file:\n",
        "    lines = file.readlines()\n",
        "    for line in lines:\n",
        "      datalist.append(line.strip())\n",
        "  return datalist\n",
        "\n",
        "\n",
        "# retrieve data\n",
        "def retrieve_sentiment_data():\n",
        "  '''\n",
        "    return: neg_text, pos_text, ne_text as the dataset for sentiment analysis\n",
        "  '''\n",
        "  neg_text = prep_data_txt(os.path.join(data_dir, 'final_negative.txt')) #negative data\n",
        "  pos_text = prep_data_txt(os.path.join(data_dir, 'final_positive.txt'))# positif data\n",
        "  ne_text = prep_data_txt(os.path.join(data_dir, 'final_neutral.txt'))\n",
        "\n",
        "  print(f'Negative data length: {len(neg_text)}')\n",
        "  print(f'Positive data length: {len(pos_text)}')\n",
        "  print(f'neutral data length: {len(ne_text)}')\n",
        "\n",
        "  return neg_text, pos_text, ne_text\n",
        "\n",
        "def stratified_split():\n",
        "  # split data using stratified with size train/val/test 80/10/10 respectively\n",
        "  sss = StratifiedShuffleSplit(n_splits=1, test_size=0.2, random_state=42)\n",
        "  train_index, test_index = next(sss.split(df['sentiment'], df['label']))\n",
        "\n",
        "  # split throug test size for get validation split\n",
        "  sss_val = StratifiedShuffleSplit(n_splits=1, test_size=0.5, random_state=42)\n",
        "  val_index, test_index = next(sss_val.split(df.iloc[test_index]['sentiment'], df.iloc[test_index]['label']))\n",
        "\n",
        "  return train_index, val_index, test_index"
      ],
      "metadata": {
        "id": "QdPLsIjDKcl9"
      },
      "execution_count": 2,
      "outputs": []
    },
    {
      "cell_type": "markdown",
      "source": [
        "# Download data"
      ],
      "metadata": {
        "id": "GCT3K_wdJ1Dd"
      }
    },
    {
      "cell_type": "code",
      "source": [
        "download_data()"
      ],
      "metadata": {
        "colab": {
          "base_uri": "https://localhost:8080/"
        },
        "id": "mSF44qujDris",
        "outputId": "7993aabb-ab1c-4a7c-d5f1-fb8bc9e861e6"
      },
      "execution_count": 3,
      "outputs": [
        {
          "output_type": "stream",
          "name": "stdout",
          "text": [
            "Downloading data...\n",
            "Success downloading data to /content/datasets/text.zip\n",
            "Success extracting data to /content/datasets\n"
          ]
        }
      ]
    },
    {
      "cell_type": "markdown",
      "source": [
        "# Generate Data"
      ],
      "metadata": {
        "id": "QhM7ojuSJ3ri"
      }
    },
    {
      "cell_type": "code",
      "source": [
        "data_dir = os.path.join(DOWNLOAD_DIR, 'text')\n",
        "print(os.listdir(data_dir))"
      ],
      "metadata": {
        "colab": {
          "base_uri": "https://localhost:8080/"
        },
        "id": "mOgi7a6cHS8w",
        "outputId": "778324e2-053b-450d-b366-4f90d1af2014"
      },
      "execution_count": 4,
      "outputs": [
        {
          "output_type": "stream",
          "name": "stdout",
          "text": [
            "['final_positive.txt', 'final_neutral.txt', 'final_negative.txt']\n"
          ]
        }
      ]
    },
    {
      "cell_type": "code",
      "source": [
        "neg_text, pos_text, ne_text = retrieve_sentiment_data()"
      ],
      "metadata": {
        "colab": {
          "base_uri": "https://localhost:8080/"
        },
        "id": "peXe1KZ2LWaX",
        "outputId": "74f23492-a887-46fa-f701-552f4819c2a9"
      },
      "execution_count": 5,
      "outputs": [
        {
          "output_type": "stream",
          "name": "stdout",
          "text": [
            "Negative data length: 99999\n",
            "Positive data length: 100000\n",
            "neutral data length: 99999\n"
          ]
        }
      ]
    },
    {
      "cell_type": "markdown",
      "source": [
        "# Data Preprocessing"
      ],
      "metadata": {
        "id": "Chf4HkiTN2XR"
      }
    },
    {
      "cell_type": "markdown",
      "source": [
        "## Distribution"
      ],
      "metadata": {
        "id": "-Ps8Z3AzOFzt"
      }
    },
    {
      "cell_type": "markdown",
      "source": [
        "Below we merge all data into 3 sentiment categories:\n",
        "- 0: Negative sentiment\n",
        "- 1: Positif sentiment\n",
        "- 2: neutral sentimen"
      ],
      "metadata": {
        "id": "D8nuYAL_cClc"
      }
    },
    {
      "cell_type": "code",
      "source": [
        "df = pd.DataFrame({\n",
        "    'sentiment' : neg_text + pos_text + ne_text,\n",
        "    'label' : ['negative'] * len(neg_text) + ['positive'] * len(pos_text) + ['neutral'] * len(ne_text)\n",
        "})\n",
        "df.head()"
      ],
      "metadata": {
        "colab": {
          "base_uri": "https://localhost:8080/",
          "height": 206
        },
        "id": "OAgMJ2SDLl5K",
        "outputId": "7f27cb88-9d26-4cf1-8d04-f30fa815023b"
      },
      "execution_count": 6,
      "outputs": [
        {
          "output_type": "execute_result",
          "data": {
            "text/plain": [
              "                                           sentiment     label\n",
              "0  Mothers will not give their sons as sacrifices...  negative\n",
              "1  That which was meant to be conducive to life h...  negative\n",
              "2  The Jews were expecting the appearance of the ...  negative\n",
              "3  We have forsaken the path of God; we have give...  negative\n",
              "4  Sixth, the Messiah was to gather together all ...  negative"
            ],
            "text/html": [
              "\n",
              "  <div id=\"df-8f4998c4-4baf-4508-81ff-833d8487a0f0\" class=\"colab-df-container\">\n",
              "    <div>\n",
              "<style scoped>\n",
              "    .dataframe tbody tr th:only-of-type {\n",
              "        vertical-align: middle;\n",
              "    }\n",
              "\n",
              "    .dataframe tbody tr th {\n",
              "        vertical-align: top;\n",
              "    }\n",
              "\n",
              "    .dataframe thead th {\n",
              "        text-align: right;\n",
              "    }\n",
              "</style>\n",
              "<table border=\"1\" class=\"dataframe\">\n",
              "  <thead>\n",
              "    <tr style=\"text-align: right;\">\n",
              "      <th></th>\n",
              "      <th>sentiment</th>\n",
              "      <th>label</th>\n",
              "    </tr>\n",
              "  </thead>\n",
              "  <tbody>\n",
              "    <tr>\n",
              "      <th>0</th>\n",
              "      <td>Mothers will not give their sons as sacrifices...</td>\n",
              "      <td>negative</td>\n",
              "    </tr>\n",
              "    <tr>\n",
              "      <th>1</th>\n",
              "      <td>That which was meant to be conducive to life h...</td>\n",
              "      <td>negative</td>\n",
              "    </tr>\n",
              "    <tr>\n",
              "      <th>2</th>\n",
              "      <td>The Jews were expecting the appearance of the ...</td>\n",
              "      <td>negative</td>\n",
              "    </tr>\n",
              "    <tr>\n",
              "      <th>3</th>\n",
              "      <td>We have forsaken the path of God; we have give...</td>\n",
              "      <td>negative</td>\n",
              "    </tr>\n",
              "    <tr>\n",
              "      <th>4</th>\n",
              "      <td>Sixth, the Messiah was to gather together all ...</td>\n",
              "      <td>negative</td>\n",
              "    </tr>\n",
              "  </tbody>\n",
              "</table>\n",
              "</div>\n",
              "    <div class=\"colab-df-buttons\">\n",
              "\n",
              "  <div class=\"colab-df-container\">\n",
              "    <button class=\"colab-df-convert\" onclick=\"convertToInteractive('df-8f4998c4-4baf-4508-81ff-833d8487a0f0')\"\n",
              "            title=\"Convert this dataframe to an interactive table.\"\n",
              "            style=\"display:none;\">\n",
              "\n",
              "  <svg xmlns=\"http://www.w3.org/2000/svg\" height=\"24px\" viewBox=\"0 -960 960 960\">\n",
              "    <path d=\"M120-120v-720h720v720H120Zm60-500h600v-160H180v160Zm220 220h160v-160H400v160Zm0 220h160v-160H400v160ZM180-400h160v-160H180v160Zm440 0h160v-160H620v160ZM180-180h160v-160H180v160Zm440 0h160v-160H620v160Z\"/>\n",
              "  </svg>\n",
              "    </button>\n",
              "\n",
              "  <style>\n",
              "    .colab-df-container {\n",
              "      display:flex;\n",
              "      gap: 12px;\n",
              "    }\n",
              "\n",
              "    .colab-df-convert {\n",
              "      background-color: #E8F0FE;\n",
              "      border: none;\n",
              "      border-radius: 50%;\n",
              "      cursor: pointer;\n",
              "      display: none;\n",
              "      fill: #1967D2;\n",
              "      height: 32px;\n",
              "      padding: 0 0 0 0;\n",
              "      width: 32px;\n",
              "    }\n",
              "\n",
              "    .colab-df-convert:hover {\n",
              "      background-color: #E2EBFA;\n",
              "      box-shadow: 0px 1px 2px rgba(60, 64, 67, 0.3), 0px 1px 3px 1px rgba(60, 64, 67, 0.15);\n",
              "      fill: #174EA6;\n",
              "    }\n",
              "\n",
              "    .colab-df-buttons div {\n",
              "      margin-bottom: 4px;\n",
              "    }\n",
              "\n",
              "    [theme=dark] .colab-df-convert {\n",
              "      background-color: #3B4455;\n",
              "      fill: #D2E3FC;\n",
              "    }\n",
              "\n",
              "    [theme=dark] .colab-df-convert:hover {\n",
              "      background-color: #434B5C;\n",
              "      box-shadow: 0px 1px 3px 1px rgba(0, 0, 0, 0.15);\n",
              "      filter: drop-shadow(0px 1px 2px rgba(0, 0, 0, 0.3));\n",
              "      fill: #FFFFFF;\n",
              "    }\n",
              "  </style>\n",
              "\n",
              "    <script>\n",
              "      const buttonEl =\n",
              "        document.querySelector('#df-8f4998c4-4baf-4508-81ff-833d8487a0f0 button.colab-df-convert');\n",
              "      buttonEl.style.display =\n",
              "        google.colab.kernel.accessAllowed ? 'block' : 'none';\n",
              "\n",
              "      async function convertToInteractive(key) {\n",
              "        const element = document.querySelector('#df-8f4998c4-4baf-4508-81ff-833d8487a0f0');\n",
              "        const dataTable =\n",
              "          await google.colab.kernel.invokeFunction('convertToInteractive',\n",
              "                                                    [key], {});\n",
              "        if (!dataTable) return;\n",
              "\n",
              "        const docLinkHtml = 'Like what you see? Visit the ' +\n",
              "          '<a target=\"_blank\" href=https://colab.research.google.com/notebooks/data_table.ipynb>data table notebook</a>'\n",
              "          + ' to learn more about interactive tables.';\n",
              "        element.innerHTML = '';\n",
              "        dataTable['output_type'] = 'display_data';\n",
              "        await google.colab.output.renderOutput(dataTable, element);\n",
              "        const docLink = document.createElement('div');\n",
              "        docLink.innerHTML = docLinkHtml;\n",
              "        element.appendChild(docLink);\n",
              "      }\n",
              "    </script>\n",
              "  </div>\n",
              "\n",
              "\n",
              "<div id=\"df-ce1be6cb-c4fc-403a-b7d5-5d4060326e72\">\n",
              "  <button class=\"colab-df-quickchart\" onclick=\"quickchart('df-ce1be6cb-c4fc-403a-b7d5-5d4060326e72')\"\n",
              "            title=\"Suggest charts\"\n",
              "            style=\"display:none;\">\n",
              "\n",
              "<svg xmlns=\"http://www.w3.org/2000/svg\" height=\"24px\"viewBox=\"0 0 24 24\"\n",
              "     width=\"24px\">\n",
              "    <g>\n",
              "        <path d=\"M19 3H5c-1.1 0-2 .9-2 2v14c0 1.1.9 2 2 2h14c1.1 0 2-.9 2-2V5c0-1.1-.9-2-2-2zM9 17H7v-7h2v7zm4 0h-2V7h2v10zm4 0h-2v-4h2v4z\"/>\n",
              "    </g>\n",
              "</svg>\n",
              "  </button>\n",
              "\n",
              "<style>\n",
              "  .colab-df-quickchart {\n",
              "      --bg-color: #E8F0FE;\n",
              "      --fill-color: #1967D2;\n",
              "      --hover-bg-color: #E2EBFA;\n",
              "      --hover-fill-color: #174EA6;\n",
              "      --disabled-fill-color: #AAA;\n",
              "      --disabled-bg-color: #DDD;\n",
              "  }\n",
              "\n",
              "  [theme=dark] .colab-df-quickchart {\n",
              "      --bg-color: #3B4455;\n",
              "      --fill-color: #D2E3FC;\n",
              "      --hover-bg-color: #434B5C;\n",
              "      --hover-fill-color: #FFFFFF;\n",
              "      --disabled-bg-color: #3B4455;\n",
              "      --disabled-fill-color: #666;\n",
              "  }\n",
              "\n",
              "  .colab-df-quickchart {\n",
              "    background-color: var(--bg-color);\n",
              "    border: none;\n",
              "    border-radius: 50%;\n",
              "    cursor: pointer;\n",
              "    display: none;\n",
              "    fill: var(--fill-color);\n",
              "    height: 32px;\n",
              "    padding: 0;\n",
              "    width: 32px;\n",
              "  }\n",
              "\n",
              "  .colab-df-quickchart:hover {\n",
              "    background-color: var(--hover-bg-color);\n",
              "    box-shadow: 0 1px 2px rgba(60, 64, 67, 0.3), 0 1px 3px 1px rgba(60, 64, 67, 0.15);\n",
              "    fill: var(--button-hover-fill-color);\n",
              "  }\n",
              "\n",
              "  .colab-df-quickchart-complete:disabled,\n",
              "  .colab-df-quickchart-complete:disabled:hover {\n",
              "    background-color: var(--disabled-bg-color);\n",
              "    fill: var(--disabled-fill-color);\n",
              "    box-shadow: none;\n",
              "  }\n",
              "\n",
              "  .colab-df-spinner {\n",
              "    border: 2px solid var(--fill-color);\n",
              "    border-color: transparent;\n",
              "    border-bottom-color: var(--fill-color);\n",
              "    animation:\n",
              "      spin 1s steps(1) infinite;\n",
              "  }\n",
              "\n",
              "  @keyframes spin {\n",
              "    0% {\n",
              "      border-color: transparent;\n",
              "      border-bottom-color: var(--fill-color);\n",
              "      border-left-color: var(--fill-color);\n",
              "    }\n",
              "    20% {\n",
              "      border-color: transparent;\n",
              "      border-left-color: var(--fill-color);\n",
              "      border-top-color: var(--fill-color);\n",
              "    }\n",
              "    30% {\n",
              "      border-color: transparent;\n",
              "      border-left-color: var(--fill-color);\n",
              "      border-top-color: var(--fill-color);\n",
              "      border-right-color: var(--fill-color);\n",
              "    }\n",
              "    40% {\n",
              "      border-color: transparent;\n",
              "      border-right-color: var(--fill-color);\n",
              "      border-top-color: var(--fill-color);\n",
              "    }\n",
              "    60% {\n",
              "      border-color: transparent;\n",
              "      border-right-color: var(--fill-color);\n",
              "    }\n",
              "    80% {\n",
              "      border-color: transparent;\n",
              "      border-right-color: var(--fill-color);\n",
              "      border-bottom-color: var(--fill-color);\n",
              "    }\n",
              "    90% {\n",
              "      border-color: transparent;\n",
              "      border-bottom-color: var(--fill-color);\n",
              "    }\n",
              "  }\n",
              "</style>\n",
              "\n",
              "  <script>\n",
              "    async function quickchart(key) {\n",
              "      const quickchartButtonEl =\n",
              "        document.querySelector('#' + key + ' button');\n",
              "      quickchartButtonEl.disabled = true;  // To prevent multiple clicks.\n",
              "      quickchartButtonEl.classList.add('colab-df-spinner');\n",
              "      try {\n",
              "        const charts = await google.colab.kernel.invokeFunction(\n",
              "            'suggestCharts', [key], {});\n",
              "      } catch (error) {\n",
              "        console.error('Error during call to suggestCharts:', error);\n",
              "      }\n",
              "      quickchartButtonEl.classList.remove('colab-df-spinner');\n",
              "      quickchartButtonEl.classList.add('colab-df-quickchart-complete');\n",
              "    }\n",
              "    (() => {\n",
              "      let quickchartButtonEl =\n",
              "        document.querySelector('#df-ce1be6cb-c4fc-403a-b7d5-5d4060326e72 button');\n",
              "      quickchartButtonEl.style.display =\n",
              "        google.colab.kernel.accessAllowed ? 'block' : 'none';\n",
              "    })();\n",
              "  </script>\n",
              "</div>\n",
              "\n",
              "    </div>\n",
              "  </div>\n"
            ],
            "application/vnd.google.colaboratory.intrinsic+json": {
              "type": "dataframe",
              "variable_name": "df"
            }
          },
          "metadata": {},
          "execution_count": 6
        }
      ]
    },
    {
      "cell_type": "code",
      "source": [
        "plt.figure(figsize=(5, 4))\n",
        "sns.histplot(df, x='label', bins=3, color='skyblue')\n",
        "plt.title('Distribution of Sentiment Labels')\n",
        "plt.xlabel('Sentiment')\n",
        "plt.ylabel('Frequency')\n",
        "plt.show()"
      ],
      "metadata": {
        "colab": {
          "base_uri": "https://localhost:8080/",
          "height": 410
        },
        "id": "TorX5RKaMYOO",
        "outputId": "f317d444-81cf-46e2-f07f-f9fa2ddcfc6b"
      },
      "execution_count": 7,
      "outputs": [
        {
          "output_type": "display_data",
          "data": {
            "text/plain": [
              "<Figure size 500x400 with 1 Axes>"
            ],
            "image/png": "[encoded data removed]"
          },
          "metadata": {}
        }
      ]
    },
    {
      "cell_type": "markdown",
      "source": [
        "## Split data"
      ],
      "metadata": {
        "id": "9YqduFT1a7oo"
      }
    },
    {
      "cell_type": "markdown",
      "source": [
        "Split data, using stratified shuffle split from sklearn []:\n",
        "- Train: 80\n",
        "- Val: 10\n",
        "- test: 10"
      ],
      "metadata": {
        "id": "eETHnMXdbTfp"
      }
    },
    {
      "cell_type": "code",
      "source": [
        "# split data using stratified with size train/val/test 80/10/10 respectively\n",
        "train_index, val_index, test_index = stratified_split()"
      ],
      "metadata": {
        "id": "wiEhwIBYPDpZ"
      },
      "execution_count": 8,
      "outputs": []
    },
    {
      "cell_type": "code",
      "source": [
        "# indexing the splitted data frame\n",
        "train_df = df.iloc[train_index]\n",
        "val_df = df.iloc[val_index]\n",
        "test_df = df.iloc[test_index]\n"
      ],
      "metadata": {
        "id": "_hdlrmmzg9Hw"
      },
      "execution_count": 9,
      "outputs": []
    },
    {
      "cell_type": "code",
      "source": [
        "# check the size of each split\n",
        "len_df = len(df)\n",
        "len_train = len(train_df)\n",
        "len_val = len(val_df)\n",
        "len_test = len(test_df)\n",
        "\n",
        "print(f'Train data size: {round(len_train/len_df,2)}')\n",
        "print(f'Val data size: {round(len_val/len_df,2)}')\n",
        "print(f'Test data size: {round(len_test/len_df,2)}')"
      ],
      "metadata": {
        "colab": {
          "base_uri": "https://localhost:8080/"
        },
        "id": "rtwwMq-bhjH5",
        "outputId": "20401b3d-39a1-430c-a5d9-b2b993fbdc2d"
      },
      "execution_count": 10,
      "outputs": [
        {
          "output_type": "stream",
          "name": "stdout",
          "text": [
            "Train data size: 0.8\n",
            "Val data size: 0.1\n",
            "Test data size: 0.1\n"
          ]
        }
      ]
    },
    {
      "cell_type": "code",
      "source": [
        "split_name = ['train', 'val', 'test']\n",
        "split_df = [len_train, len_val, len_test]\n",
        "\n",
        "plt.figure(figsize=(5, 4))\n",
        "bars = plt.bar(x=split_name, height=split_df, color='skyblue')\n",
        "\n",
        "for bar in bars:\n",
        "    height = bar.get_height()\n",
        "    plt.text(bar.get_x() + bar.get_width() / 2.0, height - (height/2.0), '%0.2f%s' % ((height/len_df)*100, '%'), ha='center', va='bottom', color='teal')\n",
        "\n",
        "plt.title('Distribution of Sentiment Labels')\n",
        "plt.xlabel('Sentiment')\n",
        "plt.ylabel('Frequency')\n",
        "plt.show()"
      ],
      "metadata": {
        "colab": {
          "base_uri": "https://localhost:8080/",
          "height": 410
        },
        "id": "0PzubzmlhyXV",
        "outputId": "b98672d1-91c3-4b81-cbbe-116fb54fb55f"
      },
      "execution_count": 11,
      "outputs": [
        {
          "output_type": "display_data",
          "data": {
            "text/plain": [
              "<Figure size 500x400 with 1 Axes>"
            ],
            "image/png": "[encoded data removed]"
          },
          "metadata": {}
        }
      ]
    },
    {
      "cell_type": "markdown",
      "source": [
        "## Preparation for training"
      ],
      "metadata": {
        "id": "-xKnf-antQJ2"
      }
    },
    {
      "cell_type": "code",
      "source": [
        "# split for training portion\n",
        "X_train, y_train = train_df['sentiment'], train_df['label']\n",
        "X_val, y_val = val_df['sentiment'], val_df['label']\n",
        "X_test, y_test = test_df['sentiment'], test_df['label']"
      ],
      "metadata": {
        "id": "E391ljMwlppP"
      },
      "execution_count": 12,
      "outputs": []
    },
    {
      "cell_type": "code",
      "source": [
        "# X_train.to_csv('X_train.csv', index=False)\n",
        "# y_train.to_csv('y_train.csv', index=False)\n",
        "# X_val.to_csv('X_val.csv', index=False)\n",
        "# y_val.to_csv('y_val.csv', index=False)\n",
        "# X_test.to_csv('X_test.csv', index=False)\n",
        "# y_test.to_csv('y_test.csv', index=False)\n"
      ],
      "metadata": {
        "id": "Vg7v05Q3IaoV"
      },
      "execution_count": 13,
      "outputs": []
    },
    {
      "cell_type": "code",
      "source": [
        "# try:\n",
        "#   from google.colab import files\n",
        "# except e:\n",
        "#   print(e)\n",
        "# else:\n",
        "#   files.download('X_train.csv')\n",
        "#   files.download('y_train.csv')\n",
        "#   files.download('X_val.csv')\n",
        "#   files.download('y_val.csv')\n",
        "#   files.download('X_test.csv')\n",
        "#   files.download('y_test.csv')"
      ],
      "metadata": {
        "id": "gmMUmQu7I3cq"
      },
      "execution_count": 14,
      "outputs": []
    },
    {
      "cell_type": "markdown",
      "source": [
        "### Hyperparameters"
      ],
      "metadata": {
        "id": "TSa7ok3FBK9p"
      }
    },
    {
      "cell_type": "code",
      "source": [
        "# Vocabulary size of the tokenizer\n",
        "vocab_size = 10000\n",
        "\n",
        "# Maximum length of the padded sequences\n",
        "max_length = 50\n",
        "\n",
        "# Output dimensions of the Embedding layer\n",
        "embedding_dim = 16"
      ],
      "metadata": {
        "id": "RKkCRxIZBNvD"
      },
      "execution_count": 15,
      "outputs": []
    },
    {
      "cell_type": "markdown",
      "source": [
        "### Tokenize data"
      ],
      "metadata": {
        "id": "A-Z4svKwus6r"
      }
    },
    {
      "cell_type": "code",
      "source": [
        "tokenizer = Tokenizer(num_words=vocab_size, oov_token='<OOV>')\n",
        "tokenizer.fit_on_texts(X_train)\n",
        "word_index = tokenizer.word_index"
      ],
      "metadata": {
        "id": "2jh-cwLLtwbF"
      },
      "execution_count": 16,
      "outputs": []
    },
    {
      "cell_type": "code",
      "source": [
        "print(len(word_index))"
      ],
      "metadata": {
        "colab": {
          "base_uri": "https://localhost:8080/"
        },
        "id": "tdBbE0e7uDe7",
        "outputId": "d10b6105-2eab-4c04-d476-c87b5c4ff1f7"
      },
      "execution_count": 17,
      "outputs": [
        {
          "output_type": "stream",
          "name": "stdout",
          "text": [
            "122232\n"
          ]
        }
      ]
    },
    {
      "cell_type": "code",
      "source": [
        "label_tokenizer = Tokenizer()\n",
        "label_tokenizer.fit_on_texts(y_train)\n",
        "label_index_word = label_tokenizer.index_word\n",
        "\n",
        "# start encoder label from 0\n",
        "labels_encoder = {key - 1: value for key, value in label_index_word.items()}\n",
        "\n",
        "# Tokenize the label\n",
        "training_labels = label_tokenizer.texts_to_sequences(y_train)\n",
        "val_labels = label_tokenizer.texts_to_sequences(y_val)\n",
        "test_labels = label_tokenizer.texts_to_sequences(y_test)"
      ],
      "metadata": {
        "id": "7kn0vbyO5HUa"
      },
      "execution_count": 18,
      "outputs": []
    },
    {
      "cell_type": "code",
      "source": [
        "print(labels_encoder)"
      ],
      "metadata": {
        "colab": {
          "base_uri": "https://localhost:8080/"
        },
        "id": "B9oCohm1x_PC",
        "outputId": "244fcd43-83ae-458a-cc9a-432668bfcdef"
      },
      "execution_count": 19,
      "outputs": [
        {
          "output_type": "stream",
          "name": "stdout",
          "text": [
            "{0: 'positive', 1: 'neutral', 2: 'negative'}\n"
          ]
        }
      ]
    },
    {
      "cell_type": "code",
      "source": [
        "# convert labels list to np array\n",
        "# Below arrays are subtracted by one, because all index should start from 0, instead the current label before subtract started with one\n",
        "training_labels = np.array(training_labels) - 1\n",
        "val_labels = np.array(val_labels) - 1\n",
        "test_labels = np.array(test_labels) - 1\n",
        "\n",
        "print(training_labels.shape)\n",
        "print(val_labels.shape)\n",
        "print(test_labels.shape)\n",
        "len(training_labels), len(val_labels), len(test_labels)"
      ],
      "metadata": {
        "colab": {
          "base_uri": "https://localhost:8080/"
        },
        "id": "G73ezi8B5Rr1",
        "outputId": "594eed57-503a-4d04-9d14-a919ba6950d3"
      },
      "execution_count": 20,
      "outputs": [
        {
          "output_type": "stream",
          "name": "stdout",
          "text": [
            "(239998, 1)\n",
            "(30000, 1)\n",
            "(30000, 1)\n"
          ]
        },
        {
          "output_type": "execute_result",
          "data": {
            "text/plain": [
              "(239998, 30000, 30000)"
            ]
          },
          "metadata": {},
          "execution_count": 20
        }
      ]
    },
    {
      "cell_type": "markdown",
      "source": [
        "### Sequence data"
      ],
      "metadata": {
        "id": "A1Lfqi8yvlA8"
      }
    },
    {
      "cell_type": "code",
      "source": [
        "sequences_train = tokenizer.texts_to_sequences(X_train)\n",
        "sequences_val = tokenizer.texts_to_sequences(X_val)\n",
        "sequences_test = tokenizer.texts_to_sequences(X_test)"
      ],
      "metadata": {
        "id": "W-iy9cAEuZoZ"
      },
      "execution_count": 21,
      "outputs": []
    },
    {
      "cell_type": "markdown",
      "source": [
        "### padded data"
      ],
      "metadata": {
        "id": "3RlV7MDTvn5T"
      }
    },
    {
      "cell_type": "code",
      "source": [
        "padded_train = pad_sequences(sequences_train, maxlen=max_length, truncating='post', padding='post')\n",
        "padded_val = pad_sequences(sequences_val, maxlen=max_length, truncating='post', padding='post')\n",
        "padded_test = pad_sequences(sequences_test,maxlen=max_length, truncating='post', padding='post')"
      ],
      "metadata": {
        "id": "edVm-qwZvWwo"
      },
      "execution_count": 22,
      "outputs": []
    },
    {
      "cell_type": "code",
      "source": [
        "print(padded_train[0], padded_train.shape)\n",
        "print(padded_val.shape)\n",
        "print(padded_test.shape)"
      ],
      "metadata": {
        "colab": {
          "base_uri": "https://localhost:8080/"
        },
        "id": "4MvV_ODt4dMd",
        "outputId": "3fbb9973-9f8f-498f-8c7c-f4750cda02c2"
      },
      "execution_count": 23,
      "outputs": [
        {
          "output_type": "stream",
          "name": "stdout",
          "text": [
            "[ 237   23 1462 2947 1955 4062 9433 7659    4  990    4   45  310   43\n",
            "   40   24  265    3 9155  184    1   28 7905  184  899   59   74 5503\n",
            "   61   14  118    1 1874  140  194   25 6497 1353    4    2 3330 4572\n",
            "   34 3857    5  559    7    2 8562    2] (239998, 50)\n",
            "(30000, 50)\n",
            "(30000, 50)\n"
          ]
        }
      ]
    },
    {
      "cell_type": "markdown",
      "source": [
        "# Build and compile Model"
      ],
      "metadata": {
        "id": "z706HbGXAn_s"
      }
    },
    {
      "cell_type": "code",
      "source": [
        "model = tf.keras.Sequential([\n",
        "    Embedding(input_dim=vocab_size, output_dim=embedding_dim, input_length=max_length),\n",
        "    Flatten(),\n",
        "    Dense(24, activation='relu'),\n",
        "    Dense(3, activation='softmax')\n",
        "])\n",
        "\n",
        "model.summary()"
      ],
      "metadata": {
        "colab": {
          "base_uri": "https://localhost:8080/",
          "height": 320
        },
        "id": "EMLSCxhXApvg",
        "outputId": "a0344379-88dc-4f1d-8720-060bd365cae6"
      },
      "execution_count": 24,
      "outputs": [
        {
          "output_type": "stream",
          "name": "stderr",
          "text": [
            "/usr/local/lib/python3.10/dist-packages/keras/src/layers/core/embedding.py:90: UserWarning: Argument `input_length` is deprecated. Just remove it.\n",
            "  warnings.warn(\n"
          ]
        },
        {
          "output_type": "display_data",
          "data": {
            "text/plain": [
              "\u001b[1mModel: \"sequential\"\u001b[0m\n"
            ],
            "text/html": [
              "<pre style=\"white-space:pre;overflow-x:auto;line-height:normal;font-family:Menlo,'DejaVu Sans Mono',consolas,'Courier New',monospace\"><span style=\"font-weight: bold\">Model: \"sequential\"</span>\n",
              "</pre>\n"
            ]
          },
          "metadata": {}
        },
        {
          "output_type": "display_data",
          "data": {
            "text/plain": [
              "┏━━━━━━━━━━━━━━━━━━━━━━━━━━━━━━━━━━━━━━┳━━━━━━━━━━━━━━━━━━━━━━━━━━━━━┳━━━━━━━━━━━━━━━━━┓\n",
              "┃\u001b[1m \u001b[0m\u001b[1mLayer (type)                        \u001b[0m\u001b[1m \u001b[0m┃\u001b[1m \u001b[0m\u001b[1mOutput Shape               \u001b[0m\u001b[1m \u001b[0m┃\u001b[1m \u001b[0m\u001b[1m        Param #\u001b[0m\u001b[1m \u001b[0m┃\n",
              "┡━━━━━━━━━━━━━━━━━━━━━━━━━━━━━━━━━━━━━━╇━━━━━━━━━━━━━━━━━━━━━━━━━━━━━╇━━━━━━━━━━━━━━━━━┩\n",
              "│ embedding (\u001b[38;5;33mEmbedding\u001b[0m)                │ ?                           │     \u001b[38;5;34m0\u001b[0m (unbuilt) │\n",
              "├──────────────────────────────────────┼─────────────────────────────┼─────────────────┤\n",
              "│ flatten (\u001b[38;5;33mFlatten\u001b[0m)                    │ ?                           │     \u001b[38;5;34m0\u001b[0m (unbuilt) │\n",
              "├──────────────────────────────────────┼─────────────────────────────┼─────────────────┤\n",
              "│ dense (\u001b[38;5;33mDense\u001b[0m)                        │ ?                           │     \u001b[38;5;34m0\u001b[0m (unbuilt) │\n",
              "├──────────────────────────────────────┼─────────────────────────────┼─────────────────┤\n",
              "│ dense_1 (\u001b[38;5;33mDense\u001b[0m)                      │ ?                           │     \u001b[38;5;34m0\u001b[0m (unbuilt) │\n",
              "└──────────────────────────────────────┴─────────────────────────────┴─────────────────┘\n"
            ],
            "text/html": [
              "<pre style=\"white-space:pre;overflow-x:auto;line-height:normal;font-family:Menlo,'DejaVu Sans Mono',consolas,'Courier New',monospace\">┏━━━━━━━━━━━━━━━━━━━━━━━━━━━━━━━━━━━━━━┳━━━━━━━━━━━━━━━━━━━━━━━━━━━━━┳━━━━━━━━━━━━━━━━━┓\n",
              "┃<span style=\"font-weight: bold\"> Layer (type)                         </span>┃<span style=\"font-weight: bold\"> Output Shape                </span>┃<span style=\"font-weight: bold\">         Param # </span>┃\n",
              "┡━━━━━━━━━━━━━━━━━━━━━━━━━━━━━━━━━━━━━━╇━━━━━━━━━━━━━━━━━━━━━━━━━━━━━╇━━━━━━━━━━━━━━━━━┩\n",
              "│ embedding (<span style=\"color: #0087ff; text-decoration-color: #0087ff\">Embedding</span>)                │ ?                           │     <span style=\"color: #00af00; text-decoration-color: #00af00\">0</span> (unbuilt) │\n",
              "├──────────────────────────────────────┼─────────────────────────────┼─────────────────┤\n",
              "│ flatten (<span style=\"color: #0087ff; text-decoration-color: #0087ff\">Flatten</span>)                    │ ?                           │     <span style=\"color: #00af00; text-decoration-color: #00af00\">0</span> (unbuilt) │\n",
              "├──────────────────────────────────────┼─────────────────────────────┼─────────────────┤\n",
              "│ dense (<span style=\"color: #0087ff; text-decoration-color: #0087ff\">Dense</span>)                        │ ?                           │     <span style=\"color: #00af00; text-decoration-color: #00af00\">0</span> (unbuilt) │\n",
              "├──────────────────────────────────────┼─────────────────────────────┼─────────────────┤\n",
              "│ dense_1 (<span style=\"color: #0087ff; text-decoration-color: #0087ff\">Dense</span>)                      │ ?                           │     <span style=\"color: #00af00; text-decoration-color: #00af00\">0</span> (unbuilt) │\n",
              "└──────────────────────────────────────┴─────────────────────────────┴─────────────────┘\n",
              "</pre>\n"
            ]
          },
          "metadata": {}
        },
        {
          "output_type": "display_data",
          "data": {
            "text/plain": [
              "\u001b[1m Total params: \u001b[0m\u001b[38;5;34m0\u001b[0m (0.00 B)\n"
            ],
            "text/html": [
              "<pre style=\"white-space:pre;overflow-x:auto;line-height:normal;font-family:Menlo,'DejaVu Sans Mono',consolas,'Courier New',monospace\"><span style=\"font-weight: bold\"> Total params: </span><span style=\"color: #00af00; text-decoration-color: #00af00\">0</span> (0.00 B)\n",
              "</pre>\n"
            ]
          },
          "metadata": {}
        },
        {
          "output_type": "display_data",
          "data": {
            "text/plain": [
              "\u001b[1m Trainable params: \u001b[0m\u001b[38;5;34m0\u001b[0m (0.00 B)\n"
            ],
            "text/html": [
              "<pre style=\"white-space:pre;overflow-x:auto;line-height:normal;font-family:Menlo,'DejaVu Sans Mono',consolas,'Courier New',monospace\"><span style=\"font-weight: bold\"> Trainable params: </span><span style=\"color: #00af00; text-decoration-color: #00af00\">0</span> (0.00 B)\n",
              "</pre>\n"
            ]
          },
          "metadata": {}
        },
        {
          "output_type": "display_data",
          "data": {
            "text/plain": [
              "\u001b[1m Non-trainable params: \u001b[0m\u001b[38;5;34m0\u001b[0m (0.00 B)\n"
            ],
            "text/html": [
              "<pre style=\"white-space:pre;overflow-x:auto;line-height:normal;font-family:Menlo,'DejaVu Sans Mono',consolas,'Courier New',monospace\"><span style=\"font-weight: bold\"> Non-trainable params: </span><span style=\"color: #00af00; text-decoration-color: #00af00\">0</span> (0.00 B)\n",
              "</pre>\n"
            ]
          },
          "metadata": {}
        }
      ]
    },
    {
      "cell_type": "code",
      "source": [
        "\n",
        "model.compile(loss='sparse_categorical_crossentropy',\n",
        "              optimizer='adam',\n",
        "              metrics=['accuracy'],\n",
        "              )"
      ],
      "metadata": {
        "id": "YHwZSY3BBzHn"
      },
      "execution_count": 25,
      "outputs": []
    },
    {
      "cell_type": "markdown",
      "source": [
        "# Set Callbacks"
      ],
      "metadata": {
        "id": "3BsIZaswB767"
      }
    },
    {
      "cell_type": "code",
      "source": [
        "# early stopping\n",
        "early_stopping = tf.keras.callbacks.EarlyStopping(monitor='val_loss',\n",
        "                                                  mode='min',\n",
        "                                                  patience=5, restore_best_weights=True)\n",
        "\n",
        "\n",
        "\n",
        "# Model checkpoint, saving the best only val_acc\n",
        "\n",
        "checkpoint_filepath = '/tmp/ckpt/checkpoint-{epoch:02d}-{accuracy:.2f}-{val_accuracy:.2f}.keras'\n",
        "model_checkpoint_callback = tf.keras.callbacks.ModelCheckpoint(\n",
        "    filepath=checkpoint_filepath,\n",
        "    monitor='val_accuracy',\n",
        "    mode='max',\n",
        "    save_best_only=False,\n",
        "    verbose=1)"
      ],
      "metadata": {
        "id": "Fmu3T0llB7tU"
      },
      "execution_count": 26,
      "outputs": []
    },
    {
      "cell_type": "markdown",
      "source": [
        "# Model training"
      ],
      "metadata": {
        "id": "Ugre1BFAAR6x"
      }
    },
    {
      "cell_type": "code",
      "source": [
        "num_epochs=30\n",
        "history = model.fit(padded_train, training_labels, epochs=num_epochs,\n",
        "                    validation_data=(padded_val, val_labels), verbose=2,\n",
        "                    callbacks=[early_stopping, model_checkpoint_callback]\n",
        "                    )"
      ],
      "metadata": {
        "colab": {
          "base_uri": "https://localhost:8080/"
        },
        "id": "7-hoctXf42NA",
        "outputId": "b48ca8b5-45eb-45a5-c41c-a1fa8c3129c8"
      },
      "execution_count": 27,
      "outputs": [
        {
          "output_type": "stream",
          "name": "stdout",
          "text": [
            "Epoch 1/30\n",
            "\n",
            "Epoch 1: saving model to /tmp/ckpt/checkpoint-01-0.75-0.85.keras\n",
            "7500/7500 - 20s - 3ms/step - accuracy: 0.7465 - loss: 0.5797 - val_accuracy: 0.8456 - val_loss: 0.4146\n",
            "Epoch 2/30\n",
            "\n",
            "Epoch 2: saving model to /tmp/ckpt/checkpoint-02-0.81-0.87.keras\n",
            "7500/7500 - 12s - 2ms/step - accuracy: 0.8122 - loss: 0.4563 - val_accuracy: 0.8673 - val_loss: 0.3658\n",
            "Epoch 3/30\n",
            "\n",
            "Epoch 3: saving model to /tmp/ckpt/checkpoint-03-0.84-0.92.keras\n",
            "7500/7500 - 24s - 3ms/step - accuracy: 0.8437 - loss: 0.3894 - val_accuracy: 0.9151 - val_loss: 0.2657\n",
            "Epoch 4/30\n",
            "\n",
            "Epoch 4: saving model to /tmp/ckpt/checkpoint-04-0.87-0.88.keras\n",
            "7500/7500 - 18s - 2ms/step - accuracy: 0.8701 - loss: 0.3296 - val_accuracy: 0.8847 - val_loss: 0.3350\n",
            "Epoch 5/30\n",
            "\n",
            "Epoch 5: saving model to /tmp/ckpt/checkpoint-05-0.89-0.91.keras\n",
            "7500/7500 - 22s - 3ms/step - accuracy: 0.8900 - loss: 0.2835 - val_accuracy: 0.9079 - val_loss: 0.2858\n",
            "Epoch 6/30\n",
            "\n",
            "Epoch 6: saving model to /tmp/ckpt/checkpoint-06-0.91-0.92.keras\n",
            "7500/7500 - 20s - 3ms/step - accuracy: 0.9054 - loss: 0.2464 - val_accuracy: 0.9177 - val_loss: 0.2776\n",
            "Epoch 7/30\n",
            "\n",
            "Epoch 7: saving model to /tmp/ckpt/checkpoint-07-0.92-0.90.keras\n",
            "7500/7500 - 13s - 2ms/step - accuracy: 0.9183 - loss: 0.2150 - val_accuracy: 0.8991 - val_loss: 0.3403\n",
            "Epoch 8/30\n",
            "\n",
            "Epoch 8: saving model to /tmp/ckpt/checkpoint-08-0.93-0.94.keras\n",
            "7500/7500 - 20s - 3ms/step - accuracy: 0.9285 - loss: 0.1882 - val_accuracy: 0.9377 - val_loss: 0.2470\n",
            "Epoch 9/30\n",
            "\n",
            "Epoch 9: saving model to /tmp/ckpt/checkpoint-09-0.94-0.93.keras\n",
            "7500/7500 - 20s - 3ms/step - accuracy: 0.9376 - loss: 0.1645 - val_accuracy: 0.9281 - val_loss: 0.3005\n",
            "Epoch 10/30\n",
            "\n",
            "Epoch 10: saving model to /tmp/ckpt/checkpoint-10-0.95-0.93.keras\n",
            "7500/7500 - 21s - 3ms/step - accuracy: 0.9454 - loss: 0.1453 - val_accuracy: 0.9316 - val_loss: 0.3167\n",
            "Epoch 11/30\n",
            "\n",
            "Epoch 11: saving model to /tmp/ckpt/checkpoint-11-0.95-0.94.keras\n",
            "7500/7500 - 20s - 3ms/step - accuracy: 0.9519 - loss: 0.1286 - val_accuracy: 0.9421 - val_loss: 0.2999\n",
            "Epoch 12/30\n",
            "\n",
            "Epoch 12: saving model to /tmp/ckpt/checkpoint-12-0.96-0.93.keras\n",
            "7500/7500 - 20s - 3ms/step - accuracy: 0.9573 - loss: 0.1139 - val_accuracy: 0.9316 - val_loss: 0.3697\n",
            "Epoch 13/30\n",
            "\n",
            "Epoch 13: saving model to /tmp/ckpt/checkpoint-13-0.96-0.95.keras\n",
            "7500/7500 - 13s - 2ms/step - accuracy: 0.9620 - loss: 0.1020 - val_accuracy: 0.9458 - val_loss: 0.3311\n"
          ]
        }
      ]
    },
    {
      "cell_type": "markdown",
      "source": [
        "# Visualize the results"
      ],
      "metadata": {
        "id": "wFyiC798NBf-"
      }
    },
    {
      "cell_type": "code",
      "source": [
        "# Plot utility\n",
        "def plot_graphs(history, strings=['accuracy', 'loss']):\n",
        "  fig, ax = plt.subplots(figsize=(15, 4), nrows=1, ncols=2)\n",
        "\n",
        "  for i, string in enumerate(strings):\n",
        "    ax[i].plot(history.history[string])\n",
        "    ax[i].plot(history.history['val_'+string])\n",
        "\n",
        "    ax[i].set_xlabel(\"Epochs\")\n",
        "    ax[i].set_ylabel(string)\n",
        "    ax[i].legend([string, 'val_'+string])\n",
        "    ax[i].set_title('History Model in Epochs')\n",
        "\n",
        "  plt.show()\n",
        "\n",
        "# Plot the accuracy and loss\n",
        "plot_graphs(history)"
      ],
      "metadata": {
        "colab": {
          "base_uri": "https://localhost:8080/",
          "height": 410
        },
        "id": "GPcavZX7DmDh",
        "outputId": "fe04a673-ba61-40ce-df14-1623dd552f75"
      },
      "execution_count": 40,
      "outputs": [
        {
          "output_type": "display_data",
          "data": {
            "text/plain": [
              "<Figure size 1500x400 with 2 Axes>"
            ],
            "image/png": "[encoded data removed]"
          },
          "metadata": {}
        }
      ]
    },
    {
      "cell_type": "markdown",
      "source": [
        "# Saving best checkpoint model"
      ],
      "metadata": {
        "id": "XkKBS4_SpceF"
      }
    },
    {
      "cell_type": "code",
      "source": [
        "# download the model of 9-th ckpt for minimum overfitting defined.\n",
        "model_to_download = '/tmp/ckpt/checkpoint-11-0.95-0.94.keras'\n",
        "try:\n",
        "  files.download(model_to_download)\n",
        "\n",
        "except e:\n",
        "  print(e)"
      ],
      "metadata": {
        "colab": {
          "base_uri": "https://localhost:8080/",
          "height": 17
        },
        "id": "V-kjr9_5NEAL",
        "outputId": "bb0754cb-8720-4124-ff13-de9a3066856d"
      },
      "execution_count": 48,
      "outputs": [
        {
          "output_type": "display_data",
          "data": {
            "text/plain": [
              "<IPython.core.display.Javascript object>"
            ],
            "application/javascript": [
              "\n",
              "    async function download(id, filename, size) {\n",
              "      if (!google.colab.kernel.accessAllowed) {\n",
              "        return;\n",
              "      }\n",
              "      const div = document.createElement('div');\n",
              "      const label = document.createElement('label');\n",
              "      label.textContent = `Downloading \"${filename}\": `;\n",
              "      div.appendChild(label);\n",
              "      const progress = document.createElement('progress');\n",
              "      progress.max = size;\n",
              "      div.appendChild(progress);\n",
              "      document.body.appendChild(div);\n",
              "\n",
              "      const buffers = [];\n",
              "      let downloaded = 0;\n",
              "\n",
              "      const channel = await google.colab.kernel.comms.open(id);\n",
              "      // Send a message to notify the kernel that we're ready.\n",
              "      channel.send({})\n",
              "\n",
              "      for await (const message of channel.messages) {\n",
              "        // Send a message to notify the kernel that we're ready.\n",
              "        channel.send({})\n",
              "        if (message.buffers) {\n",
              "          for (const buffer of message.buffers) {\n",
              "            buffers.push(buffer);\n",
              "            downloaded += buffer.byteLength;\n",
              "            progress.value = downloaded;\n",
              "          }\n",
              "        }\n",
              "      }\n",
              "      const blob = new Blob(buffers, {type: 'application/binary'});\n",
              "      const a = document.createElement('a');\n",
              "      a.href = window.URL.createObjectURL(blob);\n",
              "      a.download = filename;\n",
              "      div.appendChild(a);\n",
              "      a.click();\n",
              "      div.remove();\n",
              "    }\n",
              "  "
            ]
          },
          "metadata": {}
        },
        {
          "output_type": "display_data",
          "data": {
            "text/plain": [
              "<IPython.core.display.Javascript object>"
            ],
            "application/javascript": [
              "download(\"download_aaaa5c6c-2f78-44b2-8b49-6d53ad22e317\", \"checkpoint-11-0.95-0.94.keras\", 2174718)"
            ]
          },
          "metadata": {}
        }
      ]
    },
    {
      "cell_type": "markdown",
      "source": [
        "# Evaluate the model"
      ],
      "metadata": {
        "id": "7a9U4DGopko-"
      }
    },
    {
      "cell_type": "code",
      "source": [
        "def download_model():\n",
        "  model_url = 'https://github.com/sayid-alt/sentiment-analysis-nlp/raw/main/model/checkpoint-09-0.94-0.94.keras'\n",
        "  # Find the position of the last forward slash '/'\n",
        "  last_slash_index = model_url.rfind('/')\n",
        "\n",
        "  # Extract the substring from the last slash to the end of the string\n",
        "  model_name = model_url[last_slash_index + 1:]\n",
        "  urllib.request.urlretrieve(model_url, model_name)\n",
        "  print('Downloading model...')\n",
        "  print('Success downloading model')\n",
        "  return model_name\n",
        "\n",
        "model_name = download_model()"
      ],
      "metadata": {
        "colab": {
          "base_uri": "https://localhost:8080/"
        },
        "id": "QOJsVPJTpkOP",
        "outputId": "e33eef84-1121-4fea-e46c-6379dad1d376"
      },
      "execution_count": null,
      "outputs": [
        {
          "output_type": "stream",
          "name": "stdout",
          "text": [
            "Downloading model...\n",
            "Success downloading model\n"
          ]
        }
      ]
    },
    {
      "cell_type": "code",
      "source": [
        "'''Uncomment this line if you want to model downloaded from github repo'''\n",
        "loaded_model = tf.keras.models.load_model(model_name)\n",
        "\n",
        "'''Uncomment this for last model trained'''\n",
        "# loaded_model = tf.keras.models.load_model('model.h5')\n",
        "loaded_model.summary()"
      ],
      "metadata": {
        "colab": {
          "base_uri": "https://localhost:8080/",
          "height": 281
        },
        "id": "KMHXtfXLqqef",
        "outputId": "ac418bbb-cdef-47da-adce-b225b9560dbf"
      },
      "execution_count": null,
      "outputs": [
        {
          "output_type": "display_data",
          "data": {
            "text/plain": [
              "\u001b[1mModel: \"sequential\"\u001b[0m\n"
            ],
            "text/html": [
              "<pre style=\"white-space:pre;overflow-x:auto;line-height:normal;font-family:Menlo,'DejaVu Sans Mono',consolas,'Courier New',monospace\"><span style=\"font-weight: bold\">Model: \"sequential\"</span>\n",
              "</pre>\n"
            ]
          },
          "metadata": {}
        },
        {
          "output_type": "display_data",
          "data": {
            "text/plain": [
              "┏━━━━━━━━━━━━━━━━━━━━━━━━━━━━━━━━━━━━━━┳━━━━━━━━━━━━━━━━━━━━━━━━━━━━━┳━━━━━━━━━━━━━━━━━┓\n",
              "┃\u001b[1m \u001b[0m\u001b[1mLayer (type)                        \u001b[0m\u001b[1m \u001b[0m┃\u001b[1m \u001b[0m\u001b[1mOutput Shape               \u001b[0m\u001b[1m \u001b[0m┃\u001b[1m \u001b[0m\u001b[1m        Param #\u001b[0m\u001b[1m \u001b[0m┃\n",
              "┡━━━━━━━━━━━━━━━━━━━━━━━━━━━━━━━━━━━━━━╇━━━━━━━━━━━━━━━━━━━━━━━━━━━━━╇━━━━━━━━━━━━━━━━━┩\n",
              "│ embedding (\u001b[38;5;33mEmbedding\u001b[0m)                │ (\u001b[38;5;45mNone\u001b[0m, \u001b[38;5;34m50\u001b[0m, \u001b[38;5;34m16\u001b[0m)              │         \u001b[38;5;34m160,000\u001b[0m │\n",
              "├──────────────────────────────────────┼─────────────────────────────┼─────────────────┤\n",
              "│ flatten (\u001b[38;5;33mFlatten\u001b[0m)                    │ (\u001b[38;5;45mNone\u001b[0m, \u001b[38;5;34m800\u001b[0m)                 │               \u001b[38;5;34m0\u001b[0m │\n",
              "├──────────────────────────────────────┼─────────────────────────────┼─────────────────┤\n",
              "│ dense (\u001b[38;5;33mDense\u001b[0m)                        │ (\u001b[38;5;45mNone\u001b[0m, \u001b[38;5;34m24\u001b[0m)                  │          \u001b[38;5;34m19,224\u001b[0m │\n",
              "├──────────────────────────────────────┼─────────────────────────────┼─────────────────┤\n",
              "│ dense_1 (\u001b[38;5;33mDense\u001b[0m)                      │ (\u001b[38;5;45mNone\u001b[0m, \u001b[38;5;34m3\u001b[0m)                   │              \u001b[38;5;34m75\u001b[0m │\n",
              "└──────────────────────────────────────┴─────────────────────────────┴─────────────────┘\n"
            ],
            "text/html": [
              "<pre style=\"white-space:pre;overflow-x:auto;line-height:normal;font-family:Menlo,'DejaVu Sans Mono',consolas,'Courier New',monospace\">┏━━━━━━━━━━━━━━━━━━━━━━━━━━━━━━━━━━━━━━┳━━━━━━━━━━━━━━━━━━━━━━━━━━━━━┳━━━━━━━━━━━━━━━━━┓\n",
              "┃<span style=\"font-weight: bold\"> Layer (type)                         </span>┃<span style=\"font-weight: bold\"> Output Shape                </span>┃<span style=\"font-weight: bold\">         Param # </span>┃\n",
              "┡━━━━━━━━━━━━━━━━━━━━━━━━━━━━━━━━━━━━━━╇━━━━━━━━━━━━━━━━━━━━━━━━━━━━━╇━━━━━━━━━━━━━━━━━┩\n",
              "│ embedding (<span style=\"color: #0087ff; text-decoration-color: #0087ff\">Embedding</span>)                │ (<span style=\"color: #00d7ff; text-decoration-color: #00d7ff\">None</span>, <span style=\"color: #00af00; text-decoration-color: #00af00\">50</span>, <span style=\"color: #00af00; text-decoration-color: #00af00\">16</span>)              │         <span style=\"color: #00af00; text-decoration-color: #00af00\">160,000</span> │\n",
              "├──────────────────────────────────────┼─────────────────────────────┼─────────────────┤\n",
              "│ flatten (<span style=\"color: #0087ff; text-decoration-color: #0087ff\">Flatten</span>)                    │ (<span style=\"color: #00d7ff; text-decoration-color: #00d7ff\">None</span>, <span style=\"color: #00af00; text-decoration-color: #00af00\">800</span>)                 │               <span style=\"color: #00af00; text-decoration-color: #00af00\">0</span> │\n",
              "├──────────────────────────────────────┼─────────────────────────────┼─────────────────┤\n",
              "│ dense (<span style=\"color: #0087ff; text-decoration-color: #0087ff\">Dense</span>)                        │ (<span style=\"color: #00d7ff; text-decoration-color: #00d7ff\">None</span>, <span style=\"color: #00af00; text-decoration-color: #00af00\">24</span>)                  │          <span style=\"color: #00af00; text-decoration-color: #00af00\">19,224</span> │\n",
              "├──────────────────────────────────────┼─────────────────────────────┼─────────────────┤\n",
              "│ dense_1 (<span style=\"color: #0087ff; text-decoration-color: #0087ff\">Dense</span>)                      │ (<span style=\"color: #00d7ff; text-decoration-color: #00d7ff\">None</span>, <span style=\"color: #00af00; text-decoration-color: #00af00\">3</span>)                   │              <span style=\"color: #00af00; text-decoration-color: #00af00\">75</span> │\n",
              "└──────────────────────────────────────┴─────────────────────────────┴─────────────────┘\n",
              "</pre>\n"
            ]
          },
          "metadata": {}
        },
        {
          "output_type": "display_data",
          "data": {
            "text/plain": [
              "\u001b[1m Total params: \u001b[0m\u001b[38;5;34m537,899\u001b[0m (2.05 MB)\n"
            ],
            "text/html": [
              "<pre style=\"white-space:pre;overflow-x:auto;line-height:normal;font-family:Menlo,'DejaVu Sans Mono',consolas,'Courier New',monospace\"><span style=\"font-weight: bold\"> Total params: </span><span style=\"color: #00af00; text-decoration-color: #00af00\">537,899</span> (2.05 MB)\n",
              "</pre>\n"
            ]
          },
          "metadata": {}
        },
        {
          "output_type": "display_data",
          "data": {
            "text/plain": [
              "\u001b[1m Trainable params: \u001b[0m\u001b[38;5;34m179,299\u001b[0m (700.39 KB)\n"
            ],
            "text/html": [
              "<pre style=\"white-space:pre;overflow-x:auto;line-height:normal;font-family:Menlo,'DejaVu Sans Mono',consolas,'Courier New',monospace\"><span style=\"font-weight: bold\"> Trainable params: </span><span style=\"color: #00af00; text-decoration-color: #00af00\">179,299</span> (700.39 KB)\n",
              "</pre>\n"
            ]
          },
          "metadata": {}
        },
        {
          "output_type": "display_data",
          "data": {
            "text/plain": [
              "\u001b[1m Non-trainable params: \u001b[0m\u001b[38;5;34m0\u001b[0m (0.00 B)\n"
            ],
            "text/html": [
              "<pre style=\"white-space:pre;overflow-x:auto;line-height:normal;font-family:Menlo,'DejaVu Sans Mono',consolas,'Courier New',monospace\"><span style=\"font-weight: bold\"> Non-trainable params: </span><span style=\"color: #00af00; text-decoration-color: #00af00\">0</span> (0.00 B)\n",
              "</pre>\n"
            ]
          },
          "metadata": {}
        },
        {
          "output_type": "display_data",
          "data": {
            "text/plain": [
              "\u001b[1m Optimizer params: \u001b[0m\u001b[38;5;34m358,600\u001b[0m (1.37 MB)\n"
            ],
            "text/html": [
              "<pre style=\"white-space:pre;overflow-x:auto;line-height:normal;font-family:Menlo,'DejaVu Sans Mono',consolas,'Courier New',monospace\"><span style=\"font-weight: bold\"> Optimizer params: </span><span style=\"color: #00af00; text-decoration-color: #00af00\">358,600</span> (1.37 MB)\n",
              "</pre>\n"
            ]
          },
          "metadata": {}
        }
      ]
    },
    {
      "cell_type": "code",
      "source": [
        "loss, accuracy = loaded_model.evaluate(padded_test, test_labels)\n",
        "print(f'Loss: {loss}')\n",
        "print(f'Accuracy: {accuracy}')"
      ],
      "metadata": {
        "colab": {
          "base_uri": "https://localhost:8080/"
        },
        "id": "VClQvC6oqxbj",
        "outputId": "e2f28d61-50dc-4189-c0c9-cef4698f9cc4"
      },
      "execution_count": null,
      "outputs": [
        {
          "output_type": "stream",
          "name": "stdout",
          "text": [
            "\u001b[1m938/938\u001b[0m \u001b[32m━━━━━━━━━━━━━━━━━━━━\u001b[0m\u001b[37m\u001b[0m \u001b[1m3s\u001b[0m 2ms/step - accuracy: 0.9399 - loss: 0.2726\n",
            "Loss: 0.2758285105228424\n",
            "Accuracy: 0.9395999908447266\n"
          ]
        }
      ]
    },
    {
      "cell_type": "markdown",
      "source": [
        "## Prediction"
      ],
      "metadata": {
        "id": "PdjE2h1XwMLr"
      }
    },
    {
      "cell_type": "code",
      "source": [
        "# predict the test labels from dataset\n",
        "\n",
        "# show prediction softmax probability\n",
        "prediction = loaded_model.predict(padded_test)\n",
        "print(prediction)"
      ],
      "metadata": {
        "colab": {
          "base_uri": "https://localhost:8080/"
        },
        "id": "tJk2DtL-q6tx",
        "outputId": "a187469a-6bfb-4aca-ae83-a4483b53a6fd"
      },
      "execution_count": null,
      "outputs": [
        {
          "output_type": "stream",
          "name": "stdout",
          "text": [
            "\u001b[1m938/938\u001b[0m \u001b[32m━━━━━━━━━━━━━━━━━━━━\u001b[0m\u001b[37m\u001b[0m \u001b[1m1s\u001b[0m 1ms/step\n",
            "[[1.14777915e-01 3.43521349e-02 8.50869894e-01]\n",
            " [2.08260342e-09 1.22151294e-04 9.99877810e-01]\n",
            " [8.57340032e-11 1.14790723e-03 9.98852134e-01]\n",
            " ...\n",
            " [1.25523491e-06 2.34365184e-03 9.97655034e-01]\n",
            " [5.88270159e-05 9.87070613e-03 9.90070522e-01]\n",
            " [1.34898409e-01 1.00828439e-01 7.64273167e-01]]\n"
          ]
        }
      ]
    },
    {
      "cell_type": "markdown",
      "source": [
        "## Confussion Matrix"
      ],
      "metadata": {
        "id": "JR0Cnz8W-jPQ"
      }
    },
    {
      "cell_type": "code",
      "source": [
        "labels_encoder"
      ],
      "metadata": {
        "id": "TKY58JNJEVxk",
        "outputId": "dbbd274d-8a43-49d1-9504-492a3fdd858d",
        "colab": {
          "base_uri": "https://localhost:8080/"
        }
      },
      "execution_count": null,
      "outputs": [
        {
          "output_type": "execute_result",
          "data": {
            "text/plain": [
              "{0: 'positive', 1: 'neutral', 2: 'negative'}"
            ]
          },
          "metadata": {},
          "execution_count": 65
        }
      ]
    },
    {
      "cell_type": "code",
      "source": [
        "np.unique(test_labels)"
      ],
      "metadata": {
        "id": "VooPPXrvFVcj",
        "outputId": "5fe9f31a-4035-4272-c78b-c3fd34f4b9bb",
        "colab": {
          "base_uri": "https://localhost:8080/"
        }
      },
      "execution_count": null,
      "outputs": [
        {
          "output_type": "execute_result",
          "data": {
            "text/plain": [
              "array([2])"
            ]
          },
          "metadata": {},
          "execution_count": 72
        }
      ]
    },
    {
      "cell_type": "code",
      "source": [],
      "metadata": {
        "id": "P9Ym-W01FYWi"
      },
      "execution_count": null,
      "outputs": []
    },
    {
      "cell_type": "code",
      "source": [
        "# Return the highest softmax prob index\n",
        "pred_labels = np.argmax(prediction, axis=1)\n",
        "print(pred_labels)\n",
        "con_mat = tf.math.confusion_matrix(labels=test_labels, predictions=pred_labels).numpy()\n",
        "con_mat"
      ],
      "metadata": {
        "id": "TNaa5PbI-mIt",
        "outputId": "dd605c4f-a357-4e2b-ac41-4514a5404de9",
        "colab": {
          "base_uri": "https://localhost:8080/"
        }
      },
      "execution_count": null,
      "outputs": [
        {
          "output_type": "stream",
          "name": "stdout",
          "text": [
            "[2 2 2 ... 2 2 2]\n"
          ]
        },
        {
          "output_type": "execute_result",
          "data": {
            "text/plain": [
              "array([[    0,     0,     0],\n",
              "       [    0,     0,     0],\n",
              "       [  407,  1405, 28188]], dtype=int32)"
            ]
          },
          "metadata": {},
          "execution_count": 66
        }
      ]
    },
    {
      "cell_type": "code",
      "source": [],
      "metadata": {
        "id": "Ra2gfFYfjI5S"
      },
      "execution_count": null,
      "outputs": []
    },
    {
      "cell_type": "code",
      "source": [
        "con_mat_disp = ConfusionMatrixDisplay(con_mat, display_labels=['Positive','Neutral', 'Negative'])\n",
        "con_mat_disp.plot(cmap=plt.cm.Blues)\n",
        "plt.show()"
      ],
      "metadata": {
        "id": "gVdXkFasCstm",
        "outputId": "3ee3fa09-c4e2-4f80-d05e-d27c7a11f32a",
        "colab": {
          "base_uri": "https://localhost:8080/",
          "height": 449
        }
      },
      "execution_count": null,
      "outputs": [
        {
          "output_type": "display_data",
          "data": {
            "text/plain": [
              "<Figure size 640x480 with 2 Axes>"
            ],
            "image/png": "[encoded data removed]"
          },
          "metadata": {}
        }
      ]
    },
    {
      "cell_type": "markdown",
      "source": [
        "## Input user"
      ],
      "metadata": {
        "id": "1dG2d3vT0e1_"
      }
    },
    {
      "cell_type": "code",
      "source": [
        "user_input = input('Enter a sentence: ')\n",
        "\n",
        "# tokenize the sentence\n",
        "user_sequence = tokenizer.texts_to_sequences([user_input])\n",
        "\n",
        "# pad the sequence\n",
        "user_padded = pad_sequences(user_sequence, maxlen=max_length, truncating='post', padding='post')\n",
        "\n",
        "# predict the sentiment\n",
        "prediction = loaded_model.predict(user_padded)\n",
        "\n",
        "# -- - Summary prediciton ---\n",
        "print('---- Prediction summary -----')\n",
        "print(labels_encoder)\n",
        "print('Softmax probability:', prediction)\n",
        "\n",
        "# return the highest probability of 3 categories\n",
        "predicted_index = np.argmax(prediction, axis=1)\n",
        "\n",
        "# get the predicted label based on highest probability\n",
        "predicted_label = labels_encoder[predicted_index[0]]\n",
        "print(f'Predicted sentiment: {predicted_label}')"
      ],
      "metadata": {
        "colab": {
          "base_uri": "https://localhost:8080/"
        },
        "id": "xhNMa0DjuVv5",
        "outputId": "5aabae84-8dcc-49ae-e53e-f77409234430"
      },
      "execution_count": null,
      "outputs": [
        {
          "output_type": "stream",
          "name": "stdout",
          "text": [
            "Enter a sentence: Despite the promising start, the event turned out to be a complete disaster. The organizers were clearly unprepared, leading to long delays and chaotic arrangements. The speakers were underwhelming, offering nothing new or insightful, and the venue was cramped and uncomfortable. Overall, it was a huge waste of time and money. I left feeling extremely disappointed and frustrated.\n",
            "\u001b[1m1/1\u001b[0m \u001b[32m━━━━━━━━━━━━━━━━━━━━\u001b[0m\u001b[37m\u001b[0m \u001b[1m0s\u001b[0m 19ms/step\n",
            "---- Prediction summary -----\n",
            "{0: 'positive', 1: 'neutral', 2: 'negative'}\n",
            "Softmax probability: [[9.4049463e-11 1.7162871e-07 9.9999988e-01]]\n",
            "Predicted sentiment: negative\n"
          ]
        }
      ]
    },
    {
      "cell_type": "markdown",
      "source": [
        "# Deployment"
      ],
      "metadata": {
        "id": "OhkI7wz92n_v"
      }
    },
    {
      "cell_type": "markdown",
      "source": [
        "## Using Pickle"
      ],
      "metadata": {
        "id": "qv6vZ1GX5dFK"
      }
    },
    {
      "cell_type": "code",
      "source": [
        "with open('model.pkl', 'wb') as file:\n",
        "  pickle.dump(loaded_model, file)"
      ],
      "metadata": {
        "id": "ilJXPFG6vPDc"
      },
      "execution_count": null,
      "outputs": []
    },
    {
      "cell_type": "code",
      "source": [
        "files.download('model.pkl')"
      ],
      "metadata": {
        "id": "TnwOYqmf5Y-c"
      },
      "execution_count": null,
      "outputs": []
    }
  ]
}